{
 "cells": [
  {
   "cell_type": "code",
   "execution_count": 1,
   "metadata": {
    "collapsed": false
   },
   "outputs": [],
   "source": [
    "import graphlab as gl\n",
    "import graphlab.aggregate as agg\n",
    "import datetime as dt\n",
    "from IPython.display import display,Image\n",
    "import os\n",
    "import re"
   ]
  },
  {
   "cell_type": "markdown",
   "metadata": {},
   "source": [
    "#Changing the path"
   ]
  },
  {
   "cell_type": "code",
   "execution_count": 2,
   "metadata": {
    "collapsed": false
   },
   "outputs": [
    {
     "name": "stdout",
     "output_type": "stream",
     "text": [
      "C:\\Users\\jeeva\\Graphlab\\Project\n",
      "D:\\BGSU\\2nd Sem\\BigData\\Main Project\\data\n"
     ]
    }
   ],
   "source": [
    "print os.getcwd()\n",
    "original_path = os.getcwd()\n",
    "current_path = \"D:\\\\BGSU\\\\2nd Sem\\\\BigData\\\\Main Project\\\\data\"\n",
    "os.chdir(current_path)\n",
    "print os.getcwd()"
   ]
  },
  {
   "cell_type": "code",
   "execution_count": 3,
   "metadata": {
    "collapsed": true
   },
   "outputs": [],
   "source": [
    "files = os.listdir(current_path)"
   ]
  },
  {
   "cell_type": "code",
   "execution_count": 4,
   "metadata": {
    "collapsed": false
   },
   "outputs": [
    {
     "data": {
      "text/plain": [
       "15"
      ]
     },
     "execution_count": 4,
     "metadata": {},
     "output_type": "execute_result"
    }
   ],
   "source": [
    "len(files)"
   ]
  },
  {
   "cell_type": "markdown",
   "metadata": {},
   "source": [
    "# Combining all categories rating data"
   ]
  },
  {
   "cell_type": "code",
   "execution_count": 5,
   "metadata": {
    "collapsed": false
   },
   "outputs": [
    {
     "name": "stdout",
     "output_type": "stream",
     "text": [
      "This non-commercial license of GraphLab Create for academic use is assigned to janne@bgsu.edu and will expire on March 19, 2018.\n"
     ]
    },
    {
     "name": "stderr",
     "output_type": "stream",
     "text": [
      "[INFO] graphlab.cython.cy_server: GraphLab Create v2.1 started. Logging: C:\\Users\\jeeva\\AppData\\Local\\Temp\\graphlab_server_1492878793.log.0\n"
     ]
    },
    {
     "data": {
      "text/html": [
       "<pre>Finished parsing file D:\\BGSU\\2nd Sem\\BigData\\Main Project\\data\\ratings_Automotive.csv</pre>"
      ],
      "text/plain": [
       "Finished parsing file D:\\BGSU\\2nd Sem\\BigData\\Main Project\\data\\ratings_Automotive.csv"
      ]
     },
     "metadata": {},
     "output_type": "display_data"
    },
    {
     "data": {
      "text/html": [
       "<pre>Parsing completed. Parsed 100 lines in 1.52606 secs.</pre>"
      ],
      "text/plain": [
       "Parsing completed. Parsed 100 lines in 1.52606 secs."
      ]
     },
     "metadata": {},
     "output_type": "display_data"
    },
    {
     "data": {
      "text/html": [
       "<pre>Read 1286847 lines. Lines per second: 959211</pre>"
      ],
      "text/plain": [
       "Read 1286847 lines. Lines per second: 959211"
      ]
     },
     "metadata": {},
     "output_type": "display_data"
    },
    {
     "data": {
      "text/html": [
       "<pre>Finished parsing file D:\\BGSU\\2nd Sem\\BigData\\Main Project\\data\\ratings_Automotive.csv</pre>"
      ],
      "text/plain": [
       "Finished parsing file D:\\BGSU\\2nd Sem\\BigData\\Main Project\\data\\ratings_Automotive.csv"
      ]
     },
     "metadata": {},
     "output_type": "display_data"
    },
    {
     "data": {
      "text/html": [
       "<pre>Parsing completed. Parsed 1373768 lines in 1.38167 secs.</pre>"
      ],
      "text/plain": [
       "Parsing completed. Parsed 1373768 lines in 1.38167 secs."
      ]
     },
     "metadata": {},
     "output_type": "display_data"
    },
    {
     "data": {
      "text/html": [
       "<pre>Finished parsing file D:\\BGSU\\2nd Sem\\BigData\\Main Project\\data\\ratings_Baby.csv</pre>"
      ],
      "text/plain": [
       "Finished parsing file D:\\BGSU\\2nd Sem\\BigData\\Main Project\\data\\ratings_Baby.csv"
      ]
     },
     "metadata": {},
     "output_type": "display_data"
    },
    {
     "data": {
      "text/html": [
       "<pre>Parsing completed. Parsed 100 lines in 1.09892 secs.</pre>"
      ],
      "text/plain": [
       "Parsing completed. Parsed 100 lines in 1.09892 secs."
      ]
     },
     "metadata": {},
     "output_type": "display_data"
    },
    {
     "data": {
      "text/html": [
       "<pre>Finished parsing file D:\\BGSU\\2nd Sem\\BigData\\Main Project\\data\\ratings_Baby.csv</pre>"
      ],
      "text/plain": [
       "Finished parsing file D:\\BGSU\\2nd Sem\\BigData\\Main Project\\data\\ratings_Baby.csv"
      ]
     },
     "metadata": {},
     "output_type": "display_data"
    },
    {
     "data": {
      "text/html": [
       "<pre>Parsing completed. Parsed 915446 lines in 0.758016 secs.</pre>"
      ],
      "text/plain": [
       "Parsing completed. Parsed 915446 lines in 0.758016 secs."
      ]
     },
     "metadata": {},
     "output_type": "display_data"
    },
    {
     "data": {
      "text/html": [
       "<pre>Finished parsing file D:\\BGSU\\2nd Sem\\BigData\\Main Project\\data\\ratings_Beauty.csv</pre>"
      ],
      "text/plain": [
       "Finished parsing file D:\\BGSU\\2nd Sem\\BigData\\Main Project\\data\\ratings_Beauty.csv"
      ]
     },
     "metadata": {},
     "output_type": "display_data"
    },
    {
     "data": {
      "text/html": [
       "<pre>Parsing completed. Parsed 100 lines in 1.3917 secs.</pre>"
      ],
      "text/plain": [
       "Parsing completed. Parsed 100 lines in 1.3917 secs."
      ]
     },
     "metadata": {},
     "output_type": "display_data"
    },
    {
     "data": {
      "text/html": [
       "<pre>Read 1286777 lines. Lines per second: 1.19382e+006</pre>"
      ],
      "text/plain": [
       "Read 1286777 lines. Lines per second: 1.19382e+006"
      ]
     },
     "metadata": {},
     "output_type": "display_data"
    },
    {
     "data": {
      "text/html": [
       "<pre>Finished parsing file D:\\BGSU\\2nd Sem\\BigData\\Main Project\\data\\ratings_Beauty.csv</pre>"
      ],
      "text/plain": [
       "Finished parsing file D:\\BGSU\\2nd Sem\\BigData\\Main Project\\data\\ratings_Beauty.csv"
      ]
     },
     "metadata": {},
     "output_type": "display_data"
    },
    {
     "data": {
      "text/html": [
       "<pre>Parsing completed. Parsed 2023070 lines in 1.40373 secs.</pre>"
      ],
      "text/plain": [
       "Parsing completed. Parsed 2023070 lines in 1.40373 secs."
      ]
     },
     "metadata": {},
     "output_type": "display_data"
    },
    {
     "data": {
      "text/html": [
       "<pre>Finished parsing file D:\\BGSU\\2nd Sem\\BigData\\Main Project\\data\\ratings_Cell_Phones_and_Accessories.csv</pre>"
      ],
      "text/plain": [
       "Finished parsing file D:\\BGSU\\2nd Sem\\BigData\\Main Project\\data\\ratings_Cell_Phones_and_Accessories.csv"
      ]
     },
     "metadata": {},
     "output_type": "display_data"
    },
    {
     "data": {
      "text/html": [
       "<pre>Parsing completed. Parsed 100 lines in 1.33254 secs.</pre>"
      ],
      "text/plain": [
       "Parsing completed. Parsed 100 lines in 1.33254 secs."
      ]
     },
     "metadata": {},
     "output_type": "display_data"
    },
    {
     "data": {
      "text/html": [
       "<pre>Finished parsing file D:\\BGSU\\2nd Sem\\BigData\\Main Project\\data\\ratings_Cell_Phones_and_Accessories.csv</pre>"
      ],
      "text/plain": [
       "Finished parsing file D:\\BGSU\\2nd Sem\\BigData\\Main Project\\data\\ratings_Cell_Phones_and_Accessories.csv"
      ]
     },
     "metadata": {},
     "output_type": "display_data"
    },
    {
     "data": {
      "text/html": [
       "<pre>Parsing completed. Parsed 3447249 lines in 2.06451 secs.</pre>"
      ],
      "text/plain": [
       "Parsing completed. Parsed 3447249 lines in 2.06451 secs."
      ]
     },
     "metadata": {},
     "output_type": "display_data"
    },
    {
     "data": {
      "text/html": [
       "<pre>Finished parsing file D:\\BGSU\\2nd Sem\\BigData\\Main Project\\data\\ratings_Digital_Music.csv</pre>"
      ],
      "text/plain": [
       "Finished parsing file D:\\BGSU\\2nd Sem\\BigData\\Main Project\\data\\ratings_Digital_Music.csv"
      ]
     },
     "metadata": {},
     "output_type": "display_data"
    },
    {
     "data": {
      "text/html": [
       "<pre>Parsing completed. Parsed 100 lines in 0.879338 secs.</pre>"
      ],
      "text/plain": [
       "Parsing completed. Parsed 100 lines in 0.879338 secs."
      ]
     },
     "metadata": {},
     "output_type": "display_data"
    },
    {
     "data": {
      "text/html": [
       "<pre>Finished parsing file D:\\BGSU\\2nd Sem\\BigData\\Main Project\\data\\ratings_Digital_Music.csv</pre>"
      ],
      "text/plain": [
       "Finished parsing file D:\\BGSU\\2nd Sem\\BigData\\Main Project\\data\\ratings_Digital_Music.csv"
      ]
     },
     "metadata": {},
     "output_type": "display_data"
    },
    {
     "data": {
      "text/html": [
       "<pre>Parsing completed. Parsed 836006 lines in 0.705877 secs.</pre>"
      ],
      "text/plain": [
       "Parsing completed. Parsed 836006 lines in 0.705877 secs."
      ]
     },
     "metadata": {},
     "output_type": "display_data"
    },
    {
     "data": {
      "text/html": [
       "<pre>Finished parsing file D:\\BGSU\\2nd Sem\\BigData\\Main Project\\data\\ratings_Electronics.csv</pre>"
      ],
      "text/plain": [
       "Finished parsing file D:\\BGSU\\2nd Sem\\BigData\\Main Project\\data\\ratings_Electronics.csv"
      ]
     },
     "metadata": {},
     "output_type": "display_data"
    },
    {
     "data": {
      "text/html": [
       "<pre>Parsing completed. Parsed 100 lines in 1.35861 secs.</pre>"
      ],
      "text/plain": [
       "Parsing completed. Parsed 100 lines in 1.35861 secs."
      ]
     },
     "metadata": {},
     "output_type": "display_data"
    },
    {
     "data": {
      "text/html": [
       "<pre>Read 1287444 lines. Lines per second: 929102</pre>"
      ],
      "text/plain": [
       "Read 1287444 lines. Lines per second: 929102"
      ]
     },
     "metadata": {},
     "output_type": "display_data"
    },
    {
     "data": {
      "text/html": [
       "<pre>Finished parsing file D:\\BGSU\\2nd Sem\\BigData\\Main Project\\data\\ratings_Electronics.csv</pre>"
      ],
      "text/plain": [
       "Finished parsing file D:\\BGSU\\2nd Sem\\BigData\\Main Project\\data\\ratings_Electronics.csv"
      ]
     },
     "metadata": {},
     "output_type": "display_data"
    },
    {
     "data": {
      "text/html": [
       "<pre>Parsing completed. Parsed 7824482 lines in 4.84791 secs.</pre>"
      ],
      "text/plain": [
       "Parsing completed. Parsed 7824482 lines in 4.84791 secs."
      ]
     },
     "metadata": {},
     "output_type": "display_data"
    },
    {
     "data": {
      "text/html": [
       "<pre>Finished parsing file D:\\BGSU\\2nd Sem\\BigData\\Main Project\\data\\ratings_Grocery_and_Gourmet_Food.csv</pre>"
      ],
      "text/plain": [
       "Finished parsing file D:\\BGSU\\2nd Sem\\BigData\\Main Project\\data\\ratings_Grocery_and_Gourmet_Food.csv"
      ]
     },
     "metadata": {},
     "output_type": "display_data"
    },
    {
     "data": {
      "text/html": [
       "<pre>Parsing completed. Parsed 100 lines in 1.40273 secs.</pre>"
      ],
      "text/plain": [
       "Parsing completed. Parsed 100 lines in 1.40273 secs."
      ]
     },
     "metadata": {},
     "output_type": "display_data"
    },
    {
     "data": {
      "text/html": [
       "<pre>Read 1286881 lines. Lines per second: 926019</pre>"
      ],
      "text/plain": [
       "Read 1286881 lines. Lines per second: 926019"
      ]
     },
     "metadata": {},
     "output_type": "display_data"
    },
    {
     "data": {
      "text/html": [
       "<pre>Finished parsing file D:\\BGSU\\2nd Sem\\BigData\\Main Project\\data\\ratings_Grocery_and_Gourmet_Food.csv</pre>"
      ],
      "text/plain": [
       "Finished parsing file D:\\BGSU\\2nd Sem\\BigData\\Main Project\\data\\ratings_Grocery_and_Gourmet_Food.csv"
      ]
     },
     "metadata": {},
     "output_type": "display_data"
    },
    {
     "data": {
      "text/html": [
       "<pre>Parsing completed. Parsed 1297156 lines in 1.3927 secs.</pre>"
      ],
      "text/plain": [
       "Parsing completed. Parsed 1297156 lines in 1.3927 secs."
      ]
     },
     "metadata": {},
     "output_type": "display_data"
    },
    {
     "data": {
      "text/html": [
       "<pre>Finished parsing file D:\\BGSU\\2nd Sem\\BigData\\Main Project\\data\\ratings_Health_and_Personal_Care.csv</pre>"
      ],
      "text/plain": [
       "Finished parsing file D:\\BGSU\\2nd Sem\\BigData\\Main Project\\data\\ratings_Health_and_Personal_Care.csv"
      ]
     },
     "metadata": {},
     "output_type": "display_data"
    },
    {
     "data": {
      "text/html": [
       "<pre>Parsing completed. Parsed 100 lines in 1.56014 secs.</pre>"
      ],
      "text/plain": [
       "Parsing completed. Parsed 100 lines in 1.56014 secs."
      ]
     },
     "metadata": {},
     "output_type": "display_data"
    },
    {
     "data": {
      "text/html": [
       "<pre>Finished parsing file D:\\BGSU\\2nd Sem\\BigData\\Main Project\\data\\ratings_Health_and_Personal_Care.csv</pre>"
      ],
      "text/plain": [
       "Finished parsing file D:\\BGSU\\2nd Sem\\BigData\\Main Project\\data\\ratings_Health_and_Personal_Care.csv"
      ]
     },
     "metadata": {},
     "output_type": "display_data"
    },
    {
     "data": {
      "text/html": [
       "<pre>Parsing completed. Parsed 2982326 lines in 2.54477 secs.</pre>"
      ],
      "text/plain": [
       "Parsing completed. Parsed 2982326 lines in 2.54477 secs."
      ]
     },
     "metadata": {},
     "output_type": "display_data"
    },
    {
     "data": {
      "text/html": [
       "<pre>Finished parsing file D:\\BGSU\\2nd Sem\\BigData\\Main Project\\data\\ratings_Musical_Instruments.csv</pre>"
      ],
      "text/plain": [
       "Finished parsing file D:\\BGSU\\2nd Sem\\BigData\\Main Project\\data\\ratings_Musical_Instruments.csv"
      ]
     },
     "metadata": {},
     "output_type": "display_data"
    },
    {
     "data": {
      "text/html": [
       "<pre>Parsing completed. Parsed 100 lines in 0.542442 secs.</pre>"
      ],
      "text/plain": [
       "Parsing completed. Parsed 100 lines in 0.542442 secs."
      ]
     },
     "metadata": {},
     "output_type": "display_data"
    },
    {
     "data": {
      "text/html": [
       "<pre>Finished parsing file D:\\BGSU\\2nd Sem\\BigData\\Main Project\\data\\ratings_Musical_Instruments.csv</pre>"
      ],
      "text/plain": [
       "Finished parsing file D:\\BGSU\\2nd Sem\\BigData\\Main Project\\data\\ratings_Musical_Instruments.csv"
      ]
     },
     "metadata": {},
     "output_type": "display_data"
    },
    {
     "data": {
      "text/html": [
       "<pre>Parsing completed. Parsed 500176 lines in 0.473258 secs.</pre>"
      ],
      "text/plain": [
       "Parsing completed. Parsed 500176 lines in 0.473258 secs."
      ]
     },
     "metadata": {},
     "output_type": "display_data"
    },
    {
     "data": {
      "text/html": [
       "<pre>Finished parsing file D:\\BGSU\\2nd Sem\\BigData\\Main Project\\data\\ratings_Office_Products.csv</pre>"
      ],
      "text/plain": [
       "Finished parsing file D:\\BGSU\\2nd Sem\\BigData\\Main Project\\data\\ratings_Office_Products.csv"
      ]
     },
     "metadata": {},
     "output_type": "display_data"
    },
    {
     "data": {
      "text/html": [
       "<pre>Parsing completed. Parsed 100 lines in 1.57518 secs.</pre>"
      ],
      "text/plain": [
       "Parsing completed. Parsed 100 lines in 1.57518 secs."
      ]
     },
     "metadata": {},
     "output_type": "display_data"
    },
    {
     "data": {
      "text/html": [
       "<pre>Finished parsing file D:\\BGSU\\2nd Sem\\BigData\\Main Project\\data\\ratings_Office_Products.csv</pre>"
      ],
      "text/plain": [
       "Finished parsing file D:\\BGSU\\2nd Sem\\BigData\\Main Project\\data\\ratings_Office_Products.csv"
      ]
     },
     "metadata": {},
     "output_type": "display_data"
    },
    {
     "data": {
      "text/html": [
       "<pre>Parsing completed. Parsed 1243186 lines in 1.22525 secs.</pre>"
      ],
      "text/plain": [
       "Parsing completed. Parsed 1243186 lines in 1.22525 secs."
      ]
     },
     "metadata": {},
     "output_type": "display_data"
    },
    {
     "data": {
      "text/html": [
       "<pre>Finished parsing file D:\\BGSU\\2nd Sem\\BigData\\Main Project\\data\\ratings_Patio_Lawn_and_Garden.csv</pre>"
      ],
      "text/plain": [
       "Finished parsing file D:\\BGSU\\2nd Sem\\BigData\\Main Project\\data\\ratings_Patio_Lawn_and_Garden.csv"
      ]
     },
     "metadata": {},
     "output_type": "display_data"
    },
    {
     "data": {
      "text/html": [
       "<pre>Parsing completed. Parsed 100 lines in 1.09291 secs.</pre>"
      ],
      "text/plain": [
       "Parsing completed. Parsed 100 lines in 1.09291 secs."
      ]
     },
     "metadata": {},
     "output_type": "display_data"
    },
    {
     "data": {
      "text/html": [
       "<pre>Finished parsing file D:\\BGSU\\2nd Sem\\BigData\\Main Project\\data\\ratings_Patio_Lawn_and_Garden.csv</pre>"
      ],
      "text/plain": [
       "Finished parsing file D:\\BGSU\\2nd Sem\\BigData\\Main Project\\data\\ratings_Patio_Lawn_and_Garden.csv"
      ]
     },
     "metadata": {},
     "output_type": "display_data"
    },
    {
     "data": {
      "text/html": [
       "<pre>Parsing completed. Parsed 993490 lines in 1.19518 secs.</pre>"
      ],
      "text/plain": [
       "Parsing completed. Parsed 993490 lines in 1.19518 secs."
      ]
     },
     "metadata": {},
     "output_type": "display_data"
    },
    {
     "data": {
      "text/html": [
       "<pre>Finished parsing file D:\\BGSU\\2nd Sem\\BigData\\Main Project\\data\\ratings_Pet_Supplies.csv</pre>"
      ],
      "text/plain": [
       "Finished parsing file D:\\BGSU\\2nd Sem\\BigData\\Main Project\\data\\ratings_Pet_Supplies.csv"
      ]
     },
     "metadata": {},
     "output_type": "display_data"
    },
    {
     "data": {
      "text/html": [
       "<pre>Parsing completed. Parsed 100 lines in 1.41175 secs.</pre>"
      ],
      "text/plain": [
       "Parsing completed. Parsed 100 lines in 1.41175 secs."
      ]
     },
     "metadata": {},
     "output_type": "display_data"
    },
    {
     "data": {
      "text/html": [
       "<pre>Finished parsing file D:\\BGSU\\2nd Sem\\BigData\\Main Project\\data\\ratings_Pet_Supplies.csv</pre>"
      ],
      "text/plain": [
       "Finished parsing file D:\\BGSU\\2nd Sem\\BigData\\Main Project\\data\\ratings_Pet_Supplies.csv"
      ]
     },
     "metadata": {},
     "output_type": "display_data"
    },
    {
     "data": {
      "text/html": [
       "<pre>Parsing completed. Parsed 1235316 lines in 1.31449 secs.</pre>"
      ],
      "text/plain": [
       "Parsing completed. Parsed 1235316 lines in 1.31449 secs."
      ]
     },
     "metadata": {},
     "output_type": "display_data"
    },
    {
     "data": {
      "text/html": [
       "<pre>Finished parsing file D:\\BGSU\\2nd Sem\\BigData\\Main Project\\data\\ratings_Tools_and_Home_Improvement.csv</pre>"
      ],
      "text/plain": [
       "Finished parsing file D:\\BGSU\\2nd Sem\\BigData\\Main Project\\data\\ratings_Tools_and_Home_Improvement.csv"
      ]
     },
     "metadata": {},
     "output_type": "display_data"
    },
    {
     "data": {
      "text/html": [
       "<pre>Parsing completed. Parsed 100 lines in 1.40875 secs.</pre>"
      ],
      "text/plain": [
       "Parsing completed. Parsed 100 lines in 1.40875 secs."
      ]
     },
     "metadata": {},
     "output_type": "display_data"
    },
    {
     "data": {
      "text/html": [
       "<pre>Read 1287057 lines. Lines per second: 946633</pre>"
      ],
      "text/plain": [
       "Read 1287057 lines. Lines per second: 946633"
      ]
     },
     "metadata": {},
     "output_type": "display_data"
    },
    {
     "data": {
      "text/html": [
       "<pre>Finished parsing file D:\\BGSU\\2nd Sem\\BigData\\Main Project\\data\\ratings_Tools_and_Home_Improvement.csv</pre>"
      ],
      "text/plain": [
       "Finished parsing file D:\\BGSU\\2nd Sem\\BigData\\Main Project\\data\\ratings_Tools_and_Home_Improvement.csv"
      ]
     },
     "metadata": {},
     "output_type": "display_data"
    },
    {
     "data": {
      "text/html": [
       "<pre>Parsing completed. Parsed 1926047 lines in 1.77873 secs.</pre>"
      ],
      "text/plain": [
       "Parsing completed. Parsed 1926047 lines in 1.77873 secs."
      ]
     },
     "metadata": {},
     "output_type": "display_data"
    },
    {
     "data": {
      "text/html": [
       "<pre>Finished parsing file D:\\BGSU\\2nd Sem\\BigData\\Main Project\\data\\ratings_Toys_and_Games.csv</pre>"
      ],
      "text/plain": [
       "Finished parsing file D:\\BGSU\\2nd Sem\\BigData\\Main Project\\data\\ratings_Toys_and_Games.csv"
      ]
     },
     "metadata": {},
     "output_type": "display_data"
    },
    {
     "data": {
      "text/html": [
       "<pre>Parsing completed. Parsed 100 lines in 1.3165 secs.</pre>"
      ],
      "text/plain": [
       "Parsing completed. Parsed 100 lines in 1.3165 secs."
      ]
     },
     "metadata": {},
     "output_type": "display_data"
    },
    {
     "data": {
      "text/html": [
       "<pre>Finished parsing file D:\\BGSU\\2nd Sem\\BigData\\Main Project\\data\\ratings_Toys_and_Games.csv</pre>"
      ],
      "text/plain": [
       "Finished parsing file D:\\BGSU\\2nd Sem\\BigData\\Main Project\\data\\ratings_Toys_and_Games.csv"
      ]
     },
     "metadata": {},
     "output_type": "display_data"
    },
    {
     "data": {
      "text/html": [
       "<pre>Parsing completed. Parsed 2252771 lines in 1.55115 secs.</pre>"
      ],
      "text/plain": [
       "Parsing completed. Parsed 2252771 lines in 1.55115 secs."
      ]
     },
     "metadata": {},
     "output_type": "display_data"
    },
    {
     "data": {
      "text/html": [
       "<pre>Finished parsing file D:\\BGSU\\2nd Sem\\BigData\\Main Project\\data\\ratings_Video_Games.csv</pre>"
      ],
      "text/plain": [
       "Finished parsing file D:\\BGSU\\2nd Sem\\BigData\\Main Project\\data\\ratings_Video_Games.csv"
      ]
     },
     "metadata": {},
     "output_type": "display_data"
    },
    {
     "data": {
      "text/html": [
       "<pre>Parsing completed. Parsed 100 lines in 1.33084 secs.</pre>"
      ],
      "text/plain": [
       "Parsing completed. Parsed 100 lines in 1.33084 secs."
      ]
     },
     "metadata": {},
     "output_type": "display_data"
    },
    {
     "data": {
      "text/html": [
       "<pre>Read 1287436 lines. Lines per second: 1.29698e+006</pre>"
      ],
      "text/plain": [
       "Read 1287436 lines. Lines per second: 1.29698e+006"
      ]
     },
     "metadata": {},
     "output_type": "display_data"
    },
    {
     "data": {
      "text/html": [
       "<pre>Finished parsing file D:\\BGSU\\2nd Sem\\BigData\\Main Project\\data\\ratings_Video_Games.csv</pre>"
      ],
      "text/plain": [
       "Finished parsing file D:\\BGSU\\2nd Sem\\BigData\\Main Project\\data\\ratings_Video_Games.csv"
      ]
     },
     "metadata": {},
     "output_type": "display_data"
    },
    {
     "data": {
      "text/html": [
       "<pre>Parsing completed. Parsed 1324753 lines in 1.00169 secs.</pre>"
      ],
      "text/plain": [
       "Parsing completed. Parsed 1324753 lines in 1.00169 secs."
      ]
     },
     "metadata": {},
     "output_type": "display_data"
    }
   ],
   "source": [
    "count = 1\n",
    "for file in files:\n",
    "    category = re.search(r'ratings_(.*).csv',file)\n",
    "    if count > 1 and count <= 24 :\n",
    "        temp = gl.SFrame.read_csv(file,header=False,\n",
    "                                                    column_type_hints={ 'X1':str, 'X2':str, 'X3':float, 'X4':long})\n",
    "        temp.rename({'X1': 'userId', 'X2':'itemId','X3': 'rating', 'X4':'timestamp'})\n",
    "        temp['timestamp'] = temp['timestamp'].astype(dt.datetime)\n",
    "        temp['category'] = category.group(1)\n",
    "        data = data.append(temp)\n",
    "    else:\n",
    "        data=gl.SFrame.read_csv(file,header=False,\n",
    "                                     column_type_hints={ 'X1':str, 'X2':str, 'X3':float, 'X4':long})\n",
    "        data.rename({'X1': 'userId', 'X2':'itemId','X3': 'rating', 'X4':'timestamp'})\n",
    "        data['timestamp'] = data['timestamp'].astype(dt.datetime)\n",
    "        data['category'] = category.group(1)\n",
    "        \n",
    "    count += 1"
   ]
  },
  {
   "cell_type": "code",
   "execution_count": 6,
   "metadata": {
    "collapsed": false
   },
   "outputs": [
    {
     "data": {
      "text/plain": [
       "30175242"
      ]
     },
     "execution_count": 6,
     "metadata": {},
     "output_type": "execute_result"
    }
   ],
   "source": [
    "len(data)"
   ]
  },
  {
   "cell_type": "code",
   "execution_count": 7,
   "metadata": {
    "collapsed": false
   },
   "outputs": [
    {
     "data": {
      "text/html": [
       "<div style=\"max-height:1000px;max-width:1500px;overflow:auto;\"><table frame=\"box\" rules=\"cols\">\n",
       "    <tr>\n",
       "        <th style=\"padding-left: 1em; padding-right: 1em; text-align: center\">userId</th>\n",
       "        <th style=\"padding-left: 1em; padding-right: 1em; text-align: center\">itemId</th>\n",
       "        <th style=\"padding-left: 1em; padding-right: 1em; text-align: center\">rating</th>\n",
       "        <th style=\"padding-left: 1em; padding-right: 1em; text-align: center\">timestamp</th>\n",
       "        <th style=\"padding-left: 1em; padding-right: 1em; text-align: center\">category</th>\n",
       "    </tr>\n",
       "    <tr>\n",
       "        <td style=\"padding-left: 1em; padding-right: 1em; text-align: center; vertical-align: top\">A108J5O7DG2WIM</td>\n",
       "        <td style=\"padding-left: 1em; padding-right: 1em; text-align: center; vertical-align: top\">0219400083</td>\n",
       "        <td style=\"padding-left: 1em; padding-right: 1em; text-align: center; vertical-align: top\">4.0</td>\n",
       "        <td style=\"padding-left: 1em; padding-right: 1em; text-align: center; vertical-align: top\">2013-08-17 00:00:00</td>\n",
       "        <td style=\"padding-left: 1em; padding-right: 1em; text-align: center; vertical-align: top\">Automotive</td>\n",
       "    </tr>\n",
       "    <tr>\n",
       "        <td style=\"padding-left: 1em; padding-right: 1em; text-align: center; vertical-align: top\">A1QBLUSZW281TA</td>\n",
       "        <td style=\"padding-left: 1em; padding-right: 1em; text-align: center; vertical-align: top\">0715000322</td>\n",
       "        <td style=\"padding-left: 1em; padding-right: 1em; text-align: center; vertical-align: top\">5.0</td>\n",
       "        <td style=\"padding-left: 1em; padding-right: 1em; text-align: center; vertical-align: top\">2014-04-08 00:00:00</td>\n",
       "        <td style=\"padding-left: 1em; padding-right: 1em; text-align: center; vertical-align: top\">Automotive</td>\n",
       "    </tr>\n",
       "    <tr>\n",
       "        <td style=\"padding-left: 1em; padding-right: 1em; text-align: center; vertical-align: top\">A3B40ZIZJ3HEP7</td>\n",
       "        <td style=\"padding-left: 1em; padding-right: 1em; text-align: center; vertical-align: top\">0970408641</td>\n",
       "        <td style=\"padding-left: 1em; padding-right: 1em; text-align: center; vertical-align: top\">1.0</td>\n",
       "        <td style=\"padding-left: 1em; padding-right: 1em; text-align: center; vertical-align: top\">2012-03-19 00:00:00</td>\n",
       "        <td style=\"padding-left: 1em; padding-right: 1em; text-align: center; vertical-align: top\">Automotive</td>\n",
       "    </tr>\n",
       "    <tr>\n",
       "        <td style=\"padding-left: 1em; padding-right: 1em; text-align: center; vertical-align: top\">A1DUAXYX5WHSX1</td>\n",
       "        <td style=\"padding-left: 1em; padding-right: 1em; text-align: center; vertical-align: top\">1940825172</td>\n",
       "        <td style=\"padding-left: 1em; padding-right: 1em; text-align: center; vertical-align: top\">4.0</td>\n",
       "        <td style=\"padding-left: 1em; padding-right: 1em; text-align: center; vertical-align: top\">2014-07-07 00:00:00</td>\n",
       "        <td style=\"padding-left: 1em; padding-right: 1em; text-align: center; vertical-align: top\">Automotive</td>\n",
       "    </tr>\n",
       "    <tr>\n",
       "        <td style=\"padding-left: 1em; padding-right: 1em; text-align: center; vertical-align: top\">A1VS7YWE0NCAS3</td>\n",
       "        <td style=\"padding-left: 1em; padding-right: 1em; text-align: center; vertical-align: top\">2409862403</td>\n",
       "        <td style=\"padding-left: 1em; padding-right: 1em; text-align: center; vertical-align: top\">4.0</td>\n",
       "        <td style=\"padding-left: 1em; padding-right: 1em; text-align: center; vertical-align: top\">2013-10-10 00:00:00</td>\n",
       "        <td style=\"padding-left: 1em; padding-right: 1em; text-align: center; vertical-align: top\">Automotive</td>\n",
       "    </tr>\n",
       "    <tr>\n",
       "        <td style=\"padding-left: 1em; padding-right: 1em; text-align: center; vertical-align: top\">AY04DS9CPM1YH</td>\n",
       "        <td style=\"padding-left: 1em; padding-right: 1em; text-align: center; vertical-align: top\">2409862403</td>\n",
       "        <td style=\"padding-left: 1em; padding-right: 1em; text-align: center; vertical-align: top\">1.0</td>\n",
       "        <td style=\"padding-left: 1em; padding-right: 1em; text-align: center; vertical-align: top\">2013-10-11 00:00:00</td>\n",
       "        <td style=\"padding-left: 1em; padding-right: 1em; text-align: center; vertical-align: top\">Automotive</td>\n",
       "    </tr>\n",
       "    <tr>\n",
       "        <td style=\"padding-left: 1em; padding-right: 1em; text-align: center; vertical-align: top\">A2HHDDYLFIQWYA</td>\n",
       "        <td style=\"padding-left: 1em; padding-right: 1em; text-align: center; vertical-align: top\">3293390102</td>\n",
       "        <td style=\"padding-left: 1em; padding-right: 1em; text-align: center; vertical-align: top\">3.0</td>\n",
       "        <td style=\"padding-left: 1em; padding-right: 1em; text-align: center; vertical-align: top\">2013-03-27 00:00:00</td>\n",
       "        <td style=\"padding-left: 1em; padding-right: 1em; text-align: center; vertical-align: top\">Automotive</td>\n",
       "    </tr>\n",
       "    <tr>\n",
       "        <td style=\"padding-left: 1em; padding-right: 1em; text-align: center; vertical-align: top\">A12T7O6K54JTJM</td>\n",
       "        <td style=\"padding-left: 1em; padding-right: 1em; text-align: center; vertical-align: top\">3696387606</td>\n",
       "        <td style=\"padding-left: 1em; padding-right: 1em; text-align: center; vertical-align: top\">2.0</td>\n",
       "        <td style=\"padding-left: 1em; padding-right: 1em; text-align: center; vertical-align: top\">2014-04-04 00:00:00</td>\n",
       "        <td style=\"padding-left: 1em; padding-right: 1em; text-align: center; vertical-align: top\">Automotive</td>\n",
       "    </tr>\n",
       "    <tr>\n",
       "        <td style=\"padding-left: 1em; padding-right: 1em; text-align: center; vertical-align: top\">A1UXFMMV5CPPJQ</td>\n",
       "        <td style=\"padding-left: 1em; padding-right: 1em; text-align: center; vertical-align: top\">3696387622</td>\n",
       "        <td style=\"padding-left: 1em; padding-right: 1em; text-align: center; vertical-align: top\">5.0</td>\n",
       "        <td style=\"padding-left: 1em; padding-right: 1em; text-align: center; vertical-align: top\">2013-10-16 00:00:00</td>\n",
       "        <td style=\"padding-left: 1em; padding-right: 1em; text-align: center; vertical-align: top\">Automotive</td>\n",
       "    </tr>\n",
       "    <tr>\n",
       "        <td style=\"padding-left: 1em; padding-right: 1em; text-align: center; vertical-align: top\">AR040DQNCVR0H</td>\n",
       "        <td style=\"padding-left: 1em; padding-right: 1em; text-align: center; vertical-align: top\">3696387622</td>\n",
       "        <td style=\"padding-left: 1em; padding-right: 1em; text-align: center; vertical-align: top\">5.0</td>\n",
       "        <td style=\"padding-left: 1em; padding-right: 1em; text-align: center; vertical-align: top\">2013-03-02 00:00:00</td>\n",
       "        <td style=\"padding-left: 1em; padding-right: 1em; text-align: center; vertical-align: top\">Automotive</td>\n",
       "    </tr>\n",
       "</table>\n",
       "[30175242 rows x 5 columns]<br/>Note: Only the head of the SFrame is printed.<br/>You can use print_rows(num_rows=m, num_columns=n) to print more rows and columns.\n",
       "</div>"
      ],
      "text/plain": [
       "Columns:\n",
       "\tuserId\tstr\n",
       "\titemId\tstr\n",
       "\trating\tfloat\n",
       "\ttimestamp\tdatetime\n",
       "\tcategory\tstr\n",
       "\n",
       "Rows: 30175242\n",
       "\n",
       "Data:\n",
       "+----------------+------------+--------+---------------------+------------+\n",
       "|     userId     |   itemId   | rating |      timestamp      |  category  |\n",
       "+----------------+------------+--------+---------------------+------------+\n",
       "| A108J5O7DG2WIM | 0219400083 |  4.0   | 2013-08-17 00:00:00 | Automotive |\n",
       "| A1QBLUSZW281TA | 0715000322 |  5.0   | 2014-04-08 00:00:00 | Automotive |\n",
       "| A3B40ZIZJ3HEP7 | 0970408641 |  1.0   | 2012-03-19 00:00:00 | Automotive |\n",
       "| A1DUAXYX5WHSX1 | 1940825172 |  4.0   | 2014-07-07 00:00:00 | Automotive |\n",
       "| A1VS7YWE0NCAS3 | 2409862403 |  4.0   | 2013-10-10 00:00:00 | Automotive |\n",
       "| AY04DS9CPM1YH  | 2409862403 |  1.0   | 2013-10-11 00:00:00 | Automotive |\n",
       "| A2HHDDYLFIQWYA | 3293390102 |  3.0   | 2013-03-27 00:00:00 | Automotive |\n",
       "| A12T7O6K54JTJM | 3696387606 |  2.0   | 2014-04-04 00:00:00 | Automotive |\n",
       "| A1UXFMMV5CPPJQ | 3696387622 |  5.0   | 2013-10-16 00:00:00 | Automotive |\n",
       "| AR040DQNCVR0H  | 3696387622 |  5.0   | 2013-03-02 00:00:00 | Automotive |\n",
       "+----------------+------------+--------+---------------------+------------+\n",
       "[30175242 rows x 5 columns]\n",
       "Note: Only the head of the SFrame is printed.\n",
       "You can use print_rows(num_rows=m, num_columns=n) to print more rows and columns."
      ]
     },
     "execution_count": 7,
     "metadata": {},
     "output_type": "execute_result"
    }
   ],
   "source": [
    "data"
   ]
  },
  {
   "cell_type": "code",
   "execution_count": 8,
   "metadata": {
    "collapsed": false
   },
   "outputs": [
    {
     "data": {
      "text/html": [
       "<div style=\"max-height:1000px;max-width:1500px;overflow:auto;\"><table frame=\"box\" rules=\"cols\">\n",
       "    <tr>\n",
       "        <th style=\"padding-left: 1em; padding-right: 1em; text-align: center\">userId</th>\n",
       "        <th style=\"padding-left: 1em; padding-right: 1em; text-align: center\">itemId</th>\n",
       "        <th style=\"padding-left: 1em; padding-right: 1em; text-align: center\">rating</th>\n",
       "        <th style=\"padding-left: 1em; padding-right: 1em; text-align: center\">timestamp</th>\n",
       "        <th style=\"padding-left: 1em; padding-right: 1em; text-align: center\">category</th>\n",
       "    </tr>\n",
       "    <tr>\n",
       "        <td style=\"padding-left: 1em; padding-right: 1em; text-align: center; vertical-align: top\">A108J5O7DG2WIM</td>\n",
       "        <td style=\"padding-left: 1em; padding-right: 1em; text-align: center; vertical-align: top\">0219400083</td>\n",
       "        <td style=\"padding-left: 1em; padding-right: 1em; text-align: center; vertical-align: top\">4.0</td>\n",
       "        <td style=\"padding-left: 1em; padding-right: 1em; text-align: center; vertical-align: top\">2013-08-17 00:00:00</td>\n",
       "        <td style=\"padding-left: 1em; padding-right: 1em; text-align: center; vertical-align: top\">Automotive</td>\n",
       "    </tr>\n",
       "    <tr>\n",
       "        <td style=\"padding-left: 1em; padding-right: 1em; text-align: center; vertical-align: top\">A1QBLUSZW281TA</td>\n",
       "        <td style=\"padding-left: 1em; padding-right: 1em; text-align: center; vertical-align: top\">0715000322</td>\n",
       "        <td style=\"padding-left: 1em; padding-right: 1em; text-align: center; vertical-align: top\">5.0</td>\n",
       "        <td style=\"padding-left: 1em; padding-right: 1em; text-align: center; vertical-align: top\">2014-04-08 00:00:00</td>\n",
       "        <td style=\"padding-left: 1em; padding-right: 1em; text-align: center; vertical-align: top\">Automotive</td>\n",
       "    </tr>\n",
       "    <tr>\n",
       "        <td style=\"padding-left: 1em; padding-right: 1em; text-align: center; vertical-align: top\">A3B40ZIZJ3HEP7</td>\n",
       "        <td style=\"padding-left: 1em; padding-right: 1em; text-align: center; vertical-align: top\">0970408641</td>\n",
       "        <td style=\"padding-left: 1em; padding-right: 1em; text-align: center; vertical-align: top\">1.0</td>\n",
       "        <td style=\"padding-left: 1em; padding-right: 1em; text-align: center; vertical-align: top\">2012-03-19 00:00:00</td>\n",
       "        <td style=\"padding-left: 1em; padding-right: 1em; text-align: center; vertical-align: top\">Automotive</td>\n",
       "    </tr>\n",
       "    <tr>\n",
       "        <td style=\"padding-left: 1em; padding-right: 1em; text-align: center; vertical-align: top\">A1DUAXYX5WHSX1</td>\n",
       "        <td style=\"padding-left: 1em; padding-right: 1em; text-align: center; vertical-align: top\">1940825172</td>\n",
       "        <td style=\"padding-left: 1em; padding-right: 1em; text-align: center; vertical-align: top\">4.0</td>\n",
       "        <td style=\"padding-left: 1em; padding-right: 1em; text-align: center; vertical-align: top\">2014-07-07 00:00:00</td>\n",
       "        <td style=\"padding-left: 1em; padding-right: 1em; text-align: center; vertical-align: top\">Automotive</td>\n",
       "    </tr>\n",
       "    <tr>\n",
       "        <td style=\"padding-left: 1em; padding-right: 1em; text-align: center; vertical-align: top\">A1VS7YWE0NCAS3</td>\n",
       "        <td style=\"padding-left: 1em; padding-right: 1em; text-align: center; vertical-align: top\">2409862403</td>\n",
       "        <td style=\"padding-left: 1em; padding-right: 1em; text-align: center; vertical-align: top\">4.0</td>\n",
       "        <td style=\"padding-left: 1em; padding-right: 1em; text-align: center; vertical-align: top\">2013-10-10 00:00:00</td>\n",
       "        <td style=\"padding-left: 1em; padding-right: 1em; text-align: center; vertical-align: top\">Automotive</td>\n",
       "    </tr>\n",
       "    <tr>\n",
       "        <td style=\"padding-left: 1em; padding-right: 1em; text-align: center; vertical-align: top\">AY04DS9CPM1YH</td>\n",
       "        <td style=\"padding-left: 1em; padding-right: 1em; text-align: center; vertical-align: top\">2409862403</td>\n",
       "        <td style=\"padding-left: 1em; padding-right: 1em; text-align: center; vertical-align: top\">1.0</td>\n",
       "        <td style=\"padding-left: 1em; padding-right: 1em; text-align: center; vertical-align: top\">2013-10-11 00:00:00</td>\n",
       "        <td style=\"padding-left: 1em; padding-right: 1em; text-align: center; vertical-align: top\">Automotive</td>\n",
       "    </tr>\n",
       "    <tr>\n",
       "        <td style=\"padding-left: 1em; padding-right: 1em; text-align: center; vertical-align: top\">A2HHDDYLFIQWYA</td>\n",
       "        <td style=\"padding-left: 1em; padding-right: 1em; text-align: center; vertical-align: top\">3293390102</td>\n",
       "        <td style=\"padding-left: 1em; padding-right: 1em; text-align: center; vertical-align: top\">3.0</td>\n",
       "        <td style=\"padding-left: 1em; padding-right: 1em; text-align: center; vertical-align: top\">2013-03-27 00:00:00</td>\n",
       "        <td style=\"padding-left: 1em; padding-right: 1em; text-align: center; vertical-align: top\">Automotive</td>\n",
       "    </tr>\n",
       "    <tr>\n",
       "        <td style=\"padding-left: 1em; padding-right: 1em; text-align: center; vertical-align: top\">A12T7O6K54JTJM</td>\n",
       "        <td style=\"padding-left: 1em; padding-right: 1em; text-align: center; vertical-align: top\">3696387606</td>\n",
       "        <td style=\"padding-left: 1em; padding-right: 1em; text-align: center; vertical-align: top\">2.0</td>\n",
       "        <td style=\"padding-left: 1em; padding-right: 1em; text-align: center; vertical-align: top\">2014-04-04 00:00:00</td>\n",
       "        <td style=\"padding-left: 1em; padding-right: 1em; text-align: center; vertical-align: top\">Automotive</td>\n",
       "    </tr>\n",
       "    <tr>\n",
       "        <td style=\"padding-left: 1em; padding-right: 1em; text-align: center; vertical-align: top\">A1UXFMMV5CPPJQ</td>\n",
       "        <td style=\"padding-left: 1em; padding-right: 1em; text-align: center; vertical-align: top\">3696387622</td>\n",
       "        <td style=\"padding-left: 1em; padding-right: 1em; text-align: center; vertical-align: top\">5.0</td>\n",
       "        <td style=\"padding-left: 1em; padding-right: 1em; text-align: center; vertical-align: top\">2013-10-16 00:00:00</td>\n",
       "        <td style=\"padding-left: 1em; padding-right: 1em; text-align: center; vertical-align: top\">Automotive</td>\n",
       "    </tr>\n",
       "    <tr>\n",
       "        <td style=\"padding-left: 1em; padding-right: 1em; text-align: center; vertical-align: top\">AR040DQNCVR0H</td>\n",
       "        <td style=\"padding-left: 1em; padding-right: 1em; text-align: center; vertical-align: top\">3696387622</td>\n",
       "        <td style=\"padding-left: 1em; padding-right: 1em; text-align: center; vertical-align: top\">5.0</td>\n",
       "        <td style=\"padding-left: 1em; padding-right: 1em; text-align: center; vertical-align: top\">2013-03-02 00:00:00</td>\n",
       "        <td style=\"padding-left: 1em; padding-right: 1em; text-align: center; vertical-align: top\">Automotive</td>\n",
       "    </tr>\n",
       "</table>\n",
       "[10 rows x 5 columns]<br/>\n",
       "</div>"
      ],
      "text/plain": [
       "Columns:\n",
       "\tuserId\tstr\n",
       "\titemId\tstr\n",
       "\trating\tfloat\n",
       "\ttimestamp\tdatetime\n",
       "\tcategory\tstr\n",
       "\n",
       "Rows: 10\n",
       "\n",
       "Data:\n",
       "+----------------+------------+--------+---------------------+------------+\n",
       "|     userId     |   itemId   | rating |      timestamp      |  category  |\n",
       "+----------------+------------+--------+---------------------+------------+\n",
       "| A108J5O7DG2WIM | 0219400083 |  4.0   | 2013-08-17 00:00:00 | Automotive |\n",
       "| A1QBLUSZW281TA | 0715000322 |  5.0   | 2014-04-08 00:00:00 | Automotive |\n",
       "| A3B40ZIZJ3HEP7 | 0970408641 |  1.0   | 2012-03-19 00:00:00 | Automotive |\n",
       "| A1DUAXYX5WHSX1 | 1940825172 |  4.0   | 2014-07-07 00:00:00 | Automotive |\n",
       "| A1VS7YWE0NCAS3 | 2409862403 |  4.0   | 2013-10-10 00:00:00 | Automotive |\n",
       "| AY04DS9CPM1YH  | 2409862403 |  1.0   | 2013-10-11 00:00:00 | Automotive |\n",
       "| A2HHDDYLFIQWYA | 3293390102 |  3.0   | 2013-03-27 00:00:00 | Automotive |\n",
       "| A12T7O6K54JTJM | 3696387606 |  2.0   | 2014-04-04 00:00:00 | Automotive |\n",
       "| A1UXFMMV5CPPJQ | 3696387622 |  5.0   | 2013-10-16 00:00:00 | Automotive |\n",
       "| AR040DQNCVR0H  | 3696387622 |  5.0   | 2013-03-02 00:00:00 | Automotive |\n",
       "+----------------+------------+--------+---------------------+------------+\n",
       "[10 rows x 5 columns]"
      ]
     },
     "execution_count": 8,
     "metadata": {},
     "output_type": "execute_result"
    }
   ],
   "source": [
    "data.head()"
   ]
  },
  {
   "cell_type": "code",
   "execution_count": 9,
   "metadata": {
    "collapsed": false
   },
   "outputs": [],
   "source": [
    "gl.canvas.set_target('ipynb')"
   ]
  },
  {
   "cell_type": "markdown",
   "metadata": {},
   "source": [
    "#Basic Analyze"
   ]
  },
  {
   "cell_type": "code",
   "execution_count": 10,
   "metadata": {
    "collapsed": false
   },
   "outputs": [],
   "source": [
    "user_rating_stats = data.groupby(key_columns='category',\n",
    "                               operations={\n",
    "                                   'mean_rating': agg.MEAN('rating'),\n",
    "                                   'std_rating': agg.STD('rating')\n",
    "                               })"
   ]
  },
  {
   "cell_type": "code",
   "execution_count": 11,
   "metadata": {
    "collapsed": false
   },
   "outputs": [
    {
     "data": {
      "text/html": [
       "<div style=\"max-height:1000px;max-width:1500px;overflow:auto;\"><table frame=\"box\" rules=\"cols\">\n",
       "    <tr>\n",
       "        <th style=\"padding-left: 1em; padding-right: 1em; text-align: center\">category</th>\n",
       "        <th style=\"padding-left: 1em; padding-right: 1em; text-align: center\">mean_rating</th>\n",
       "        <th style=\"padding-left: 1em; padding-right: 1em; text-align: center\">std_rating</th>\n",
       "    </tr>\n",
       "    <tr>\n",
       "        <td style=\"padding-left: 1em; padding-right: 1em; text-align: center; vertical-align: top\">Grocery_and_Gourmet_Food</td>\n",
       "        <td style=\"padding-left: 1em; padding-right: 1em; text-align: center; vertical-align: top\">4.25456305949</td>\n",
       "        <td style=\"padding-left: 1em; padding-right: 1em; text-align: center; vertical-align: top\">1.25395225532</td>\n",
       "    </tr>\n",
       "    <tr>\n",
       "        <td style=\"padding-left: 1em; padding-right: 1em; text-align: center; vertical-align: top\">Toys_and_Games</td>\n",
       "        <td style=\"padding-left: 1em; padding-right: 1em; text-align: center; vertical-align: top\">4.1498732006</td>\n",
       "        <td style=\"padding-left: 1em; padding-right: 1em; text-align: center; vertical-align: top\">1.2790793275</td>\n",
       "    </tr>\n",
       "    <tr>\n",
       "        <td style=\"padding-left: 1em; padding-right: 1em; text-align: center; vertical-align: top\">Pet_Supplies</td>\n",
       "        <td style=\"padding-left: 1em; padding-right: 1em; text-align: center; vertical-align: top\">4.11071418163</td>\n",
       "        <td style=\"padding-left: 1em; padding-right: 1em; text-align: center; vertical-align: top\">1.33167593154</td>\n",
       "    </tr>\n",
       "    <tr>\n",
       "        <td style=\"padding-left: 1em; padding-right: 1em; text-align: center; vertical-align: top\">Video_Games</td>\n",
       "        <td style=\"padding-left: 1em; padding-right: 1em; text-align: center; vertical-align: top\">3.97875377523</td>\n",
       "        <td style=\"padding-left: 1em; padding-right: 1em; text-align: center; vertical-align: top\">1.37898614648</td>\n",
       "    </tr>\n",
       "    <tr>\n",
       "        <td style=\"padding-left: 1em; padding-right: 1em; text-align: center; vertical-align: top\">Digital_Music</td>\n",
       "        <td style=\"padding-left: 1em; padding-right: 1em; text-align: center; vertical-align: top\">4.54024971113</td>\n",
       "        <td style=\"padding-left: 1em; padding-right: 1em; text-align: center; vertical-align: top\">0.958876698273</td>\n",
       "    </tr>\n",
       "    <tr>\n",
       "        <td style=\"padding-left: 1em; padding-right: 1em; text-align: center; vertical-align: top\">Musical_Instruments</td>\n",
       "        <td style=\"padding-left: 1em; padding-right: 1em; text-align: center; vertical-align: top\">4.2443499888</td>\n",
       "        <td style=\"padding-left: 1em; padding-right: 1em; text-align: center; vertical-align: top\">1.20337289844</td>\n",
       "    </tr>\n",
       "    <tr>\n",
       "        <td style=\"padding-left: 1em; padding-right: 1em; text-align: center; vertical-align: top\">Electronics</td>\n",
       "        <td style=\"padding-left: 1em; padding-right: 1em; text-align: center; vertical-align: top\">4.01233679111</td>\n",
       "        <td style=\"padding-left: 1em; padding-right: 1em; text-align: center; vertical-align: top\">1.38090973034</td>\n",
       "    </tr>\n",
       "    <tr>\n",
       "        <td style=\"padding-left: 1em; padding-right: 1em; text-align: center; vertical-align: top\">Health_and_Personal_Care</td>\n",
       "        <td style=\"padding-left: 1em; padding-right: 1em; text-align: center; vertical-align: top\">4.10797444679</td>\n",
       "        <td style=\"padding-left: 1em; padding-right: 1em; text-align: center; vertical-align: top\">1.33644815689</td>\n",
       "    </tr>\n",
       "    <tr>\n",
       "        <td style=\"padding-left: 1em; padding-right: 1em; text-align: center; vertical-align: top\">Beauty</td>\n",
       "        <td style=\"padding-left: 1em; padding-right: 1em; text-align: center; vertical-align: top\">4.14903587123</td>\n",
       "        <td style=\"padding-left: 1em; padding-right: 1em; text-align: center; vertical-align: top\">1.31150424957</td>\n",
       "    </tr>\n",
       "    <tr>\n",
       "        <td style=\"padding-left: 1em; padding-right: 1em; text-align: center; vertical-align: top\">Baby</td>\n",
       "        <td style=\"padding-left: 1em; padding-right: 1em; text-align: center; vertical-align: top\">4.11769454452</td>\n",
       "        <td style=\"padding-left: 1em; padding-right: 1em; text-align: center; vertical-align: top\">1.28945732323</td>\n",
       "    </tr>\n",
       "</table>\n",
       "[15 rows x 3 columns]<br/>Note: Only the head of the SFrame is printed.<br/>You can use print_rows(num_rows=m, num_columns=n) to print more rows and columns.\n",
       "</div>"
      ],
      "text/plain": [
       "Columns:\n",
       "\tcategory\tstr\n",
       "\tmean_rating\tfloat\n",
       "\tstd_rating\tfloat\n",
       "\n",
       "Rows: 15\n",
       "\n",
       "Data:\n",
       "+--------------------------+---------------+----------------+\n",
       "|         category         |  mean_rating  |   std_rating   |\n",
       "+--------------------------+---------------+----------------+\n",
       "| Grocery_and_Gourmet_Food | 4.25456305949 | 1.25395225532  |\n",
       "|      Toys_and_Games      |  4.1498732006 |  1.2790793275  |\n",
       "|       Pet_Supplies       | 4.11071418163 | 1.33167593154  |\n",
       "|       Video_Games        | 3.97875377523 | 1.37898614648  |\n",
       "|      Digital_Music       | 4.54024971113 | 0.958876698273 |\n",
       "|   Musical_Instruments    |  4.2443499888 | 1.20337289844  |\n",
       "|       Electronics        | 4.01233679111 | 1.38090973034  |\n",
       "| Health_and_Personal_Care | 4.10797444679 | 1.33644815689  |\n",
       "|          Beauty          | 4.14903587123 | 1.31150424957  |\n",
       "|           Baby           | 4.11769454452 | 1.28945732323  |\n",
       "+--------------------------+---------------+----------------+\n",
       "[15 rows x 3 columns]\n",
       "Note: Only the head of the SFrame is printed.\n",
       "You can use print_rows(num_rows=m, num_columns=n) to print more rows and columns."
      ]
     },
     "execution_count": 11,
     "metadata": {},
     "output_type": "execute_result"
    }
   ],
   "source": [
    "user_rating_stats"
   ]
  },
  {
   "cell_type": "markdown",
   "metadata": {},
   "source": [
    "# Combining all metadata"
   ]
  },
  {
   "cell_type": "code",
   "execution_count": 12,
   "metadata": {
    "collapsed": false
   },
   "outputs": [
    {
     "name": "stdout",
     "output_type": "stream",
     "text": [
      "D:\\BGSU\\2nd Sem\\BigData\\Main Project\\metadata\n"
     ]
    }
   ],
   "source": [
    "current_path1 = \"D:\\\\BGSU\\\\2nd Sem\\\\BigData\\\\Main Project\\\\metadata\"\n",
    "os.chdir(current_path1)\n",
    "print os.getcwd()"
   ]
  },
  {
   "cell_type": "code",
   "execution_count": 13,
   "metadata": {
    "collapsed": false
   },
   "outputs": [
    {
     "data": {
      "text/plain": [
       "15"
      ]
     },
     "execution_count": 13,
     "metadata": {},
     "output_type": "execute_result"
    }
   ],
   "source": [
    "files = os.listdir(current_path1)\n",
    "len(files)"
   ]
  },
  {
   "cell_type": "code",
   "execution_count": 14,
   "metadata": {
    "collapsed": false
   },
   "outputs": [
    {
     "data": {
      "text/html": [
       "<pre>Finished parsing file D:\\BGSU\\2nd Sem\\BigData\\Main Project\\metadata\\meta_Automotive.json.gz</pre>"
      ],
      "text/plain": [
       "Finished parsing file D:\\BGSU\\2nd Sem\\BigData\\Main Project\\metadata\\meta_Automotive.json.gz"
      ]
     },
     "metadata": {},
     "output_type": "display_data"
    },
    {
     "data": {
      "text/html": [
       "<pre>Parsing completed. Parsed 100 lines in 0.926493 secs.</pre>"
      ],
      "text/plain": [
       "Parsing completed. Parsed 100 lines in 0.926493 secs."
      ]
     },
     "metadata": {},
     "output_type": "display_data"
    },
    {
     "name": "stdout",
     "output_type": "stream",
     "text": [
      "------------------------------------------------------\n",
      "Inferred types from first 100 line(s) of file as \n",
      "column_type_hints=[dict]\n",
      "If parsing fails due to incorrect types, you can correct\n",
      "the inferred type list above and pass it to read_csv in\n",
      "the column_type_hints argument\n",
      "------------------------------------------------------\n"
     ]
    },
    {
     "data": {
      "text/html": [
       "<pre>Read 46227 lines. Lines per second: 22176.3</pre>"
      ],
      "text/plain": [
       "Read 46227 lines. Lines per second: 22176.3"
      ]
     },
     "metadata": {},
     "output_type": "display_data"
    },
    {
     "data": {
      "text/html": [
       "<pre>Read 324031 lines. Lines per second: 45665.3</pre>"
      ],
      "text/plain": [
       "Read 324031 lines. Lines per second: 45665.3"
      ]
     },
     "metadata": {},
     "output_type": "display_data"
    },
    {
     "data": {
      "text/html": [
       "<pre>Finished parsing file D:\\BGSU\\2nd Sem\\BigData\\Main Project\\metadata\\meta_Automotive.json.gz</pre>"
      ],
      "text/plain": [
       "Finished parsing file D:\\BGSU\\2nd Sem\\BigData\\Main Project\\metadata\\meta_Automotive.json.gz"
      ]
     },
     "metadata": {},
     "output_type": "display_data"
    },
    {
     "data": {
      "text/html": [
       "<pre>Parsing completed. Parsed 331090 lines in 7.13492 secs.</pre>"
      ],
      "text/plain": [
       "Parsing completed. Parsed 331090 lines in 7.13492 secs."
      ]
     },
     "metadata": {},
     "output_type": "display_data"
    },
    {
     "data": {
      "text/html": [
       "<pre>Finished parsing file D:\\BGSU\\2nd Sem\\BigData\\Main Project\\metadata\\meta_Baby.json.gz</pre>"
      ],
      "text/plain": [
       "Finished parsing file D:\\BGSU\\2nd Sem\\BigData\\Main Project\\metadata\\meta_Baby.json.gz"
      ]
     },
     "metadata": {},
     "output_type": "display_data"
    },
    {
     "data": {
      "text/html": [
       "<pre>Parsing completed. Parsed 100 lines in 0.909418 secs.</pre>"
      ],
      "text/plain": [
       "Parsing completed. Parsed 100 lines in 0.909418 secs."
      ]
     },
     "metadata": {},
     "output_type": "display_data"
    },
    {
     "name": "stdout",
     "output_type": "stream",
     "text": [
      "------------------------------------------------------\n",
      "Inferred types from first 100 line(s) of file as \n",
      "column_type_hints=[dict]\n",
      "If parsing fails due to incorrect types, you can correct\n",
      "the inferred type list above and pass it to read_csv in\n",
      "the column_type_hints argument\n",
      "------------------------------------------------------\n"
     ]
    },
    {
     "data": {
      "text/html": [
       "<pre>Read 38287 lines. Lines per second: 19531.8</pre>"
      ],
      "text/plain": [
       "Read 38287 lines. Lines per second: 19531.8"
      ]
     },
     "metadata": {},
     "output_type": "display_data"
    },
    {
     "data": {
      "text/html": [
       "<pre>Finished parsing file D:\\BGSU\\2nd Sem\\BigData\\Main Project\\metadata\\meta_Baby.json.gz</pre>"
      ],
      "text/plain": [
       "Finished parsing file D:\\BGSU\\2nd Sem\\BigData\\Main Project\\metadata\\meta_Baby.json.gz"
      ]
     },
     "metadata": {},
     "output_type": "display_data"
    },
    {
     "data": {
      "text/html": [
       "<pre>Parsing completed. Parsed 71317 lines in 2.24397 secs.</pre>"
      ],
      "text/plain": [
       "Parsing completed. Parsed 71317 lines in 2.24397 secs."
      ]
     },
     "metadata": {},
     "output_type": "display_data"
    },
    {
     "data": {
      "text/html": [
       "<pre>Finished parsing file D:\\BGSU\\2nd Sem\\BigData\\Main Project\\metadata\\meta_Beauty.json.gz</pre>"
      ],
      "text/plain": [
       "Finished parsing file D:\\BGSU\\2nd Sem\\BigData\\Main Project\\metadata\\meta_Beauty.json.gz"
      ]
     },
     "metadata": {},
     "output_type": "display_data"
    },
    {
     "data": {
      "text/html": [
       "<pre>Parsing completed. Parsed 100 lines in 0.927468 secs.</pre>"
      ],
      "text/plain": [
       "Parsing completed. Parsed 100 lines in 0.927468 secs."
      ]
     },
     "metadata": {},
     "output_type": "display_data"
    },
    {
     "name": "stdout",
     "output_type": "stream",
     "text": [
      "------------------------------------------------------\n",
      "Inferred types from first 100 line(s) of file as \n",
      "column_type_hints=[dict]\n",
      "If parsing fails due to incorrect types, you can correct\n",
      "the inferred type list above and pass it to read_csv in\n",
      "the column_type_hints argument\n",
      "------------------------------------------------------\n"
     ]
    },
    {
     "data": {
      "text/html": [
       "<pre>Read 88093 lines. Lines per second: 30212.4</pre>"
      ],
      "text/plain": [
       "Read 88093 lines. Lines per second: 30212.4"
      ]
     },
     "metadata": {},
     "output_type": "display_data"
    },
    {
     "data": {
      "text/html": [
       "<pre>Finished parsing file D:\\BGSU\\2nd Sem\\BigData\\Main Project\\metadata\\meta_Beauty.json.gz</pre>"
      ],
      "text/plain": [
       "Finished parsing file D:\\BGSU\\2nd Sem\\BigData\\Main Project\\metadata\\meta_Beauty.json.gz"
      ]
     },
     "metadata": {},
     "output_type": "display_data"
    },
    {
     "data": {
      "text/html": [
       "<pre>Parsing completed. Parsed 259204 lines in 6.58755 secs.</pre>"
      ],
      "text/plain": [
       "Parsing completed. Parsed 259204 lines in 6.58755 secs."
      ]
     },
     "metadata": {},
     "output_type": "display_data"
    },
    {
     "data": {
      "text/html": [
       "<pre>Finished parsing file D:\\BGSU\\2nd Sem\\BigData\\Main Project\\metadata\\meta_Cell_Phones_and_Accessories.json.gz</pre>"
      ],
      "text/plain": [
       "Finished parsing file D:\\BGSU\\2nd Sem\\BigData\\Main Project\\metadata\\meta_Cell_Phones_and_Accessories.json.gz"
      ]
     },
     "metadata": {},
     "output_type": "display_data"
    },
    {
     "data": {
      "text/html": [
       "<pre>Parsing completed. Parsed 100 lines in 0.690846 secs.</pre>"
      ],
      "text/plain": [
       "Parsing completed. Parsed 100 lines in 0.690846 secs."
      ]
     },
     "metadata": {},
     "output_type": "display_data"
    },
    {
     "name": "stdout",
     "output_type": "stream",
     "text": [
      "------------------------------------------------------\n",
      "Inferred types from first 100 line(s) of file as \n",
      "column_type_hints=[dict]\n",
      "If parsing fails due to incorrect types, you can correct\n",
      "the inferred type list above and pass it to read_csv in\n",
      "the column_type_hints argument\n",
      "------------------------------------------------------\n"
     ]
    },
    {
     "data": {
      "text/html": [
       "<pre>Read 56056 lines. Lines per second: 37647.6</pre>"
      ],
      "text/plain": [
       "Read 56056 lines. Lines per second: 37647.6"
      ]
     },
     "metadata": {},
     "output_type": "display_data"
    },
    {
     "data": {
      "text/html": [
       "<pre>Read 321175 lines. Lines per second: 47716.5</pre>"
      ],
      "text/plain": [
       "Read 321175 lines. Lines per second: 47716.5"
      ]
     },
     "metadata": {},
     "output_type": "display_data"
    },
    {
     "data": {
      "text/html": [
       "<pre>Finished parsing file D:\\BGSU\\2nd Sem\\BigData\\Main Project\\metadata\\meta_Cell_Phones_and_Accessories.json.gz</pre>"
      ],
      "text/plain": [
       "Finished parsing file D:\\BGSU\\2nd Sem\\BigData\\Main Project\\metadata\\meta_Cell_Phones_and_Accessories.json.gz"
      ]
     },
     "metadata": {},
     "output_type": "display_data"
    },
    {
     "data": {
      "text/html": [
       "<pre>Parsing completed. Parsed 346793 lines in 6.90837 secs.</pre>"
      ],
      "text/plain": [
       "Parsing completed. Parsed 346793 lines in 6.90837 secs."
      ]
     },
     "metadata": {},
     "output_type": "display_data"
    },
    {
     "data": {
      "text/html": [
       "<pre>Finished parsing file D:\\BGSU\\2nd Sem\\BigData\\Main Project\\metadata\\meta_Digital_Music.json.gz</pre>"
      ],
      "text/plain": [
       "Finished parsing file D:\\BGSU\\2nd Sem\\BigData\\Main Project\\metadata\\meta_Digital_Music.json.gz"
      ]
     },
     "metadata": {},
     "output_type": "display_data"
    },
    {
     "data": {
      "text/html": [
       "<pre>Parsing completed. Parsed 100 lines in 1.29379 secs.</pre>"
      ],
      "text/plain": [
       "Parsing completed. Parsed 100 lines in 1.29379 secs."
      ]
     },
     "metadata": {},
     "output_type": "display_data"
    },
    {
     "name": "stdout",
     "output_type": "stream",
     "text": [
      "------------------------------------------------------\n",
      "Inferred types from first 100 line(s) of file as \n",
      "column_type_hints=[dict]\n",
      "If parsing fails due to incorrect types, you can correct\n",
      "the inferred type list above and pass it to read_csv in\n",
      "the column_type_hints argument\n",
      "------------------------------------------------------\n"
     ]
    },
    {
     "data": {
      "text/html": [
       "<pre>Read 77472 lines. Lines per second: 34804.5</pre>"
      ],
      "text/plain": [
       "Read 77472 lines. Lines per second: 34804.5"
      ]
     },
     "metadata": {},
     "output_type": "display_data"
    },
    {
     "data": {
      "text/html": [
       "<pre>Finished parsing file D:\\BGSU\\2nd Sem\\BigData\\Main Project\\metadata\\meta_Digital_Music.json.gz</pre>"
      ],
      "text/plain": [
       "Finished parsing file D:\\BGSU\\2nd Sem\\BigData\\Main Project\\metadata\\meta_Digital_Music.json.gz"
      ]
     },
     "metadata": {},
     "output_type": "display_data"
    },
    {
     "data": {
      "text/html": [
       "<pre>Parsing completed. Parsed 279899 lines in 3.9004 secs.</pre>"
      ],
      "text/plain": [
       "Parsing completed. Parsed 279899 lines in 3.9004 secs."
      ]
     },
     "metadata": {},
     "output_type": "display_data"
    },
    {
     "data": {
      "text/html": [
       "<pre>Finished parsing file D:\\BGSU\\2nd Sem\\BigData\\Main Project\\metadata\\meta_Electronics.json.gz</pre>"
      ],
      "text/plain": [
       "Finished parsing file D:\\BGSU\\2nd Sem\\BigData\\Main Project\\metadata\\meta_Electronics.json.gz"
      ]
     },
     "metadata": {},
     "output_type": "display_data"
    },
    {
     "data": {
      "text/html": [
       "<pre>Parsing completed. Parsed 100 lines in 0.716906 secs.</pre>"
      ],
      "text/plain": [
       "Parsing completed. Parsed 100 lines in 0.716906 secs."
      ]
     },
     "metadata": {},
     "output_type": "display_data"
    },
    {
     "name": "stdout",
     "output_type": "stream",
     "text": [
      "------------------------------------------------------\n",
      "Inferred types from first 100 line(s) of file as \n",
      "column_type_hints=[dict]\n",
      "If parsing fails due to incorrect types, you can correct\n",
      "the inferred type list above and pass it to read_csv in\n",
      "the column_type_hints argument\n",
      "------------------------------------------------------\n"
     ]
    },
    {
     "data": {
      "text/html": [
       "<pre>Read 41772 lines. Lines per second: 26843.4</pre>"
      ],
      "text/plain": [
       "Read 41772 lines. Lines per second: 26843.4"
      ]
     },
     "metadata": {},
     "output_type": "display_data"
    },
    {
     "data": {
      "text/html": [
       "<pre>Read 288845 lines. Lines per second: 43749.5</pre>"
      ],
      "text/plain": [
       "Read 288845 lines. Lines per second: 43749.5"
      ]
     },
     "metadata": {},
     "output_type": "display_data"
    },
    {
     "data": {
      "text/html": [
       "<pre>Finished parsing file D:\\BGSU\\2nd Sem\\BigData\\Main Project\\metadata\\meta_Electronics.json.gz</pre>"
      ],
      "text/plain": [
       "Finished parsing file D:\\BGSU\\2nd Sem\\BigData\\Main Project\\metadata\\meta_Electronics.json.gz"
      ]
     },
     "metadata": {},
     "output_type": "display_data"
    },
    {
     "data": {
      "text/html": [
       "<pre>Parsing completed. Parsed 498196 lines in 11.3416 secs.</pre>"
      ],
      "text/plain": [
       "Parsing completed. Parsed 498196 lines in 11.3416 secs."
      ]
     },
     "metadata": {},
     "output_type": "display_data"
    },
    {
     "data": {
      "text/html": [
       "<pre>Finished parsing file D:\\BGSU\\2nd Sem\\BigData\\Main Project\\metadata\\meta_Grocery_and_Gourmet_Food.json.gz</pre>"
      ],
      "text/plain": [
       "Finished parsing file D:\\BGSU\\2nd Sem\\BigData\\Main Project\\metadata\\meta_Grocery_and_Gourmet_Food.json.gz"
      ]
     },
     "metadata": {},
     "output_type": "display_data"
    },
    {
     "data": {
      "text/html": [
       "<pre>Parsing completed. Parsed 100 lines in 1.00168 secs.</pre>"
      ],
      "text/plain": [
       "Parsing completed. Parsed 100 lines in 1.00168 secs."
      ]
     },
     "metadata": {},
     "output_type": "display_data"
    },
    {
     "name": "stdout",
     "output_type": "stream",
     "text": [
      "------------------------------------------------------\n",
      "Inferred types from first 100 line(s) of file as \n",
      "column_type_hints=[dict]\n",
      "If parsing fails due to incorrect types, you can correct\n",
      "the inferred type list above and pass it to read_csv in\n",
      "the column_type_hints argument\n",
      "------------------------------------------------------\n"
     ]
    },
    {
     "data": {
      "text/html": [
       "<pre>Read 46184 lines. Lines per second: 18265.5</pre>"
      ],
      "text/plain": [
       "Read 46184 lines. Lines per second: 18265.5"
      ]
     },
     "metadata": {},
     "output_type": "display_data"
    },
    {
     "data": {
      "text/html": [
       "<pre>Finished parsing file D:\\BGSU\\2nd Sem\\BigData\\Main Project\\metadata\\meta_Grocery_and_Gourmet_Food.json.gz</pre>"
      ],
      "text/plain": [
       "Finished parsing file D:\\BGSU\\2nd Sem\\BigData\\Main Project\\metadata\\meta_Grocery_and_Gourmet_Food.json.gz"
      ]
     },
     "metadata": {},
     "output_type": "display_data"
    },
    {
     "data": {
      "text/html": [
       "<pre>Parsing completed. Parsed 171760 lines in 4.62624 secs.</pre>"
      ],
      "text/plain": [
       "Parsing completed. Parsed 171760 lines in 4.62624 secs."
      ]
     },
     "metadata": {},
     "output_type": "display_data"
    },
    {
     "data": {
      "text/html": [
       "<pre>Finished parsing file D:\\BGSU\\2nd Sem\\BigData\\Main Project\\metadata\\meta_Health_and_Personal_Care.json.gz</pre>"
      ],
      "text/plain": [
       "Finished parsing file D:\\BGSU\\2nd Sem\\BigData\\Main Project\\metadata\\meta_Health_and_Personal_Care.json.gz"
      ]
     },
     "metadata": {},
     "output_type": "display_data"
    },
    {
     "data": {
      "text/html": [
       "<pre>Parsing completed. Parsed 100 lines in 0.897386 secs.</pre>"
      ],
      "text/plain": [
       "Parsing completed. Parsed 100 lines in 0.897386 secs."
      ]
     },
     "metadata": {},
     "output_type": "display_data"
    },
    {
     "name": "stdout",
     "output_type": "stream",
     "text": [
      "------------------------------------------------------\n",
      "Inferred types from first 100 line(s) of file as \n",
      "column_type_hints=[dict]\n",
      "If parsing fails due to incorrect types, you can correct\n",
      "the inferred type list above and pass it to read_csv in\n",
      "the column_type_hints argument\n",
      "------------------------------------------------------\n"
     ]
    },
    {
     "data": {
      "text/html": [
       "<pre>Read 38394 lines. Lines per second: 20810.5</pre>"
      ],
      "text/plain": [
       "Read 38394 lines. Lines per second: 20810.5"
      ]
     },
     "metadata": {},
     "output_type": "display_data"
    },
    {
     "data": {
      "text/html": [
       "<pre>Read 228227 lines. Lines per second: 30339.7</pre>"
      ],
      "text/plain": [
       "Read 228227 lines. Lines per second: 30339.7"
      ]
     },
     "metadata": {},
     "output_type": "display_data"
    },
    {
     "data": {
      "text/html": [
       "<pre>Finished parsing file D:\\BGSU\\2nd Sem\\BigData\\Main Project\\metadata\\meta_Health_and_Personal_Care.json.gz</pre>"
      ],
      "text/plain": [
       "Finished parsing file D:\\BGSU\\2nd Sem\\BigData\\Main Project\\metadata\\meta_Health_and_Personal_Care.json.gz"
      ]
     },
     "metadata": {},
     "output_type": "display_data"
    },
    {
     "data": {
      "text/html": [
       "<pre>Parsing completed. Parsed 263032 lines in 7.90845 secs.</pre>"
      ],
      "text/plain": [
       "Parsing completed. Parsed 263032 lines in 7.90845 secs."
      ]
     },
     "metadata": {},
     "output_type": "display_data"
    },
    {
     "data": {
      "text/html": [
       "<pre>Finished parsing file D:\\BGSU\\2nd Sem\\BigData\\Main Project\\metadata\\meta_Musical_Instruments.json.gz</pre>"
      ],
      "text/plain": [
       "Finished parsing file D:\\BGSU\\2nd Sem\\BigData\\Main Project\\metadata\\meta_Musical_Instruments.json.gz"
      ]
     },
     "metadata": {},
     "output_type": "display_data"
    },
    {
     "data": {
      "text/html": [
       "<pre>Parsing completed. Parsed 100 lines in 0.898388 secs.</pre>"
      ],
      "text/plain": [
       "Parsing completed. Parsed 100 lines in 0.898388 secs."
      ]
     },
     "metadata": {},
     "output_type": "display_data"
    },
    {
     "name": "stdout",
     "output_type": "stream",
     "text": [
      "------------------------------------------------------\n",
      "Inferred types from first 100 line(s) of file as \n",
      "column_type_hints=[dict]\n",
      "If parsing fails due to incorrect types, you can correct\n",
      "the inferred type list above and pass it to read_csv in\n",
      "the column_type_hints argument\n",
      "------------------------------------------------------\n"
     ]
    },
    {
     "data": {
      "text/html": [
       "<pre>Read 45223 lines. Lines per second: 26562.3</pre>"
      ],
      "text/plain": [
       "Read 45223 lines. Lines per second: 26562.3"
      ]
     },
     "metadata": {},
     "output_type": "display_data"
    },
    {
     "data": {
      "text/html": [
       "<pre>Finished parsing file D:\\BGSU\\2nd Sem\\BigData\\Main Project\\metadata\\meta_Musical_Instruments.json.gz</pre>"
      ],
      "text/plain": [
       "Finished parsing file D:\\BGSU\\2nd Sem\\BigData\\Main Project\\metadata\\meta_Musical_Instruments.json.gz"
      ]
     },
     "metadata": {},
     "output_type": "display_data"
    },
    {
     "data": {
      "text/html": [
       "<pre>Parsing completed. Parsed 84901 lines in 2.01438 secs.</pre>"
      ],
      "text/plain": [
       "Parsing completed. Parsed 84901 lines in 2.01438 secs."
      ]
     },
     "metadata": {},
     "output_type": "display_data"
    },
    {
     "data": {
      "text/html": [
       "<pre>Finished parsing file D:\\BGSU\\2nd Sem\\BigData\\Main Project\\metadata\\meta_Office_Products.json.gz</pre>"
      ],
      "text/plain": [
       "Finished parsing file D:\\BGSU\\2nd Sem\\BigData\\Main Project\\metadata\\meta_Office_Products.json.gz"
      ]
     },
     "metadata": {},
     "output_type": "display_data"
    },
    {
     "data": {
      "text/html": [
       "<pre>Parsing completed. Parsed 100 lines in 0.923449 secs.</pre>"
      ],
      "text/plain": [
       "Parsing completed. Parsed 100 lines in 0.923449 secs."
      ]
     },
     "metadata": {},
     "output_type": "display_data"
    },
    {
     "name": "stdout",
     "output_type": "stream",
     "text": [
      "------------------------------------------------------\n",
      "Inferred types from first 100 line(s) of file as \n",
      "column_type_hints=[dict]\n",
      "If parsing fails due to incorrect types, you can correct\n",
      "the inferred type list above and pass it to read_csv in\n",
      "the column_type_hints argument\n",
      "------------------------------------------------------\n"
     ]
    },
    {
     "data": {
      "text/html": [
       "<pre>Read 39352 lines. Lines per second: 22011.3</pre>"
      ],
      "text/plain": [
       "Read 39352 lines. Lines per second: 22011.3"
      ]
     },
     "metadata": {},
     "output_type": "display_data"
    },
    {
     "data": {
      "text/html": [
       "<pre>Finished parsing file D:\\BGSU\\2nd Sem\\BigData\\Main Project\\metadata\\meta_Office_Products.json.gz</pre>"
      ],
      "text/plain": [
       "Finished parsing file D:\\BGSU\\2nd Sem\\BigData\\Main Project\\metadata\\meta_Office_Products.json.gz"
      ]
     },
     "metadata": {},
     "output_type": "display_data"
    },
    {
     "data": {
      "text/html": [
       "<pre>Parsing completed. Parsed 134838 lines in 3.18856 secs.</pre>"
      ],
      "text/plain": [
       "Parsing completed. Parsed 134838 lines in 3.18856 secs."
      ]
     },
     "metadata": {},
     "output_type": "display_data"
    },
    {
     "data": {
      "text/html": [
       "<pre>Finished parsing file D:\\BGSU\\2nd Sem\\BigData\\Main Project\\metadata\\meta_Patio_Lawn_and_Garden.json.gz</pre>"
      ],
      "text/plain": [
       "Finished parsing file D:\\BGSU\\2nd Sem\\BigData\\Main Project\\metadata\\meta_Patio_Lawn_and_Garden.json.gz"
      ]
     },
     "metadata": {},
     "output_type": "display_data"
    },
    {
     "data": {
      "text/html": [
       "<pre>Parsing completed. Parsed 100 lines in 0.986625 secs.</pre>"
      ],
      "text/plain": [
       "Parsing completed. Parsed 100 lines in 0.986625 secs."
      ]
     },
     "metadata": {},
     "output_type": "display_data"
    },
    {
     "name": "stdout",
     "output_type": "stream",
     "text": [
      "------------------------------------------------------\n",
      "Inferred types from first 100 line(s) of file as \n",
      "column_type_hints=[dict]\n",
      "If parsing fails due to incorrect types, you can correct\n",
      "the inferred type list above and pass it to read_csv in\n",
      "the column_type_hints argument\n",
      "------------------------------------------------------\n"
     ]
    },
    {
     "data": {
      "text/html": [
       "<pre>Read 36925 lines. Lines per second: 18580.6</pre>"
      ],
      "text/plain": [
       "Read 36925 lines. Lines per second: 18580.6"
      ]
     },
     "metadata": {},
     "output_type": "display_data"
    },
    {
     "data": {
      "text/html": [
       "<pre>Finished parsing file D:\\BGSU\\2nd Sem\\BigData\\Main Project\\metadata\\meta_Patio_Lawn_and_Garden.json.gz</pre>"
      ],
      "text/plain": [
       "Finished parsing file D:\\BGSU\\2nd Sem\\BigData\\Main Project\\metadata\\meta_Patio_Lawn_and_Garden.json.gz"
      ]
     },
     "metadata": {},
     "output_type": "display_data"
    },
    {
     "data": {
      "text/html": [
       "<pre>Parsing completed. Parsed 109094 lines in 3.58654 secs.</pre>"
      ],
      "text/plain": [
       "Parsing completed. Parsed 109094 lines in 3.58654 secs."
      ]
     },
     "metadata": {},
     "output_type": "display_data"
    },
    {
     "data": {
      "text/html": [
       "<pre>Finished parsing file D:\\BGSU\\2nd Sem\\BigData\\Main Project\\metadata\\meta_Pet_Supplies.json.gz</pre>"
      ],
      "text/plain": [
       "Finished parsing file D:\\BGSU\\2nd Sem\\BigData\\Main Project\\metadata\\meta_Pet_Supplies.json.gz"
      ]
     },
     "metadata": {},
     "output_type": "display_data"
    },
    {
     "data": {
      "text/html": [
       "<pre>Parsing completed. Parsed 100 lines in 0.940503 secs.</pre>"
      ],
      "text/plain": [
       "Parsing completed. Parsed 100 lines in 0.940503 secs."
      ]
     },
     "metadata": {},
     "output_type": "display_data"
    },
    {
     "name": "stdout",
     "output_type": "stream",
     "text": [
      "------------------------------------------------------\n",
      "Inferred types from first 100 line(s) of file as \n",
      "column_type_hints=[dict]\n",
      "If parsing fails due to incorrect types, you can correct\n",
      "the inferred type list above and pass it to read_csv in\n",
      "the column_type_hints argument\n",
      "------------------------------------------------------\n"
     ]
    },
    {
     "data": {
      "text/html": [
       "<pre>Read 40627 lines. Lines per second: 21843.1</pre>"
      ],
      "text/plain": [
       "Read 40627 lines. Lines per second: 21843.1"
      ]
     },
     "metadata": {},
     "output_type": "display_data"
    },
    {
     "data": {
      "text/html": [
       "<pre>Finished parsing file D:\\BGSU\\2nd Sem\\BigData\\Main Project\\metadata\\meta_Pet_Supplies.json.gz</pre>"
      ],
      "text/plain": [
       "Finished parsing file D:\\BGSU\\2nd Sem\\BigData\\Main Project\\metadata\\meta_Pet_Supplies.json.gz"
      ]
     },
     "metadata": {},
     "output_type": "display_data"
    },
    {
     "data": {
      "text/html": [
       "<pre>Parsing completed. Parsed 110707 lines in 2.8406 secs.</pre>"
      ],
      "text/plain": [
       "Parsing completed. Parsed 110707 lines in 2.8406 secs."
      ]
     },
     "metadata": {},
     "output_type": "display_data"
    },
    {
     "data": {
      "text/html": [
       "<pre>Finished parsing file D:\\BGSU\\2nd Sem\\BigData\\Main Project\\metadata\\meta_Tools_and_Home_Improvement.json.gz</pre>"
      ],
      "text/plain": [
       "Finished parsing file D:\\BGSU\\2nd Sem\\BigData\\Main Project\\metadata\\meta_Tools_and_Home_Improvement.json.gz"
      ]
     },
     "metadata": {},
     "output_type": "display_data"
    },
    {
     "data": {
      "text/html": [
       "<pre>Parsing completed. Parsed 100 lines in 0.918355 secs.</pre>"
      ],
      "text/plain": [
       "Parsing completed. Parsed 100 lines in 0.918355 secs."
      ]
     },
     "metadata": {},
     "output_type": "display_data"
    },
    {
     "name": "stdout",
     "output_type": "stream",
     "text": [
      "------------------------------------------------------\n",
      "Inferred types from first 100 line(s) of file as \n",
      "column_type_hints=[dict]\n",
      "If parsing fails due to incorrect types, you can correct\n",
      "the inferred type list above and pass it to read_csv in\n",
      "the column_type_hints argument\n",
      "------------------------------------------------------\n"
     ]
    },
    {
     "data": {
      "text/html": [
       "<pre>Read 43510 lines. Lines per second: 20973.8</pre>"
      ],
      "text/plain": [
       "Read 43510 lines. Lines per second: 20973.8"
      ]
     },
     "metadata": {},
     "output_type": "display_data"
    },
    {
     "data": {
      "text/html": [
       "<pre>Finished parsing file D:\\BGSU\\2nd Sem\\BigData\\Main Project\\metadata\\meta_Tools_and_Home_Improvement.json.gz</pre>"
      ],
      "text/plain": [
       "Finished parsing file D:\\BGSU\\2nd Sem\\BigData\\Main Project\\metadata\\meta_Tools_and_Home_Improvement.json.gz"
      ]
     },
     "metadata": {},
     "output_type": "display_data"
    },
    {
     "data": {
      "text/html": [
       "<pre>Parsing completed. Parsed 269120 lines in 7.0659 secs.</pre>"
      ],
      "text/plain": [
       "Parsing completed. Parsed 269120 lines in 7.0659 secs."
      ]
     },
     "metadata": {},
     "output_type": "display_data"
    },
    {
     "data": {
      "text/html": [
       "<pre>Finished parsing file D:\\BGSU\\2nd Sem\\BigData\\Main Project\\metadata\\meta_Toys_and_Games.json.gz</pre>"
      ],
      "text/plain": [
       "Finished parsing file D:\\BGSU\\2nd Sem\\BigData\\Main Project\\metadata\\meta_Toys_and_Games.json.gz"
      ]
     },
     "metadata": {},
     "output_type": "display_data"
    },
    {
     "data": {
      "text/html": [
       "<pre>Parsing completed. Parsed 100 lines in 1.21623 secs.</pre>"
      ],
      "text/plain": [
       "Parsing completed. Parsed 100 lines in 1.21623 secs."
      ]
     },
     "metadata": {},
     "output_type": "display_data"
    },
    {
     "name": "stdout",
     "output_type": "stream",
     "text": [
      "------------------------------------------------------\n",
      "Inferred types from first 100 line(s) of file as \n",
      "column_type_hints=[dict]\n",
      "If parsing fails due to incorrect types, you can correct\n",
      "the inferred type list above and pass it to read_csv in\n",
      "the column_type_hints argument\n",
      "------------------------------------------------------\n"
     ]
    },
    {
     "data": {
      "text/html": [
       "<pre>Read 41401 lines. Lines per second: 18949.7</pre>"
      ],
      "text/plain": [
       "Read 41401 lines. Lines per second: 18949.7"
      ]
     },
     "metadata": {},
     "output_type": "display_data"
    },
    {
     "data": {
      "text/html": [
       "<pre>Read 242365 lines. Lines per second: 29161.7</pre>"
      ],
      "text/plain": [
       "Read 242365 lines. Lines per second: 29161.7"
      ]
     },
     "metadata": {},
     "output_type": "display_data"
    },
    {
     "data": {
      "text/html": [
       "<pre>Finished parsing file D:\\BGSU\\2nd Sem\\BigData\\Main Project\\metadata\\meta_Toys_and_Games.json.gz</pre>"
      ],
      "text/plain": [
       "Finished parsing file D:\\BGSU\\2nd Sem\\BigData\\Main Project\\metadata\\meta_Toys_and_Games.json.gz"
      ]
     },
     "metadata": {},
     "output_type": "display_data"
    },
    {
     "data": {
      "text/html": [
       "<pre>Parsing completed. Parsed 336072 lines in 11.5933 secs.</pre>"
      ],
      "text/plain": [
       "Parsing completed. Parsed 336072 lines in 11.5933 secs."
      ]
     },
     "metadata": {},
     "output_type": "display_data"
    },
    {
     "data": {
      "text/html": [
       "<pre>Finished parsing file D:\\BGSU\\2nd Sem\\BigData\\Main Project\\metadata\\meta_Video_Games.json.gz</pre>"
      ],
      "text/plain": [
       "Finished parsing file D:\\BGSU\\2nd Sem\\BigData\\Main Project\\metadata\\meta_Video_Games.json.gz"
      ]
     },
     "metadata": {},
     "output_type": "display_data"
    },
    {
     "data": {
      "text/html": [
       "<pre>Parsing completed. Parsed 100 lines in 0.917334 secs.</pre>"
      ],
      "text/plain": [
       "Parsing completed. Parsed 100 lines in 0.917334 secs."
      ]
     },
     "metadata": {},
     "output_type": "display_data"
    },
    {
     "name": "stdout",
     "output_type": "stream",
     "text": [
      "------------------------------------------------------\n",
      "Inferred types from first 100 line(s) of file as \n",
      "column_type_hints=[dict]\n",
      "If parsing fails due to incorrect types, you can correct\n",
      "the inferred type list above and pass it to read_csv in\n",
      "the column_type_hints argument\n",
      "------------------------------------------------------\n"
     ]
    },
    {
     "data": {
      "text/html": [
       "<pre>Read 36698 lines. Lines per second: 23859.8</pre>"
      ],
      "text/plain": [
       "Read 36698 lines. Lines per second: 23859.8"
      ]
     },
     "metadata": {},
     "output_type": "display_data"
    },
    {
     "data": {
      "text/html": [
       "<pre>Finished parsing file D:\\BGSU\\2nd Sem\\BigData\\Main Project\\metadata\\meta_Video_Games.json.gz</pre>"
      ],
      "text/plain": [
       "Finished parsing file D:\\BGSU\\2nd Sem\\BigData\\Main Project\\metadata\\meta_Video_Games.json.gz"
      ]
     },
     "metadata": {},
     "output_type": "display_data"
    },
    {
     "data": {
      "text/html": [
       "<pre>Parsing completed. Parsed 50953 lines in 1.6619 secs.</pre>"
      ],
      "text/plain": [
       "Parsing completed. Parsed 50953 lines in 1.6619 secs."
      ]
     },
     "metadata": {},
     "output_type": "display_data"
    }
   ],
   "source": [
    "count = 1\n",
    "for file in files:\n",
    "    if count > 1 and count <= 24 :\n",
    "        temp =gl.SFrame.read_json(file, orient='lines')\n",
    "        temp.rename({'asin': 'itemId'})\n",
    "        temp = temp.select_columns(['itemId', 'imUrl'])\n",
    "        metadata = metadata.append(temp)\n",
    "    else:\n",
    "        metadata =gl.SFrame.read_json(file, orient='lines')\n",
    "        metadata.rename({'asin': 'itemId'})\n",
    "        metadata = metadata.select_columns(['itemId', 'imUrl'])\n",
    "    count += 1"
   ]
  },
  {
   "cell_type": "code",
   "execution_count": 15,
   "metadata": {
    "collapsed": true
   },
   "outputs": [],
   "source": [
    "metadata = metadata.unique()"
   ]
  },
  {
   "cell_type": "code",
   "execution_count": 16,
   "metadata": {
    "collapsed": false
   },
   "outputs": [
    {
     "data": {
      "text/html": [
       "<div style=\"max-height:1000px;max-width:1500px;overflow:auto;\"><table frame=\"box\" rules=\"cols\">\n",
       "    <tr>\n",
       "        <th style=\"padding-left: 1em; padding-right: 1em; text-align: center\">imUrl</th>\n",
       "        <th style=\"padding-left: 1em; padding-right: 1em; text-align: center\">itemId</th>\n",
       "    </tr>\n",
       "    <tr>\n",
       "        <td style=\"padding-left: 1em; padding-right: 1em; text-align: center; vertical-align: top\">http://ecx.images-amazon.<br>com/images/I/41lFd2kW ...</td>\n",
       "        <td style=\"padding-left: 1em; padding-right: 1em; text-align: center; vertical-align: top\">B00FW1QDYO</td>\n",
       "    </tr>\n",
       "    <tr>\n",
       "        <td style=\"padding-left: 1em; padding-right: 1em; text-align: center; vertical-align: top\">http://ecx.images-amazon.<br>com/images/I/41begw17 ...</td>\n",
       "        <td style=\"padding-left: 1em; padding-right: 1em; text-align: center; vertical-align: top\">B00BWK32UM</td>\n",
       "    </tr>\n",
       "    <tr>\n",
       "        <td style=\"padding-left: 1em; padding-right: 1em; text-align: center; vertical-align: top\">http://ecx.images-amazon.<br>com/images/I/41JRyhZZ ...</td>\n",
       "        <td style=\"padding-left: 1em; padding-right: 1em; text-align: center; vertical-align: top\">B001CSBW2Y</td>\n",
       "    </tr>\n",
       "    <tr>\n",
       "        <td style=\"padding-left: 1em; padding-right: 1em; text-align: center; vertical-align: top\">http://ecx.images-amazon.<br>com/images/I/418gbKlt ...</td>\n",
       "        <td style=\"padding-left: 1em; padding-right: 1em; text-align: center; vertical-align: top\">B008IPXOE8</td>\n",
       "    </tr>\n",
       "    <tr>\n",
       "        <td style=\"padding-left: 1em; padding-right: 1em; text-align: center; vertical-align: top\">http://ecx.images-amazon.<br>com/images/I/41jYkOHp ...</td>\n",
       "        <td style=\"padding-left: 1em; padding-right: 1em; text-align: center; vertical-align: top\">B00076NSMO</td>\n",
       "    </tr>\n",
       "    <tr>\n",
       "        <td style=\"padding-left: 1em; padding-right: 1em; text-align: center; vertical-align: top\">http://ecx.images-amazon.<br>com/images/I/31U7TBHz ...</td>\n",
       "        <td style=\"padding-left: 1em; padding-right: 1em; text-align: center; vertical-align: top\">B000FGWO4O</td>\n",
       "    </tr>\n",
       "    <tr>\n",
       "        <td style=\"padding-left: 1em; padding-right: 1em; text-align: center; vertical-align: top\">http://ecx.images-amazon.<br>com/images/I/21tW9ITa ...</td>\n",
       "        <td style=\"padding-left: 1em; padding-right: 1em; text-align: center; vertical-align: top\">B000TJFEYO</td>\n",
       "    </tr>\n",
       "    <tr>\n",
       "        <td style=\"padding-left: 1em; padding-right: 1em; text-align: center; vertical-align: top\">http://ecx.images-amazon.<br>com/images/I/5100F0n2 ...</td>\n",
       "        <td style=\"padding-left: 1em; padding-right: 1em; text-align: center; vertical-align: top\">B003YB2JWY</td>\n",
       "    </tr>\n",
       "    <tr>\n",
       "        <td style=\"padding-left: 1em; padding-right: 1em; text-align: center; vertical-align: top\">http://ecx.images-amazon.<br>com/images/I/41Wa70c7 ...</td>\n",
       "        <td style=\"padding-left: 1em; padding-right: 1em; text-align: center; vertical-align: top\">B001J8M79E</td>\n",
       "    </tr>\n",
       "    <tr>\n",
       "        <td style=\"padding-left: 1em; padding-right: 1em; text-align: center; vertical-align: top\">http://ecx.images-amazon.<br>com/images/I/31p1kqsF ...</td>\n",
       "        <td style=\"padding-left: 1em; padding-right: 1em; text-align: center; vertical-align: top\">B000CMHU1S</td>\n",
       "    </tr>\n",
       "</table>\n",
       "[10 rows x 2 columns]<br/>\n",
       "</div>"
      ],
      "text/plain": [
       "Columns:\n",
       "\timUrl\tstr\n",
       "\titemId\tstr\n",
       "\n",
       "Rows: 10\n",
       "\n",
       "Data:\n",
       "+-------------------------------+------------+\n",
       "|             imUrl             |   itemId   |\n",
       "+-------------------------------+------------+\n",
       "| http://ecx.images-amazon.c... | B00FW1QDYO |\n",
       "| http://ecx.images-amazon.c... | B00BWK32UM |\n",
       "| http://ecx.images-amazon.c... | B001CSBW2Y |\n",
       "| http://ecx.images-amazon.c... | B008IPXOE8 |\n",
       "| http://ecx.images-amazon.c... | B00076NSMO |\n",
       "| http://ecx.images-amazon.c... | B000FGWO4O |\n",
       "| http://ecx.images-amazon.c... | B000TJFEYO |\n",
       "| http://ecx.images-amazon.c... | B003YB2JWY |\n",
       "| http://ecx.images-amazon.c... | B001J8M79E |\n",
       "| http://ecx.images-amazon.c... | B000CMHU1S |\n",
       "+-------------------------------+------------+\n",
       "[10 rows x 2 columns]"
      ]
     },
     "execution_count": 16,
     "metadata": {},
     "output_type": "execute_result"
    }
   ],
   "source": [
    "metadata.head()"
   ]
  },
  {
   "cell_type": "markdown",
   "metadata": {},
   "source": [
    "#Unique users"
   ]
  },
  {
   "cell_type": "code",
   "execution_count": 17,
   "metadata": {
    "collapsed": true
   },
   "outputs": [],
   "source": [
    "users = data['userId'].unique()"
   ]
  },
  {
   "cell_type": "code",
   "execution_count": 18,
   "metadata": {
    "collapsed": false
   },
   "outputs": [
    {
     "data": {
      "text/plain": [
       "10795338"
      ]
     },
     "execution_count": 18,
     "metadata": {},
     "output_type": "execute_result"
    }
   ],
   "source": [
    "len(users)"
   ]
  },
  {
   "cell_type": "code",
   "execution_count": 19,
   "metadata": {
    "collapsed": true
   },
   "outputs": [],
   "source": [
    "items = data['itemId'].unique()"
   ]
  },
  {
   "cell_type": "code",
   "execution_count": 20,
   "metadata": {
    "collapsed": false
   },
   "outputs": [
    {
     "data": {
      "text/plain": [
       "3171713"
      ]
     },
     "execution_count": 20,
     "metadata": {},
     "output_type": "execute_result"
    }
   ],
   "source": [
    "len(items)"
   ]
  },
  {
   "cell_type": "markdown",
   "metadata": {},
   "source": [
    "# Create Item Recommender"
   ]
  },
  {
   "cell_type": "code",
   "execution_count": 21,
   "metadata": {
    "collapsed": true
   },
   "outputs": [],
   "source": [
    "train_data,test_data = data.random_split(.7,seed=234)"
   ]
  },
  {
   "cell_type": "markdown",
   "metadata": {},
   "source": [
    "## Simple popularity-based recommender"
   ]
  },
  {
   "cell_type": "code",
   "execution_count": 22,
   "metadata": {
    "collapsed": false
   },
   "outputs": [
    {
     "data": {
      "text/html": [
       "<pre>Recsys training: model = popularity</pre>"
      ],
      "text/plain": [
       "Recsys training: model = popularity"
      ]
     },
     "metadata": {},
     "output_type": "display_data"
    },
    {
     "data": {
      "text/html": [
       "<pre>Warning: Ignoring columns rating, timestamp, category;</pre>"
      ],
      "text/plain": [
       "Warning: Ignoring columns rating, timestamp, category;"
      ]
     },
     "metadata": {},
     "output_type": "display_data"
    },
    {
     "data": {
      "text/html": [
       "<pre>    To use one of these as a target column, set target = <column_name></pre>"
      ],
      "text/plain": [
       "    To use one of these as a target column, set target = <column_name>"
      ]
     },
     "metadata": {},
     "output_type": "display_data"
    },
    {
     "data": {
      "text/html": [
       "<pre>    and use a method that allows the use of a target.</pre>"
      ],
      "text/plain": [
       "    and use a method that allows the use of a target."
      ]
     },
     "metadata": {},
     "output_type": "display_data"
    },
    {
     "data": {
      "text/html": [
       "<pre>Preparing data set.</pre>"
      ],
      "text/plain": [
       "Preparing data set."
      ]
     },
     "metadata": {},
     "output_type": "display_data"
    },
    {
     "data": {
      "text/html": [
       "<pre>    Data has 21121223 observations with 8756999 users and 2685830 items.</pre>"
      ],
      "text/plain": [
       "    Data has 21121223 observations with 8756999 users and 2685830 items."
      ]
     },
     "metadata": {},
     "output_type": "display_data"
    },
    {
     "data": {
      "text/html": [
       "<pre>    Data prepared in: 67.0363s</pre>"
      ],
      "text/plain": [
       "    Data prepared in: 67.0363s"
      ]
     },
     "metadata": {},
     "output_type": "display_data"
    },
    {
     "data": {
      "text/html": [
       "<pre>21121223 observations to process; with 2685830 unique items.</pre>"
      ],
      "text/plain": [
       "21121223 observations to process; with 2685830 unique items."
      ]
     },
     "metadata": {},
     "output_type": "display_data"
    }
   ],
   "source": [
    "popularity_model = gl.popularity_recommender.create(train_data,\n",
    "                                                         user_id='userId',\n",
    "                                                         item_id='itemId',)"
   ]
  },
  {
   "cell_type": "markdown",
   "metadata": {},
   "source": [
    "###Use the popularity model to make some predictions\n",
    "###A popularity model makes the same prediction for all users, so provides no personalization."
   ]
  },
  {
   "cell_type": "code",
   "execution_count": 23,
   "metadata": {
    "collapsed": false
   },
   "outputs": [
    {
     "data": {
      "text/html": [
       "<div style=\"max-height:1000px;max-width:1500px;overflow:auto;\"><table frame=\"box\" rules=\"cols\">\n",
       "    <tr>\n",
       "        <th style=\"padding-left: 1em; padding-right: 1em; text-align: center\">userId</th>\n",
       "        <th style=\"padding-left: 1em; padding-right: 1em; text-align: center\">itemId</th>\n",
       "        <th style=\"padding-left: 1em; padding-right: 1em; text-align: center\">score</th>\n",
       "        <th style=\"padding-left: 1em; padding-right: 1em; text-align: center\">rank</th>\n",
       "    </tr>\n",
       "    <tr>\n",
       "        <td style=\"padding-left: 1em; padding-right: 1em; text-align: center; vertical-align: top\">A1ZQLU0KUQK95V</td>\n",
       "        <td style=\"padding-left: 1em; padding-right: 1em; text-align: center; vertical-align: top\">B005SUHPO6</td>\n",
       "        <td style=\"padding-left: 1em; padding-right: 1em; text-align: center; vertical-align: top\">13169.0</td>\n",
       "        <td style=\"padding-left: 1em; padding-right: 1em; text-align: center; vertical-align: top\">1</td>\n",
       "    </tr>\n",
       "    <tr>\n",
       "        <td style=\"padding-left: 1em; padding-right: 1em; text-align: center; vertical-align: top\">A1ZQLU0KUQK95V</td>\n",
       "        <td style=\"padding-left: 1em; padding-right: 1em; text-align: center; vertical-align: top\">B0074BW614</td>\n",
       "        <td style=\"padding-left: 1em; padding-right: 1em; text-align: center; vertical-align: top\">12747.0</td>\n",
       "        <td style=\"padding-left: 1em; padding-right: 1em; text-align: center; vertical-align: top\">2</td>\n",
       "    </tr>\n",
       "    <tr>\n",
       "        <td style=\"padding-left: 1em; padding-right: 1em; text-align: center; vertical-align: top\">A1ZQLU0KUQK95V</td>\n",
       "        <td style=\"padding-left: 1em; padding-right: 1em; text-align: center; vertical-align: top\">B008OHNZI0</td>\n",
       "        <td style=\"padding-left: 1em; padding-right: 1em; text-align: center; vertical-align: top\">12422.0</td>\n",
       "        <td style=\"padding-left: 1em; padding-right: 1em; text-align: center; vertical-align: top\">3</td>\n",
       "    </tr>\n",
       "    <tr>\n",
       "        <td style=\"padding-left: 1em; padding-right: 1em; text-align: center; vertical-align: top\">A1ZQLU0KUQK95V</td>\n",
       "        <td style=\"padding-left: 1em; padding-right: 1em; text-align: center; vertical-align: top\">B00DR0PDNE</td>\n",
       "        <td style=\"padding-left: 1em; padding-right: 1em; text-align: center; vertical-align: top\">11539.0</td>\n",
       "        <td style=\"padding-left: 1em; padding-right: 1em; text-align: center; vertical-align: top\">4</td>\n",
       "    </tr>\n",
       "    <tr>\n",
       "        <td style=\"padding-left: 1em; padding-right: 1em; text-align: center; vertical-align: top\">A1ZQLU0KUQK95V</td>\n",
       "        <td style=\"padding-left: 1em; padding-right: 1em; text-align: center; vertical-align: top\">B00DJFIMW6</td>\n",
       "        <td style=\"padding-left: 1em; padding-right: 1em; text-align: center; vertical-align: top\">11353.0</td>\n",
       "        <td style=\"padding-left: 1em; padding-right: 1em; text-align: center; vertical-align: top\">5</td>\n",
       "    </tr>\n",
       "    <tr>\n",
       "        <td style=\"padding-left: 1em; padding-right: 1em; text-align: center; vertical-align: top\">A1ZQLU0KUQK95V</td>\n",
       "        <td style=\"padding-left: 1em; padding-right: 1em; text-align: center; vertical-align: top\">B00BGA9WK2</td>\n",
       "        <td style=\"padding-left: 1em; padding-right: 1em; text-align: center; vertical-align: top\">10589.0</td>\n",
       "        <td style=\"padding-left: 1em; padding-right: 1em; text-align: center; vertical-align: top\">6</td>\n",
       "    </tr>\n",
       "</table>\n",
       "[6 rows x 4 columns]<br/>\n",
       "</div>"
      ],
      "text/plain": [
       "Columns:\n",
       "\tuserId\tstr\n",
       "\titemId\tstr\n",
       "\tscore\tfloat\n",
       "\trank\tint\n",
       "\n",
       "Rows: 6\n",
       "\n",
       "Data:\n",
       "+----------------+------------+---------+------+\n",
       "|     userId     |   itemId   |  score  | rank |\n",
       "+----------------+------------+---------+------+\n",
       "| A1ZQLU0KUQK95V | B005SUHPO6 | 13169.0 |  1   |\n",
       "| A1ZQLU0KUQK95V | B0074BW614 | 12747.0 |  2   |\n",
       "| A1ZQLU0KUQK95V | B008OHNZI0 | 12422.0 |  3   |\n",
       "| A1ZQLU0KUQK95V | B00DR0PDNE | 11539.0 |  4   |\n",
       "| A1ZQLU0KUQK95V | B00DJFIMW6 | 11353.0 |  5   |\n",
       "| A1ZQLU0KUQK95V | B00BGA9WK2 | 10589.0 |  6   |\n",
       "+----------------+------------+---------+------+\n",
       "[6 rows x 4 columns]"
      ]
     },
     "execution_count": 23,
     "metadata": {},
     "output_type": "execute_result"
    }
   ],
   "source": [
    "popularity_model.recommend(users=[users[0]],k=6)"
   ]
  },
  {
   "cell_type": "markdown",
   "metadata": {},
   "source": [
    "##Function for recommendations to a user"
   ]
  },
  {
   "cell_type": "code",
   "execution_count": 24,
   "metadata": {
    "collapsed": true
   },
   "outputs": [],
   "source": [
    "def recommendations_pop(user,no_of_items):\n",
    "    items_rec = popularity_model.recommend(users=[user],k=no_of_items)[['itemId']]\n",
    "    recommendations = list(metadata[metadata['itemId'] == item['itemId']]['imUrl'][0] for item in items_rec)\n",
    "    recommendations.remove(None)\n",
    "    recommendations = tuple(Image(url=link) for link in recommendations)\n",
    "         \n",
    "    return display(*recommendations)"
   ]
  },
  {
   "cell_type": "code",
   "execution_count": 25,
   "metadata": {
    "collapsed": false
   },
   "outputs": [
    {
     "data": {
      "text/html": [
       "<img src=\"http://ecx.images-amazon.com/images/I/41pBdxcauOL._SY300_.jpg\"/>"
      ],
      "text/plain": [
       "<IPython.core.display.Image object>"
      ]
     },
     "metadata": {},
     "output_type": "display_data"
    },
    {
     "data": {
      "text/html": [
       "<img src=\"http://ecx.images-amazon.com/images/I/41EKUuTJnhL._SY300_.jpg\"/>"
      ],
      "text/plain": [
       "<IPython.core.display.Image object>"
      ]
     },
     "metadata": {},
     "output_type": "display_data"
    },
    {
     "data": {
      "text/html": [
       "<img src=\"http://ecx.images-amazon.com/images/I/51GeOq%2BQP%2BL._SY300_.jpg\"/>"
      ],
      "text/plain": [
       "<IPython.core.display.Image object>"
      ]
     },
     "metadata": {},
     "output_type": "display_data"
    },
    {
     "data": {
      "text/html": [
       "<img src=\"http://ecx.images-amazon.com/images/I/31Hgfy4y9DL._SY300_.jpg\"/>"
      ],
      "text/plain": [
       "<IPython.core.display.Image object>"
      ]
     },
     "metadata": {},
     "output_type": "display_data"
    },
    {
     "data": {
      "text/html": [
       "<img src=\"http://ecx.images-amazon.com/images/I/41omR-LTnaL._SY300_.jpg\"/>"
      ],
      "text/plain": [
       "<IPython.core.display.Image object>"
      ]
     },
     "metadata": {},
     "output_type": "display_data"
    }
   ],
   "source": [
    "recommendations_pop(users[0],6)\n",
    "    "
   ]
  },
  {
   "cell_type": "code",
   "execution_count": 26,
   "metadata": {
    "collapsed": false
   },
   "outputs": [
    {
     "data": {
      "text/html": [
       "<img src=\"http://ecx.images-amazon.com/images/I/41pBdxcauOL._SY300_.jpg\"/>"
      ],
      "text/plain": [
       "<IPython.core.display.Image object>"
      ]
     },
     "metadata": {},
     "output_type": "display_data"
    },
    {
     "data": {
      "text/html": [
       "<img src=\"http://ecx.images-amazon.com/images/I/41EKUuTJnhL._SY300_.jpg\"/>"
      ],
      "text/plain": [
       "<IPython.core.display.Image object>"
      ]
     },
     "metadata": {},
     "output_type": "display_data"
    },
    {
     "data": {
      "text/html": [
       "<img src=\"http://ecx.images-amazon.com/images/I/51GeOq%2BQP%2BL._SY300_.jpg\"/>"
      ],
      "text/plain": [
       "<IPython.core.display.Image object>"
      ]
     },
     "metadata": {},
     "output_type": "display_data"
    },
    {
     "data": {
      "text/html": [
       "<img src=\"http://ecx.images-amazon.com/images/I/31Hgfy4y9DL._SY300_.jpg\"/>"
      ],
      "text/plain": [
       "<IPython.core.display.Image object>"
      ]
     },
     "metadata": {},
     "output_type": "display_data"
    },
    {
     "data": {
      "text/html": [
       "<img src=\"http://ecx.images-amazon.com/images/I/41omR-LTnaL._SY300_.jpg\"/>"
      ],
      "text/plain": [
       "<IPython.core.display.Image object>"
      ]
     },
     "metadata": {},
     "output_type": "display_data"
    }
   ],
   "source": [
    "recommendations_pop(users[1],6)"
   ]
  },
  {
   "cell_type": "markdown",
   "metadata": {},
   "source": [
    "# Build a Item recommender with personalization\n",
    "#We now create a model that allows us to make personalized recommendations to each user. \n",
    "## Item-item similarity Collaborative filtering"
   ]
  },
  {
   "cell_type": "code",
   "execution_count": 27,
   "metadata": {
    "collapsed": false
   },
   "outputs": [
    {
     "data": {
      "text/html": [
       "<pre>Recsys training: model = item_similarity</pre>"
      ],
      "text/plain": [
       "Recsys training: model = item_similarity"
      ]
     },
     "metadata": {},
     "output_type": "display_data"
    },
    {
     "data": {
      "text/html": [
       "<pre>Warning: Ignoring columns rating, timestamp, category;</pre>"
      ],
      "text/plain": [
       "Warning: Ignoring columns rating, timestamp, category;"
      ]
     },
     "metadata": {},
     "output_type": "display_data"
    },
    {
     "data": {
      "text/html": [
       "<pre>    To use one of these as a target column, set target = <column_name></pre>"
      ],
      "text/plain": [
       "    To use one of these as a target column, set target = <column_name>"
      ]
     },
     "metadata": {},
     "output_type": "display_data"
    },
    {
     "data": {
      "text/html": [
       "<pre>    and use a method that allows the use of a target.</pre>"
      ],
      "text/plain": [
       "    and use a method that allows the use of a target."
      ]
     },
     "metadata": {},
     "output_type": "display_data"
    },
    {
     "data": {
      "text/html": [
       "<pre>Preparing data set.</pre>"
      ],
      "text/plain": [
       "Preparing data set."
      ]
     },
     "metadata": {},
     "output_type": "display_data"
    },
    {
     "data": {
      "text/html": [
       "<pre>    Data has 21121223 observations with 8756999 users and 2685830 items.</pre>"
      ],
      "text/plain": [
       "    Data has 21121223 observations with 8756999 users and 2685830 items."
      ]
     },
     "metadata": {},
     "output_type": "display_data"
    },
    {
     "data": {
      "text/html": [
       "<pre>    Data prepared in: 56.452s</pre>"
      ],
      "text/plain": [
       "    Data prepared in: 56.452s"
      ]
     },
     "metadata": {},
     "output_type": "display_data"
    },
    {
     "data": {
      "text/html": [
       "<pre>Training model from provided data.</pre>"
      ],
      "text/plain": [
       "Training model from provided data."
      ]
     },
     "metadata": {},
     "output_type": "display_data"
    },
    {
     "data": {
      "text/html": [
       "<pre>Gathering per-item and per-user statistics.</pre>"
      ],
      "text/plain": [
       "Gathering per-item and per-user statistics."
      ]
     },
     "metadata": {},
     "output_type": "display_data"
    },
    {
     "data": {
      "text/html": [
       "<pre>+--------------------------------+------------+</pre>"
      ],
      "text/plain": [
       "+--------------------------------+------------+"
      ]
     },
     "metadata": {},
     "output_type": "display_data"
    },
    {
     "data": {
      "text/html": [
       "<pre>| Elapsed Time (Item Statistics) | % Complete |</pre>"
      ],
      "text/plain": [
       "| Elapsed Time (Item Statistics) | % Complete |"
      ]
     },
     "metadata": {},
     "output_type": "display_data"
    },
    {
     "data": {
      "text/html": [
       "<pre>+--------------------------------+------------+</pre>"
      ],
      "text/plain": [
       "+--------------------------------+------------+"
      ]
     },
     "metadata": {},
     "output_type": "display_data"
    },
    {
     "data": {
      "text/html": [
       "<pre>| 14.067ms                       | 0          |</pre>"
      ],
      "text/plain": [
       "| 14.067ms                       | 0          |"
      ]
     },
     "metadata": {},
     "output_type": "display_data"
    },
    {
     "data": {
      "text/html": [
       "<pre>| 924.111ms                      | 100        |</pre>"
      ],
      "text/plain": [
       "| 924.111ms                      | 100        |"
      ]
     },
     "metadata": {},
     "output_type": "display_data"
    },
    {
     "data": {
      "text/html": [
       "<pre>+--------------------------------+------------+</pre>"
      ],
      "text/plain": [
       "+--------------------------------+------------+"
      ]
     },
     "metadata": {},
     "output_type": "display_data"
    },
    {
     "data": {
      "text/html": [
       "<pre>Setting up lookup tables.</pre>"
      ],
      "text/plain": [
       "Setting up lookup tables."
      ]
     },
     "metadata": {},
     "output_type": "display_data"
    },
    {
     "data": {
      "text/html": [
       "<pre>Processing data in one pass using sparse lookup tables.</pre>"
      ],
      "text/plain": [
       "Processing data in one pass using sparse lookup tables."
      ]
     },
     "metadata": {},
     "output_type": "display_data"
    },
    {
     "data": {
      "text/html": [
       "<pre>+-------------------------------------+------------------+-----------------+</pre>"
      ],
      "text/plain": [
       "+-------------------------------------+------------------+-----------------+"
      ]
     },
     "metadata": {},
     "output_type": "display_data"
    },
    {
     "data": {
      "text/html": [
       "<pre>| Elapsed Time (Constructing Lookups) | Total % Complete | Items Processed |</pre>"
      ],
      "text/plain": [
       "| Elapsed Time (Constructing Lookups) | Total % Complete | Items Processed |"
      ]
     },
     "metadata": {},
     "output_type": "display_data"
    },
    {
     "data": {
      "text/html": [
       "<pre>+-------------------------------------+------------------+-----------------+</pre>"
      ],
      "text/plain": [
       "+-------------------------------------+------------------+-----------------+"
      ]
     },
     "metadata": {},
     "output_type": "display_data"
    },
    {
     "data": {
      "text/html": [
       "<pre>| 8.58s                               | 0                | 0               |</pre>"
      ],
      "text/plain": [
       "| 8.58s                               | 0                | 0               |"
      ]
     },
     "metadata": {},
     "output_type": "display_data"
    },
    {
     "data": {
      "text/html": [
       "<pre>| 9.58s                               | 1                | 29725           |</pre>"
      ],
      "text/plain": [
       "| 9.58s                               | 1                | 29725           |"
      ]
     },
     "metadata": {},
     "output_type": "display_data"
    },
    {
     "data": {
      "text/html": [
       "<pre>| 11.02s                              | 1.5              | 43295           |</pre>"
      ],
      "text/plain": [
       "| 11.02s                              | 1.5              | 43295           |"
      ]
     },
     "metadata": {},
     "output_type": "display_data"
    },
    {
     "data": {
      "text/html": [
       "<pre>| 11.58s                              | 2                | 58092           |</pre>"
      ],
      "text/plain": [
       "| 11.58s                              | 2                | 58092           |"
      ]
     },
     "metadata": {},
     "output_type": "display_data"
    },
    {
     "data": {
      "text/html": [
       "<pre>| 12.59s                              | 3.75             | 102410          |</pre>"
      ],
      "text/plain": [
       "| 12.59s                              | 3.75             | 102410          |"
      ]
     },
     "metadata": {},
     "output_type": "display_data"
    },
    {
     "data": {
      "text/html": [
       "<pre>| 13.59s                              | 4.25             | 117576          |</pre>"
      ],
      "text/plain": [
       "| 13.59s                              | 4.25             | 117576          |"
      ]
     },
     "metadata": {},
     "output_type": "display_data"
    },
    {
     "data": {
      "text/html": [
       "<pre>| 14.58s                              | 6.5              | 180452          |</pre>"
      ],
      "text/plain": [
       "| 14.58s                              | 6.5              | 180452          |"
      ]
     },
     "metadata": {},
     "output_type": "display_data"
    },
    {
     "data": {
      "text/html": [
       "<pre>| 15.59s                              | 7                | 193532          |</pre>"
      ],
      "text/plain": [
       "| 15.59s                              | 7                | 193532          |"
      ]
     },
     "metadata": {},
     "output_type": "display_data"
    },
    {
     "data": {
      "text/html": [
       "<pre>| 16.58s                              | 11.75            | 318030          |</pre>"
      ],
      "text/plain": [
       "| 16.58s                              | 11.75            | 318030          |"
      ]
     },
     "metadata": {},
     "output_type": "display_data"
    },
    {
     "data": {
      "text/html": [
       "<pre>| 17.60s                              | 13               | 352210          |</pre>"
      ],
      "text/plain": [
       "| 17.60s                              | 13               | 352210          |"
      ]
     },
     "metadata": {},
     "output_type": "display_data"
    },
    {
     "data": {
      "text/html": [
       "<pre>| 18.58s                              | 13.5             | 368794          |</pre>"
      ],
      "text/plain": [
       "| 18.58s                              | 13.5             | 368794          |"
      ]
     },
     "metadata": {},
     "output_type": "display_data"
    },
    {
     "data": {
      "text/html": [
       "<pre>| 19.58s                              | 19.25            | 517784          |</pre>"
      ],
      "text/plain": [
       "| 19.58s                              | 19.25            | 517784          |"
      ]
     },
     "metadata": {},
     "output_type": "display_data"
    },
    {
     "data": {
      "text/html": [
       "<pre>| 20.58s                              | 24.75            | 665361          |</pre>"
      ],
      "text/plain": [
       "| 20.58s                              | 24.75            | 665361          |"
      ]
     },
     "metadata": {},
     "output_type": "display_data"
    },
    {
     "data": {
      "text/html": [
       "<pre>| 21.59s                              | 26.25            | 706702          |</pre>"
      ],
      "text/plain": [
       "| 21.59s                              | 26.25            | 706702          |"
      ]
     },
     "metadata": {},
     "output_type": "display_data"
    },
    {
     "data": {
      "text/html": [
       "<pre>| 22.59s                              | 26.75            | 724671          |</pre>"
      ],
      "text/plain": [
       "| 22.59s                              | 26.75            | 724671          |"
      ]
     },
     "metadata": {},
     "output_type": "display_data"
    },
    {
     "data": {
      "text/html": [
       "<pre>| 23.59s                              | 29.75            | 804672          |</pre>"
      ],
      "text/plain": [
       "| 23.59s                              | 29.75            | 804672          |"
      ]
     },
     "metadata": {},
     "output_type": "display_data"
    },
    {
     "data": {
      "text/html": [
       "<pre>| 24.59s                              | 38.75            | 1046757         |</pre>"
      ],
      "text/plain": [
       "| 24.59s                              | 38.75            | 1046757         |"
      ]
     },
     "metadata": {},
     "output_type": "display_data"
    },
    {
     "data": {
      "text/html": [
       "<pre>| 25.59s                              | 47.5             | 1277143         |</pre>"
      ],
      "text/plain": [
       "| 25.59s                              | 47.5             | 1277143         |"
      ]
     },
     "metadata": {},
     "output_type": "display_data"
    },
    {
     "data": {
      "text/html": [
       "<pre>| 26.59s                              | 52.5             | 1413373         |</pre>"
      ],
      "text/plain": [
       "| 26.59s                              | 52.5             | 1413373         |"
      ]
     },
     "metadata": {},
     "output_type": "display_data"
    },
    {
     "data": {
      "text/html": [
       "<pre>| 27.59s                              | 54               | 1453563         |</pre>"
      ],
      "text/plain": [
       "| 27.59s                              | 54               | 1453563         |"
      ]
     },
     "metadata": {},
     "output_type": "display_data"
    },
    {
     "data": {
      "text/html": [
       "<pre>| 28.59s                              | 54.5             | 1467376         |</pre>"
      ],
      "text/plain": [
       "| 28.59s                              | 54.5             | 1467376         |"
      ]
     },
     "metadata": {},
     "output_type": "display_data"
    },
    {
     "data": {
      "text/html": [
       "<pre>| 29.59s                              | 55               | 1481435         |</pre>"
      ],
      "text/plain": [
       "| 29.59s                              | 55               | 1481435         |"
      ]
     },
     "metadata": {},
     "output_type": "display_data"
    },
    {
     "data": {
      "text/html": [
       "<pre>| 30.59s                              | 56.25            | 1510880         |</pre>"
      ],
      "text/plain": [
       "| 30.59s                              | 56.25            | 1510880         |"
      ]
     },
     "metadata": {},
     "output_type": "display_data"
    },
    {
     "data": {
      "text/html": [
       "<pre>| 31.59s                              | 57.25            | 1538673         |</pre>"
      ],
      "text/plain": [
       "| 31.59s                              | 57.25            | 1538673         |"
      ]
     },
     "metadata": {},
     "output_type": "display_data"
    },
    {
     "data": {
      "text/html": [
       "<pre>| 32.59s                              | 59.25            | 1594468         |</pre>"
      ],
      "text/plain": [
       "| 32.59s                              | 59.25            | 1594468         |"
      ]
     },
     "metadata": {},
     "output_type": "display_data"
    },
    {
     "data": {
      "text/html": [
       "<pre>| 33.59s                              | 62.25            | 1674859         |</pre>"
      ],
      "text/plain": [
       "| 33.59s                              | 62.25            | 1674859         |"
      ]
     },
     "metadata": {},
     "output_type": "display_data"
    },
    {
     "data": {
      "text/html": [
       "<pre>| 34.59s                              | 65.75            | 1767101         |</pre>"
      ],
      "text/plain": [
       "| 34.59s                              | 65.75            | 1767101         |"
      ]
     },
     "metadata": {},
     "output_type": "display_data"
    },
    {
     "data": {
      "text/html": [
       "<pre>| 35.59s                              | 67.75            | 1822150         |</pre>"
      ],
      "text/plain": [
       "| 35.59s                              | 67.75            | 1822150         |"
      ]
     },
     "metadata": {},
     "output_type": "display_data"
    },
    {
     "data": {
      "text/html": [
       "<pre>| 36.60s                              | 74.5             | 2003884         |</pre>"
      ],
      "text/plain": [
       "| 36.60s                              | 74.5             | 2003884         |"
      ]
     },
     "metadata": {},
     "output_type": "display_data"
    },
    {
     "data": {
      "text/html": [
       "<pre>| 37.60s                              | 80.5             | 2162510         |</pre>"
      ],
      "text/plain": [
       "| 37.60s                              | 80.5             | 2162510         |"
      ]
     },
     "metadata": {},
     "output_type": "display_data"
    },
    {
     "data": {
      "text/html": [
       "<pre>| 38.60s                              | 86.5             | 2325946         |</pre>"
      ],
      "text/plain": [
       "| 38.60s                              | 86.5             | 2325946         |"
      ]
     },
     "metadata": {},
     "output_type": "display_data"
    },
    {
     "data": {
      "text/html": [
       "<pre>| 39.61s                              | 90.25            | 2425171         |</pre>"
      ],
      "text/plain": [
       "| 39.61s                              | 90.25            | 2425171         |"
      ]
     },
     "metadata": {},
     "output_type": "display_data"
    },
    {
     "data": {
      "text/html": [
       "<pre>| 40.60s                              | 92.25            | 2483741         |</pre>"
      ],
      "text/plain": [
       "| 40.60s                              | 92.25            | 2483741         |"
      ]
     },
     "metadata": {},
     "output_type": "display_data"
    },
    {
     "data": {
      "text/html": [
       "<pre>| 41.60s                              | 98.25            | 2641523         |</pre>"
      ],
      "text/plain": [
       "| 41.60s                              | 98.25            | 2641523         |"
      ]
     },
     "metadata": {},
     "output_type": "display_data"
    },
    {
     "data": {
      "text/html": [
       "<pre>| 2m 40s                              | 100              | 2685830         |</pre>"
      ],
      "text/plain": [
       "| 2m 40s                              | 100              | 2685830         |"
      ]
     },
     "metadata": {},
     "output_type": "display_data"
    },
    {
     "data": {
      "text/html": [
       "<pre>+-------------------------------------+------------------+-----------------+</pre>"
      ],
      "text/plain": [
       "+-------------------------------------+------------------+-----------------+"
      ]
     },
     "metadata": {},
     "output_type": "display_data"
    },
    {
     "data": {
      "text/html": [
       "<pre>Finalizing lookup tables.</pre>"
      ],
      "text/plain": [
       "Finalizing lookup tables."
      ]
     },
     "metadata": {},
     "output_type": "display_data"
    },
    {
     "data": {
      "text/html": [
       "<pre>Generating candidate set for working with new users.</pre>"
      ],
      "text/plain": [
       "Generating candidate set for working with new users."
      ]
     },
     "metadata": {},
     "output_type": "display_data"
    },
    {
     "data": {
      "text/html": [
       "<pre>Finished training in 167.579s</pre>"
      ],
      "text/plain": [
       "Finished training in 167.579s"
      ]
     },
     "metadata": {},
     "output_type": "display_data"
    }
   ],
   "source": [
    "personalized_model = gl.item_similarity_recommender.create(train_data,\n",
    "                                                                user_id='userId',\n",
    "                                                                item_id='itemId')"
   ]
  },
  {
   "cell_type": "code",
   "execution_count": 28,
   "metadata": {
    "collapsed": false,
    "scrolled": true
   },
   "outputs": [
    {
     "data": {
      "text/plain": [
       "Class                            : ItemSimilarityRecommender\n",
       "\n",
       "Schema\n",
       "------\n",
       "User ID                          : userId\n",
       "Item ID                          : itemId\n",
       "Target                           : None\n",
       "Additional observation features  : 0\n",
       "User side features               : []\n",
       "Item side features               : []\n",
       "\n",
       "Statistics\n",
       "----------\n",
       "Number of observations           : 21121223\n",
       "Number of users                  : 8756999\n",
       "Number of items                  : 2685830\n",
       "\n",
       "Training summary\n",
       "----------------\n",
       "Training time                    : 167.5822\n",
       "\n",
       "Model Parameters\n",
       "----------------\n",
       "Model class                      : ItemSimilarityRecommender\n",
       "threshold                        : 0.001\n",
       "similarity_type                  : jaccard\n",
       "training_method                  : auto\n",
       "\n",
       "Other Settings\n",
       "--------------\n",
       "degree_approximation_threshold   : 4096\n",
       "sparse_density_estimation_sample_size : 4096\n",
       "max_data_passes                  : 4096\n",
       "target_memory_usage              : 8589934592\n",
       "seed_item_set_size               : 50\n",
       "nearest_neighbors_interaction_proportion_threshold : 0.05\n",
       "max_item_neighborhood_size       : 64"
      ]
     },
     "execution_count": 28,
     "metadata": {},
     "output_type": "execute_result"
    }
   ],
   "source": [
    "personalized_model"
   ]
  },
  {
   "cell_type": "markdown",
   "metadata": {},
   "source": [
    "###Applying the personalized model to make item recommendations\n",
    "##As you can see, different users get different recommendations now."
   ]
  },
  {
   "cell_type": "code",
   "execution_count": 30,
   "metadata": {
    "collapsed": true
   },
   "outputs": [],
   "source": [
    "def recommendations_item_sim(user,no_of_items):\n",
    "    items_rec = personalized_model.recommend(users=[user],k=no_of_items)[['itemId']]\n",
    "    recommendations = list(metadata[metadata['itemId'] == item['itemId']]['imUrl'][0] for item in items_rec)\n",
    "    recommendations = tuple(Image(url=link) for link in recommendations)       \n",
    "    return display(*recommendations)"
   ]
  },
  {
   "cell_type": "code",
   "execution_count": 34,
   "metadata": {
    "collapsed": false,
    "scrolled": true
   },
   "outputs": [
    {
     "data": {
      "text/html": [
       "<img src=\"http://ecx.images-amazon.com/images/I/51h8GHMSw%2BL._SY300_.jpg\"/>"
      ],
      "text/plain": [
       "<IPython.core.display.Image object>"
      ]
     },
     "metadata": {},
     "output_type": "display_data"
    },
    {
     "data": {
      "text/html": [
       "<img src=\"http://ecx.images-amazon.com/images/I/51XdUL0NbKL._SY300_.jpg\"/>"
      ],
      "text/plain": [
       "<IPython.core.display.Image object>"
      ]
     },
     "metadata": {},
     "output_type": "display_data"
    },
    {
     "data": {
      "text/html": [
       "<img src=\"http://ecx.images-amazon.com/images/I/511dty-BIbL._SY300_.jpg\"/>"
      ],
      "text/plain": [
       "<IPython.core.display.Image object>"
      ]
     },
     "metadata": {},
     "output_type": "display_data"
    },
    {
     "data": {
      "text/html": [
       "<img src=\"http://ecx.images-amazon.com/images/I/5186US39j6L._SY300_.jpg\"/>"
      ],
      "text/plain": [
       "<IPython.core.display.Image object>"
      ]
     },
     "metadata": {},
     "output_type": "display_data"
    },
    {
     "data": {
      "text/html": [
       "<img src=\"http://ecx.images-amazon.com/images/I/41ip2reJ0hL._SY300_.jpg\"/>"
      ],
      "text/plain": [
       "<IPython.core.display.Image object>"
      ]
     },
     "metadata": {},
     "output_type": "display_data"
    },
    {
     "data": {
      "text/html": [
       "<img src=\"http://ecx.images-amazon.com/images/I/51FdTYDANVL._SY300_.jpg\"/>"
      ],
      "text/plain": [
       "<IPython.core.display.Image object>"
      ]
     },
     "metadata": {},
     "output_type": "display_data"
    }
   ],
   "source": [
    "recommendations_item_sim(users[200],6)"
   ]
  },
  {
   "cell_type": "code",
   "execution_count": 38,
   "metadata": {
    "collapsed": false
   },
   "outputs": [
    {
     "data": {
      "text/html": [
       "<img src=\"http://ecx.images-amazon.com/images/I/41GZd9TK8GL._SX300_.jpg\"/>"
      ],
      "text/plain": [
       "<IPython.core.display.Image object>"
      ]
     },
     "metadata": {},
     "output_type": "display_data"
    },
    {
     "data": {
      "text/html": [
       "<img src=\"http://ecx.images-amazon.com/images/I/41p3C82XdLL._SX300_.jpg\"/>"
      ],
      "text/plain": [
       "<IPython.core.display.Image object>"
      ]
     },
     "metadata": {},
     "output_type": "display_data"
    },
    {
     "data": {
      "text/html": [
       "<img src=\"http://ecx.images-amazon.com/images/I/41yxIXed-FL._SX300_.jpg\"/>"
      ],
      "text/plain": [
       "<IPython.core.display.Image object>"
      ]
     },
     "metadata": {},
     "output_type": "display_data"
    },
    {
     "data": {
      "text/html": [
       "<img src=\"http://ecx.images-amazon.com/images/I/41EKUuTJnhL._SY300_.jpg\"/>"
      ],
      "text/plain": [
       "<IPython.core.display.Image object>"
      ]
     },
     "metadata": {},
     "output_type": "display_data"
    },
    {
     "data": {
      "text/html": [
       "<img src=\"http://ecx.images-amazon.com/images/I/31%2BP6mx7-ZL._SY300_.jpg\"/>"
      ],
      "text/plain": [
       "<IPython.core.display.Image object>"
      ]
     },
     "metadata": {},
     "output_type": "display_data"
    },
    {
     "data": {
      "text/html": [
       "<img src=\"http://ecx.images-amazon.com/images/I/41z5Y2lLjFL._SY300_.jpg\"/>"
      ],
      "text/plain": [
       "<IPython.core.display.Image object>"
      ]
     },
     "metadata": {},
     "output_type": "display_data"
    }
   ],
   "source": [
    "recommendations_item_sim(users[500],6)"
   ]
  },
  {
   "cell_type": "markdown",
   "metadata": {},
   "source": [
    "###We can also apply the model to find similar items to any item in the dataset"
   ]
  },
  {
   "cell_type": "code",
   "execution_count": 39,
   "metadata": {
    "collapsed": false
   },
   "outputs": [],
   "source": [
    "def recommendations_item(item,no_of_items):\n",
    "    items_rec = personalized_model.get_similar_items([item],k=no_of_items)[['similar']]\n",
    "    recommendations = list(metadata[metadata['itemId'] == item['similar']]['imUrl'][0] for item in items_rec)\n",
    "    if None in recommendations:\n",
    "        recommendations.remove(None)\n",
    "    recommendations = tuple(Image(url=link) for link in recommendations)\n",
    "    return display(*recommendations)"
   ]
  },
  {
   "cell_type": "code",
   "execution_count": 40,
   "metadata": {
    "collapsed": false
   },
   "outputs": [
    {
     "data": {
      "text/html": [
       "<img src=\"http://ecx.images-amazon.com/images/I/41Vpa-kf0NL._SY300_.jpg\"/>"
      ],
      "text/plain": [
       "<IPython.core.display.Image object>"
      ]
     },
     "metadata": {},
     "output_type": "display_data"
    },
    {
     "data": {
      "text/html": [
       "<img src=\"http://ecx.images-amazon.com/images/I/41y0zw2tBKL._SX300_.jpg\"/>"
      ],
      "text/plain": [
       "<IPython.core.display.Image object>"
      ]
     },
     "metadata": {},
     "output_type": "display_data"
    },
    {
     "data": {
      "text/html": [
       "<img src=\"http://ecx.images-amazon.com/images/I/313wJ-cfUwL._SX300_.jpg\"/>"
      ],
      "text/plain": [
       "<IPython.core.display.Image object>"
      ]
     },
     "metadata": {},
     "output_type": "display_data"
    },
    {
     "data": {
      "text/html": [
       "<img src=\"http://ecx.images-amazon.com/images/I/51oVuqVEVLL._SX342_.jpg\"/>"
      ],
      "text/plain": [
       "<IPython.core.display.Image object>"
      ]
     },
     "metadata": {},
     "output_type": "display_data"
    },
    {
     "data": {
      "text/html": [
       "<img src=\"http://ecx.images-amazon.com/images/I/41Q49111YNL._SY300_.jpg\"/>"
      ],
      "text/plain": [
       "<IPython.core.display.Image object>"
      ]
     },
     "metadata": {},
     "output_type": "display_data"
    },
    {
     "data": {
      "text/html": [
       "<img src=\"http://ecx.images-amazon.com/images/I/419BZKJXWYL.jpg\"/>"
      ],
      "text/plain": [
       "<IPython.core.display.Image object>"
      ]
     },
     "metadata": {},
     "output_type": "display_data"
    }
   ],
   "source": [
    "recommendations_item(items[10],6)"
   ]
  },
  {
   "cell_type": "code",
   "execution_count": 41,
   "metadata": {
    "collapsed": false
   },
   "outputs": [
    {
     "data": {
      "text/html": [
       "<img src=\"http://ecx.images-amazon.com/images/I/41MwEOPgyLL._SX300_.jpg\"/>"
      ],
      "text/plain": [
       "<IPython.core.display.Image object>"
      ]
     },
     "metadata": {},
     "output_type": "display_data"
    },
    {
     "data": {
      "text/html": [
       "<img src=\"http://ecx.images-amazon.com/images/I/21TecpNSZ2L._SX300_.jpg\"/>"
      ],
      "text/plain": [
       "<IPython.core.display.Image object>"
      ]
     },
     "metadata": {},
     "output_type": "display_data"
    },
    {
     "data": {
      "text/html": [
       "<img src=\"http://ecx.images-amazon.com/images/I/51e3YqUrWWL._SX300_.jpg\"/>"
      ],
      "text/plain": [
       "<IPython.core.display.Image object>"
      ]
     },
     "metadata": {},
     "output_type": "display_data"
    },
    {
     "data": {
      "text/html": [
       "<img src=\"http://ecx.images-amazon.com/images/I/4179K7acDlL._SX300_.jpg\"/>"
      ],
      "text/plain": [
       "<IPython.core.display.Image object>"
      ]
     },
     "metadata": {},
     "output_type": "display_data"
    },
    {
     "data": {
      "text/html": [
       "<img src=\"http://ecx.images-amazon.com/images/I/51s8vtMWlHL._SX300_.jpg\"/>"
      ],
      "text/plain": [
       "<IPython.core.display.Image object>"
      ]
     },
     "metadata": {},
     "output_type": "display_data"
    },
    {
     "data": {
      "text/html": [
       "<img src=\"http://ecx.images-amazon.com/images/I/4184cLQgEIL._SY300_.jpg\"/>"
      ],
      "text/plain": [
       "<IPython.core.display.Image object>"
      ]
     },
     "metadata": {},
     "output_type": "display_data"
    }
   ],
   "source": [
    "recommendations_item(items[20],6)"
   ]
  },
  {
   "cell_type": "markdown",
   "metadata": {},
   "source": [
    "#Quantitative comparison between the models\n",
    "#We now formally compare the popularity and the personalized models using precision-recall curves. "
   ]
  },
  {
   "cell_type": "code",
   "execution_count": null,
   "metadata": {
    "collapsed": false
   },
   "outputs": [
    {
     "name": "stdout",
     "output_type": "stream",
     "text": [
      "compare_models: using 252742 users to estimate model performance\n"
     ]
    }
   ],
   "source": [
    "model_performance = gl.compare(test_data, [popularity_model, personalized_model], \n",
    "                                     user_sample=0.5)\n",
    "gl.show_comparison(model_performance,[popularity_model, personalized_model])\n"
   ]
  },
  {
   "cell_type": "code",
   "execution_count": null,
   "metadata": {
    "collapsed": true
   },
   "outputs": [],
   "source": []
  },
  {
   "cell_type": "code",
   "execution_count": null,
   "metadata": {
    "collapsed": true
   },
   "outputs": [],
   "source": []
  }
 ],
 "metadata": {
  "kernelspec": {
   "display_name": "Python 2",
   "language": "python",
   "name": "python2"
  },
  "language_info": {
   "codemirror_mode": {
    "name": "ipython",
    "version": 2
   },
   "file_extension": ".py",
   "mimetype": "text/x-python",
   "name": "python",
   "nbconvert_exporter": "python",
   "pygments_lexer": "ipython2",
   "version": "2.7.11"
  }
 },
 "nbformat": 4,
 "nbformat_minor": 0
}
