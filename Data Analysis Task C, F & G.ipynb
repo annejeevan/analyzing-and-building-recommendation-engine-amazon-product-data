{
 "cells": [
  {
   "cell_type": "code",
   "execution_count": 2,
   "metadata": {
    "collapsed": false
   },
   "outputs": [
    {
     "ename": "ImportError",
     "evalue": "No module named 'graphlab'",
     "output_type": "error",
     "traceback": [
      "\u001b[1;31m---------------------------------------------------------------------------\u001b[0m",
      "\u001b[1;31mImportError\u001b[0m                               Traceback (most recent call last)",
      "\u001b[1;32m<ipython-input-2-5580633b1cec>\u001b[0m in \u001b[0;36m<module>\u001b[1;34m()\u001b[0m\n\u001b[1;32m----> 1\u001b[1;33m \u001b[1;32mimport\u001b[0m \u001b[0mgraphlab\u001b[0m \u001b[1;32mas\u001b[0m \u001b[0mgl\u001b[0m\u001b[1;33m\u001b[0m\u001b[0m\n\u001b[0m\u001b[0;32m      2\u001b[0m \u001b[1;32mimport\u001b[0m \u001b[0mdatetime\u001b[0m \u001b[1;32mas\u001b[0m \u001b[0mdt\u001b[0m\u001b[1;33m\u001b[0m\u001b[0m\n\u001b[0;32m      3\u001b[0m \u001b[1;32mimport\u001b[0m \u001b[0mgraphlab\u001b[0m\u001b[1;33m.\u001b[0m\u001b[0maggregate\u001b[0m \u001b[1;32mas\u001b[0m \u001b[0magg\u001b[0m\u001b[1;33m\u001b[0m\u001b[0m\n\u001b[0;32m      4\u001b[0m \u001b[1;32mimport\u001b[0m \u001b[0msys\u001b[0m\u001b[1;33m\u001b[0m\u001b[0m\n\u001b[0;32m      5\u001b[0m \u001b[1;32mimport\u001b[0m \u001b[0mplotly\u001b[0m\u001b[1;33m.\u001b[0m\u001b[0mtools\u001b[0m \u001b[1;32mas\u001b[0m \u001b[0mtls\u001b[0m\u001b[1;33m\u001b[0m\u001b[0m\n",
      "\u001b[1;31mImportError\u001b[0m: No module named 'graphlab'"
     ]
    }
   ],
   "source": [
    "import graphlab as gl\n",
    "import datetime as dt\n",
    "import graphlab.aggregate as agg\n",
    "import sys\n",
    "import plotly.tools as tls\n",
    "import plotly.plotly\n",
    "import plotly\n",
    "plotly.offline.init_notebook_mode()\n",
    "from plotly.graph_objs import *\n",
    "import pandas as pd\n",
    "import numpy as np\n",
    "import os\n",
    "import re"
   ]
  },
  {
   "cell_type": "code",
   "execution_count": 3,
   "metadata": {
    "collapsed": false
   },
   "outputs": [
    {
     "ename": "SyntaxError",
     "evalue": "invalid syntax (<ipython-input-3-e0be6aaadadd>, line 1)",
     "output_type": "error",
     "traceback": [
      "\u001b[1;36m  File \u001b[1;32m\"<ipython-input-3-e0be6aaadadd>\"\u001b[1;36m, line \u001b[1;32m1\u001b[0m\n\u001b[1;33m    print os.getcwd()\u001b[0m\n\u001b[1;37m           ^\u001b[0m\n\u001b[1;31mSyntaxError\u001b[0m\u001b[1;31m:\u001b[0m invalid syntax\n"
     ]
    }
   ],
   "source": [
    "print os.getcwd()\n",
    "current_path = \"D:\\\\BGSU\\\\2nd Sem\\\\BigData\\\\Main Project\\\\data\"\n",
    "os.chdir(current_path)\n",
    "print os.getcwd()"
   ]
  },
  {
   "cell_type": "code",
   "execution_count": 3,
   "metadata": {
    "collapsed": false
   },
   "outputs": [],
   "source": [
    "files = os.listdir(current_path)"
   ]
  },
  {
   "cell_type": "code",
   "execution_count": 4,
   "metadata": {
    "collapsed": false
   },
   "outputs": [
    {
     "name": "stdout",
     "output_type": "stream",
     "text": [
      "24\n"
     ]
    }
   ],
   "source": [
    "print len(files)"
   ]
  },
  {
   "cell_type": "code",
   "execution_count": 5,
   "metadata": {
    "collapsed": false
   },
   "outputs": [
    {
     "name": "stdout",
     "output_type": "stream",
     "text": [
      "This non-commercial license of GraphLab Create for academic use is assigned to janne@bgsu.edu and will expire on March 19, 2018.\n"
     ]
    },
    {
     "name": "stderr",
     "output_type": "stream",
     "text": [
      "[INFO] graphlab.cython.cy_server: GraphLab Create v2.1 started. Logging: C:\\Users\\jeeva\\AppData\\Local\\Temp\\graphlab_server_1492907755.log.0\n"
     ]
    },
    {
     "data": {
      "text/html": [
       "<pre>Finished parsing file D:\\BGSU\\2nd Sem\\BigData\\Main Project\\data\\ratings_Amazon_Instant_Video.csv</pre>"
      ],
      "text/plain": [
       "Finished parsing file D:\\BGSU\\2nd Sem\\BigData\\Main Project\\data\\ratings_Amazon_Instant_Video.csv"
      ]
     },
     "metadata": {},
     "output_type": "display_data"
    },
    {
     "data": {
      "text/html": [
       "<pre>Parsing completed. Parsed 100 lines in 0.651734 secs.</pre>"
      ],
      "text/plain": [
       "Parsing completed. Parsed 100 lines in 0.651734 secs."
      ]
     },
     "metadata": {},
     "output_type": "display_data"
    },
    {
     "data": {
      "text/html": [
       "<pre>Finished parsing file D:\\BGSU\\2nd Sem\\BigData\\Main Project\\data\\ratings_Amazon_Instant_Video.csv</pre>"
      ],
      "text/plain": [
       "Finished parsing file D:\\BGSU\\2nd Sem\\BigData\\Main Project\\data\\ratings_Amazon_Instant_Video.csv"
      ]
     },
     "metadata": {},
     "output_type": "display_data"
    },
    {
     "data": {
      "text/html": [
       "<pre>Parsing completed. Parsed 583933 lines in 0.498324 secs.</pre>"
      ],
      "text/plain": [
       "Parsing completed. Parsed 583933 lines in 0.498324 secs."
      ]
     },
     "metadata": {},
     "output_type": "display_data"
    },
    {
     "data": {
      "text/html": [
       "<pre>Finished parsing file D:\\BGSU\\2nd Sem\\BigData\\Main Project\\data\\ratings_Apps_for_Android.csv</pre>"
      ],
      "text/plain": [
       "Finished parsing file D:\\BGSU\\2nd Sem\\BigData\\Main Project\\data\\ratings_Apps_for_Android.csv"
      ]
     },
     "metadata": {},
     "output_type": "display_data"
    },
    {
     "data": {
      "text/html": [
       "<pre>Parsing completed. Parsed 100 lines in 1.89003 secs.</pre>"
      ],
      "text/plain": [
       "Parsing completed. Parsed 100 lines in 1.89003 secs."
      ]
     },
     "metadata": {},
     "output_type": "display_data"
    },
    {
     "data": {
      "text/html": [
       "<pre>Read 1286811 lines. Lines per second: 866569</pre>"
      ],
      "text/plain": [
       "Read 1286811 lines. Lines per second: 866569"
      ]
     },
     "metadata": {},
     "output_type": "display_data"
    },
    {
     "data": {
      "text/html": [
       "<pre>Finished parsing file D:\\BGSU\\2nd Sem\\BigData\\Main Project\\data\\ratings_Apps_for_Android.csv</pre>"
      ],
      "text/plain": [
       "Finished parsing file D:\\BGSU\\2nd Sem\\BigData\\Main Project\\data\\ratings_Apps_for_Android.csv"
      ]
     },
     "metadata": {},
     "output_type": "display_data"
    },
    {
     "data": {
      "text/html": [
       "<pre>Parsing completed. Parsed 2638172 lines in 2.0675 secs.</pre>"
      ],
      "text/plain": [
       "Parsing completed. Parsed 2638172 lines in 2.0675 secs."
      ]
     },
     "metadata": {},
     "output_type": "display_data"
    },
    {
     "data": {
      "text/html": [
       "<pre>Finished parsing file D:\\BGSU\\2nd Sem\\BigData\\Main Project\\data\\ratings_Automotive.csv</pre>"
      ],
      "text/plain": [
       "Finished parsing file D:\\BGSU\\2nd Sem\\BigData\\Main Project\\data\\ratings_Automotive.csv"
      ]
     },
     "metadata": {},
     "output_type": "display_data"
    },
    {
     "data": {
      "text/html": [
       "<pre>Parsing completed. Parsed 100 lines in 2.05045 secs.</pre>"
      ],
      "text/plain": [
       "Parsing completed. Parsed 100 lines in 2.05045 secs."
      ]
     },
     "metadata": {},
     "output_type": "display_data"
    },
    {
     "data": {
      "text/html": [
       "<pre>Read 1286847 lines. Lines per second: 868352</pre>"
      ],
      "text/plain": [
       "Read 1286847 lines. Lines per second: 868352"
      ]
     },
     "metadata": {},
     "output_type": "display_data"
    },
    {
     "data": {
      "text/html": [
       "<pre>Finished parsing file D:\\BGSU\\2nd Sem\\BigData\\Main Project\\data\\ratings_Automotive.csv</pre>"
      ],
      "text/plain": [
       "Finished parsing file D:\\BGSU\\2nd Sem\\BigData\\Main Project\\data\\ratings_Automotive.csv"
      ]
     },
     "metadata": {},
     "output_type": "display_data"
    },
    {
     "data": {
      "text/html": [
       "<pre>Parsing completed. Parsed 1373768 lines in 1.52806 secs.</pre>"
      ],
      "text/plain": [
       "Parsing completed. Parsed 1373768 lines in 1.52806 secs."
      ]
     },
     "metadata": {},
     "output_type": "display_data"
    },
    {
     "data": {
      "text/html": [
       "<pre>Finished parsing file D:\\BGSU\\2nd Sem\\BigData\\Main Project\\data\\ratings_Baby.csv</pre>"
      ],
      "text/plain": [
       "Finished parsing file D:\\BGSU\\2nd Sem\\BigData\\Main Project\\data\\ratings_Baby.csv"
      ]
     },
     "metadata": {},
     "output_type": "display_data"
    },
    {
     "data": {
      "text/html": [
       "<pre>Parsing completed. Parsed 100 lines in 1.53609 secs.</pre>"
      ],
      "text/plain": [
       "Parsing completed. Parsed 100 lines in 1.53609 secs."
      ]
     },
     "metadata": {},
     "output_type": "display_data"
    },
    {
     "data": {
      "text/html": [
       "<pre>Finished parsing file D:\\BGSU\\2nd Sem\\BigData\\Main Project\\data\\ratings_Baby.csv</pre>"
      ],
      "text/plain": [
       "Finished parsing file D:\\BGSU\\2nd Sem\\BigData\\Main Project\\data\\ratings_Baby.csv"
      ]
     },
     "metadata": {},
     "output_type": "display_data"
    },
    {
     "data": {
      "text/html": [
       "<pre>Parsing completed. Parsed 915446 lines in 0.892373 secs.</pre>"
      ],
      "text/plain": [
       "Parsing completed. Parsed 915446 lines in 0.892373 secs."
      ]
     },
     "metadata": {},
     "output_type": "display_data"
    },
    {
     "data": {
      "text/html": [
       "<pre>Finished parsing file D:\\BGSU\\2nd Sem\\BigData\\Main Project\\data\\ratings_Beauty.csv</pre>"
      ],
      "text/plain": [
       "Finished parsing file D:\\BGSU\\2nd Sem\\BigData\\Main Project\\data\\ratings_Beauty.csv"
      ]
     },
     "metadata": {},
     "output_type": "display_data"
    },
    {
     "data": {
      "text/html": [
       "<pre>Parsing completed. Parsed 100 lines in 1.60226 secs.</pre>"
      ],
      "text/plain": [
       "Parsing completed. Parsed 100 lines in 1.60226 secs."
      ]
     },
     "metadata": {},
     "output_type": "display_data"
    },
    {
     "data": {
      "text/html": [
       "<pre>Read 1286777 lines. Lines per second: 998720</pre>"
      ],
      "text/plain": [
       "Read 1286777 lines. Lines per second: 998720"
      ]
     },
     "metadata": {},
     "output_type": "display_data"
    },
    {
     "data": {
      "text/html": [
       "<pre>Finished parsing file D:\\BGSU\\2nd Sem\\BigData\\Main Project\\data\\ratings_Beauty.csv</pre>"
      ],
      "text/plain": [
       "Finished parsing file D:\\BGSU\\2nd Sem\\BigData\\Main Project\\data\\ratings_Beauty.csv"
      ]
     },
     "metadata": {},
     "output_type": "display_data"
    },
    {
     "data": {
      "text/html": [
       "<pre>Parsing completed. Parsed 2023070 lines in 1.58622 secs.</pre>"
      ],
      "text/plain": [
       "Parsing completed. Parsed 2023070 lines in 1.58622 secs."
      ]
     },
     "metadata": {},
     "output_type": "display_data"
    },
    {
     "data": {
      "text/html": [
       "<pre>Finished parsing file D:\\BGSU\\2nd Sem\\BigData\\Main Project\\data\\ratings_Books.csv</pre>"
      ],
      "text/plain": [
       "Finished parsing file D:\\BGSU\\2nd Sem\\BigData\\Main Project\\data\\ratings_Books.csv"
      ]
     },
     "metadata": {},
     "output_type": "display_data"
    },
    {
     "data": {
      "text/html": [
       "<pre>Parsing completed. Parsed 100 lines in 1.59624 secs.</pre>"
      ],
      "text/plain": [
       "Parsing completed. Parsed 100 lines in 1.59624 secs."
      ]
     },
     "metadata": {},
     "output_type": "display_data"
    },
    {
     "data": {
      "text/html": [
       "<pre>Read 2576971 lines. Lines per second: 1.06379e+006</pre>"
      ],
      "text/plain": [
       "Read 2576971 lines. Lines per second: 1.06379e+006"
      ]
     },
     "metadata": {},
     "output_type": "display_data"
    },
    {
     "data": {
      "text/html": [
       "<pre>Read 10309052 lines. Lines per second: 1.39488e+006</pre>"
      ],
      "text/plain": [
       "Read 10309052 lines. Lines per second: 1.39488e+006"
      ]
     },
     "metadata": {},
     "output_type": "display_data"
    },
    {
     "data": {
      "text/html": [
       "<pre>Read 19321222 lines. Lines per second: 1.53691e+006</pre>"
      ],
      "text/plain": [
       "Read 19321222 lines. Lines per second: 1.53691e+006"
      ]
     },
     "metadata": {},
     "output_type": "display_data"
    },
    {
     "data": {
      "text/html": [
       "<pre>Finished parsing file D:\\BGSU\\2nd Sem\\BigData\\Main Project\\data\\ratings_Books.csv</pre>"
      ],
      "text/plain": [
       "Finished parsing file D:\\BGSU\\2nd Sem\\BigData\\Main Project\\data\\ratings_Books.csv"
      ]
     },
     "metadata": {},
     "output_type": "display_data"
    },
    {
     "data": {
      "text/html": [
       "<pre>Parsing completed. Parsed 22507155 lines in 14.4655 secs.</pre>"
      ],
      "text/plain": [
       "Parsing completed. Parsed 22507155 lines in 14.4655 secs."
      ]
     },
     "metadata": {},
     "output_type": "display_data"
    },
    {
     "data": {
      "text/html": [
       "<pre>Finished parsing file D:\\BGSU\\2nd Sem\\BigData\\Main Project\\data\\ratings_CDs_and_Vinyl.csv</pre>"
      ],
      "text/plain": [
       "Finished parsing file D:\\BGSU\\2nd Sem\\BigData\\Main Project\\data\\ratings_CDs_and_Vinyl.csv"
      ]
     },
     "metadata": {},
     "output_type": "display_data"
    },
    {
     "data": {
      "text/html": [
       "<pre>Parsing completed. Parsed 100 lines in 1.45788 secs.</pre>"
      ],
      "text/plain": [
       "Parsing completed. Parsed 100 lines in 1.45788 secs."
      ]
     },
     "metadata": {},
     "output_type": "display_data"
    },
    {
     "data": {
      "text/html": [
       "<pre>Read 1294703 lines. Lines per second: 855705</pre>"
      ],
      "text/plain": [
       "Read 1294703 lines. Lines per second: 855705"
      ]
     },
     "metadata": {},
     "output_type": "display_data"
    },
    {
     "data": {
      "text/html": [
       "<pre>Finished parsing file D:\\BGSU\\2nd Sem\\BigData\\Main Project\\data\\ratings_CDs_and_Vinyl.csv</pre>"
      ],
      "text/plain": [
       "Finished parsing file D:\\BGSU\\2nd Sem\\BigData\\Main Project\\data\\ratings_CDs_and_Vinyl.csv"
      ]
     },
     "metadata": {},
     "output_type": "display_data"
    },
    {
     "data": {
      "text/html": [
       "<pre>Parsing completed. Parsed 3749004 lines in 2.93079 secs.</pre>"
      ],
      "text/plain": [
       "Parsing completed. Parsed 3749004 lines in 2.93079 secs."
      ]
     },
     "metadata": {},
     "output_type": "display_data"
    },
    {
     "data": {
      "text/html": [
       "<pre>Finished parsing file D:\\BGSU\\2nd Sem\\BigData\\Main Project\\data\\ratings_Cell_Phones_and_Accessories.csv</pre>"
      ],
      "text/plain": [
       "Finished parsing file D:\\BGSU\\2nd Sem\\BigData\\Main Project\\data\\ratings_Cell_Phones_and_Accessories.csv"
      ]
     },
     "metadata": {},
     "output_type": "display_data"
    },
    {
     "data": {
      "text/html": [
       "<pre>Parsing completed. Parsed 100 lines in 1.51202 secs.</pre>"
      ],
      "text/plain": [
       "Parsing completed. Parsed 100 lines in 1.51202 secs."
      ]
     },
     "metadata": {},
     "output_type": "display_data"
    },
    {
     "data": {
      "text/html": [
       "<pre>Read 1286772 lines. Lines per second: 854427</pre>"
      ],
      "text/plain": [
       "Read 1286772 lines. Lines per second: 854427"
      ]
     },
     "metadata": {},
     "output_type": "display_data"
    },
    {
     "data": {
      "text/html": [
       "<pre>Finished parsing file D:\\BGSU\\2nd Sem\\BigData\\Main Project\\data\\ratings_Cell_Phones_and_Accessories.csv</pre>"
      ],
      "text/plain": [
       "Finished parsing file D:\\BGSU\\2nd Sem\\BigData\\Main Project\\data\\ratings_Cell_Phones_and_Accessories.csv"
      ]
     },
     "metadata": {},
     "output_type": "display_data"
    },
    {
     "data": {
      "text/html": [
       "<pre>Parsing completed. Parsed 3447249 lines in 2.62899 secs.</pre>"
      ],
      "text/plain": [
       "Parsing completed. Parsed 3447249 lines in 2.62899 secs."
      ]
     },
     "metadata": {},
     "output_type": "display_data"
    },
    {
     "data": {
      "text/html": [
       "<pre>Finished parsing file D:\\BGSU\\2nd Sem\\BigData\\Main Project\\data\\ratings_Clothing_Shoes_and_Jewelry.csv</pre>"
      ],
      "text/plain": [
       "Finished parsing file D:\\BGSU\\2nd Sem\\BigData\\Main Project\\data\\ratings_Clothing_Shoes_and_Jewelry.csv"
      ]
     },
     "metadata": {},
     "output_type": "display_data"
    },
    {
     "data": {
      "text/html": [
       "<pre>Parsing completed. Parsed 100 lines in 1.61329 secs.</pre>"
      ],
      "text/plain": [
       "Parsing completed. Parsed 100 lines in 1.61329 secs."
      ]
     },
     "metadata": {},
     "output_type": "display_data"
    },
    {
     "data": {
      "text/html": [
       "<pre>Read 1286726 lines. Lines per second: 851562</pre>"
      ],
      "text/plain": [
       "Read 1286726 lines. Lines per second: 851562"
      ]
     },
     "metadata": {},
     "output_type": "display_data"
    },
    {
     "data": {
      "text/html": [
       "<pre>Finished parsing file D:\\BGSU\\2nd Sem\\BigData\\Main Project\\data\\ratings_Clothing_Shoes_and_Jewelry.csv</pre>"
      ],
      "text/plain": [
       "Finished parsing file D:\\BGSU\\2nd Sem\\BigData\\Main Project\\data\\ratings_Clothing_Shoes_and_Jewelry.csv"
      ]
     },
     "metadata": {},
     "output_type": "display_data"
    },
    {
     "data": {
      "text/html": [
       "<pre>Parsing completed. Parsed 5748920 lines in 3.80011 secs.</pre>"
      ],
      "text/plain": [
       "Parsing completed. Parsed 5748920 lines in 3.80011 secs."
      ]
     },
     "metadata": {},
     "output_type": "display_data"
    },
    {
     "data": {
      "text/html": [
       "<pre>Finished parsing file D:\\BGSU\\2nd Sem\\BigData\\Main Project\\data\\ratings_Digital_Music.csv</pre>"
      ],
      "text/plain": [
       "Finished parsing file D:\\BGSU\\2nd Sem\\BigData\\Main Project\\data\\ratings_Digital_Music.csv"
      ]
     },
     "metadata": {},
     "output_type": "display_data"
    },
    {
     "data": {
      "text/html": [
       "<pre>Parsing completed. Parsed 100 lines in 0.912427 secs.</pre>"
      ],
      "text/plain": [
       "Parsing completed. Parsed 100 lines in 0.912427 secs."
      ]
     },
     "metadata": {},
     "output_type": "display_data"
    },
    {
     "data": {
      "text/html": [
       "<pre>Finished parsing file D:\\BGSU\\2nd Sem\\BigData\\Main Project\\data\\ratings_Digital_Music.csv</pre>"
      ],
      "text/plain": [
       "Finished parsing file D:\\BGSU\\2nd Sem\\BigData\\Main Project\\data\\ratings_Digital_Music.csv"
      ]
     },
     "metadata": {},
     "output_type": "display_data"
    },
    {
     "data": {
      "text/html": [
       "<pre>Parsing completed. Parsed 836006 lines in 0.78208 secs.</pre>"
      ],
      "text/plain": [
       "Parsing completed. Parsed 836006 lines in 0.78208 secs."
      ]
     },
     "metadata": {},
     "output_type": "display_data"
    },
    {
     "data": {
      "text/html": [
       "<pre>Finished parsing file D:\\BGSU\\2nd Sem\\BigData\\Main Project\\data\\ratings_Electronics.csv</pre>"
      ],
      "text/plain": [
       "Finished parsing file D:\\BGSU\\2nd Sem\\BigData\\Main Project\\data\\ratings_Electronics.csv"
      ]
     },
     "metadata": {},
     "output_type": "display_data"
    },
    {
     "data": {
      "text/html": [
       "<pre>Parsing completed. Parsed 100 lines in 1.58622 secs.</pre>"
      ],
      "text/plain": [
       "Parsing completed. Parsed 100 lines in 1.58622 secs."
      ]
     },
     "metadata": {},
     "output_type": "display_data"
    },
    {
     "data": {
      "text/html": [
       "<pre>Read 1287444 lines. Lines per second: 783894</pre>"
      ],
      "text/plain": [
       "Read 1287444 lines. Lines per second: 783894"
      ]
     },
     "metadata": {},
     "output_type": "display_data"
    },
    {
     "data": {
      "text/html": [
       "<pre>Finished parsing file D:\\BGSU\\2nd Sem\\BigData\\Main Project\\data\\ratings_Electronics.csv</pre>"
      ],
      "text/plain": [
       "Finished parsing file D:\\BGSU\\2nd Sem\\BigData\\Main Project\\data\\ratings_Electronics.csv"
      ]
     },
     "metadata": {},
     "output_type": "display_data"
    },
    {
     "data": {
      "text/html": [
       "<pre>Parsing completed. Parsed 7824482 lines in 5.30711 secs.</pre>"
      ],
      "text/plain": [
       "Parsing completed. Parsed 7824482 lines in 5.30711 secs."
      ]
     },
     "metadata": {},
     "output_type": "display_data"
    },
    {
     "data": {
      "text/html": [
       "<pre>Finished parsing file D:\\BGSU\\2nd Sem\\BigData\\Main Project\\data\\ratings_Grocery_and_Gourmet_Food.csv</pre>"
      ],
      "text/plain": [
       "Finished parsing file D:\\BGSU\\2nd Sem\\BigData\\Main Project\\data\\ratings_Grocery_and_Gourmet_Food.csv"
      ]
     },
     "metadata": {},
     "output_type": "display_data"
    },
    {
     "data": {
      "text/html": [
       "<pre>Parsing completed. Parsed 100 lines in 1.38769 secs.</pre>"
      ],
      "text/plain": [
       "Parsing completed. Parsed 100 lines in 1.38769 secs."
      ]
     },
     "metadata": {},
     "output_type": "display_data"
    },
    {
     "data": {
      "text/html": [
       "<pre>Read 1286881 lines. Lines per second: 1.29905e+006</pre>"
      ],
      "text/plain": [
       "Read 1286881 lines. Lines per second: 1.29905e+006"
      ]
     },
     "metadata": {},
     "output_type": "display_data"
    },
    {
     "data": {
      "text/html": [
       "<pre>Finished parsing file D:\\BGSU\\2nd Sem\\BigData\\Main Project\\data\\ratings_Grocery_and_Gourmet_Food.csv</pre>"
      ],
      "text/plain": [
       "Finished parsing file D:\\BGSU\\2nd Sem\\BigData\\Main Project\\data\\ratings_Grocery_and_Gourmet_Food.csv"
      ]
     },
     "metadata": {},
     "output_type": "display_data"
    },
    {
     "data": {
      "text/html": [
       "<pre>Parsing completed. Parsed 1297156 lines in 0.992642 secs.</pre>"
      ],
      "text/plain": [
       "Parsing completed. Parsed 1297156 lines in 0.992642 secs."
      ]
     },
     "metadata": {},
     "output_type": "display_data"
    },
    {
     "data": {
      "text/html": [
       "<pre>Finished parsing file D:\\BGSU\\2nd Sem\\BigData\\Main Project\\data\\ratings_Health_and_Personal_Care.csv</pre>"
      ],
      "text/plain": [
       "Finished parsing file D:\\BGSU\\2nd Sem\\BigData\\Main Project\\data\\ratings_Health_and_Personal_Care.csv"
      ]
     },
     "metadata": {},
     "output_type": "display_data"
    },
    {
     "data": {
      "text/html": [
       "<pre>Parsing completed. Parsed 100 lines in 1.3145 secs.</pre>"
      ],
      "text/plain": [
       "Parsing completed. Parsed 100 lines in 1.3145 secs."
      ]
     },
     "metadata": {},
     "output_type": "display_data"
    },
    {
     "data": {
      "text/html": [
       "<pre>Finished parsing file D:\\BGSU\\2nd Sem\\BigData\\Main Project\\data\\ratings_Health_and_Personal_Care.csv</pre>"
      ],
      "text/plain": [
       "Finished parsing file D:\\BGSU\\2nd Sem\\BigData\\Main Project\\data\\ratings_Health_and_Personal_Care.csv"
      ]
     },
     "metadata": {},
     "output_type": "display_data"
    },
    {
     "data": {
      "text/html": [
       "<pre>Parsing completed. Parsed 2982326 lines in 2.10962 secs.</pre>"
      ],
      "text/plain": [
       "Parsing completed. Parsed 2982326 lines in 2.10962 secs."
      ]
     },
     "metadata": {},
     "output_type": "display_data"
    },
    {
     "data": {
      "text/html": [
       "<pre>Finished parsing file D:\\BGSU\\2nd Sem\\BigData\\Main Project\\data\\ratings_Home_and_Kitchen.csv</pre>"
      ],
      "text/plain": [
       "Finished parsing file D:\\BGSU\\2nd Sem\\BigData\\Main Project\\data\\ratings_Home_and_Kitchen.csv"
      ]
     },
     "metadata": {},
     "output_type": "display_data"
    },
    {
     "data": {
      "text/html": [
       "<pre>Parsing completed. Parsed 100 lines in 1.35661 secs.</pre>"
      ],
      "text/plain": [
       "Parsing completed. Parsed 100 lines in 1.35661 secs."
      ]
     },
     "metadata": {},
     "output_type": "display_data"
    },
    {
     "data": {
      "text/html": [
       "<pre>Read 1287035 lines. Lines per second: 841719</pre>"
      ],
      "text/plain": [
       "Read 1287035 lines. Lines per second: 841719"
      ]
     },
     "metadata": {},
     "output_type": "display_data"
    },
    {
     "data": {
      "text/html": [
       "<pre>Finished parsing file D:\\BGSU\\2nd Sem\\BigData\\Main Project\\data\\ratings_Home_and_Kitchen.csv</pre>"
      ],
      "text/plain": [
       "Finished parsing file D:\\BGSU\\2nd Sem\\BigData\\Main Project\\data\\ratings_Home_and_Kitchen.csv"
      ]
     },
     "metadata": {},
     "output_type": "display_data"
    },
    {
     "data": {
      "text/html": [
       "<pre>Parsing completed. Parsed 4253926 lines in 3.2366 secs.</pre>"
      ],
      "text/plain": [
       "Parsing completed. Parsed 4253926 lines in 3.2366 secs."
      ]
     },
     "metadata": {},
     "output_type": "display_data"
    },
    {
     "data": {
      "text/html": [
       "<pre>Finished parsing file D:\\BGSU\\2nd Sem\\BigData\\Main Project\\data\\ratings_Kindle_Store.csv</pre>"
      ],
      "text/plain": [
       "Finished parsing file D:\\BGSU\\2nd Sem\\BigData\\Main Project\\data\\ratings_Kindle_Store.csv"
      ]
     },
     "metadata": {},
     "output_type": "display_data"
    },
    {
     "data": {
      "text/html": [
       "<pre>Parsing completed. Parsed 100 lines in 1.36764 secs.</pre>"
      ],
      "text/plain": [
       "Parsing completed. Parsed 100 lines in 1.36764 secs."
      ]
     },
     "metadata": {},
     "output_type": "display_data"
    },
    {
     "data": {
      "text/html": [
       "<pre>Read 1286719 lines. Lines per second: 907565</pre>"
      ],
      "text/plain": [
       "Read 1286719 lines. Lines per second: 907565"
      ]
     },
     "metadata": {},
     "output_type": "display_data"
    },
    {
     "data": {
      "text/html": [
       "<pre>Finished parsing file D:\\BGSU\\2nd Sem\\BigData\\Main Project\\data\\ratings_Kindle_Store.csv</pre>"
      ],
      "text/plain": [
       "Finished parsing file D:\\BGSU\\2nd Sem\\BigData\\Main Project\\data\\ratings_Kindle_Store.csv"
      ]
     },
     "metadata": {},
     "output_type": "display_data"
    },
    {
     "data": {
      "text/html": [
       "<pre>Parsing completed. Parsed 3205467 lines in 2.15874 secs.</pre>"
      ],
      "text/plain": [
       "Parsing completed. Parsed 3205467 lines in 2.15874 secs."
      ]
     },
     "metadata": {},
     "output_type": "display_data"
    },
    {
     "data": {
      "text/html": [
       "<pre>Finished parsing file D:\\BGSU\\2nd Sem\\BigData\\Main Project\\data\\ratings_Movies_and_TV.csv</pre>"
      ],
      "text/plain": [
       "Finished parsing file D:\\BGSU\\2nd Sem\\BigData\\Main Project\\data\\ratings_Movies_and_TV.csv"
      ]
     },
     "metadata": {},
     "output_type": "display_data"
    },
    {
     "data": {
      "text/html": [
       "<pre>Parsing completed. Parsed 100 lines in 1.10194 secs.</pre>"
      ],
      "text/plain": [
       "Parsing completed. Parsed 100 lines in 1.10194 secs."
      ]
     },
     "metadata": {},
     "output_type": "display_data"
    },
    {
     "data": {
      "text/html": [
       "<pre>Read 2578105 lines. Lines per second: 1.30256e+006</pre>"
      ],
      "text/plain": [
       "Read 2578105 lines. Lines per second: 1.30256e+006"
      ]
     },
     "metadata": {},
     "output_type": "display_data"
    },
    {
     "data": {
      "text/html": [
       "<pre>Finished parsing file D:\\BGSU\\2nd Sem\\BigData\\Main Project\\data\\ratings_Movies_and_TV.csv</pre>"
      ],
      "text/plain": [
       "Finished parsing file D:\\BGSU\\2nd Sem\\BigData\\Main Project\\data\\ratings_Movies_and_TV.csv"
      ]
     },
     "metadata": {},
     "output_type": "display_data"
    },
    {
     "data": {
      "text/html": [
       "<pre>Parsing completed. Parsed 4607047 lines in 2.76435 secs.</pre>"
      ],
      "text/plain": [
       "Parsing completed. Parsed 4607047 lines in 2.76435 secs."
      ]
     },
     "metadata": {},
     "output_type": "display_data"
    },
    {
     "data": {
      "text/html": [
       "<pre>Finished parsing file D:\\BGSU\\2nd Sem\\BigData\\Main Project\\data\\ratings_Musical_Instruments.csv</pre>"
      ],
      "text/plain": [
       "Finished parsing file D:\\BGSU\\2nd Sem\\BigData\\Main Project\\data\\ratings_Musical_Instruments.csv"
      ]
     },
     "metadata": {},
     "output_type": "display_data"
    },
    {
     "data": {
      "text/html": [
       "<pre>Parsing completed. Parsed 100 lines in 0.566507 secs.</pre>"
      ],
      "text/plain": [
       "Parsing completed. Parsed 100 lines in 0.566507 secs."
      ]
     },
     "metadata": {},
     "output_type": "display_data"
    },
    {
     "data": {
      "text/html": [
       "<pre>Finished parsing file D:\\BGSU\\2nd Sem\\BigData\\Main Project\\data\\ratings_Musical_Instruments.csv</pre>"
      ],
      "text/plain": [
       "Finished parsing file D:\\BGSU\\2nd Sem\\BigData\\Main Project\\data\\ratings_Musical_Instruments.csv"
      ]
     },
     "metadata": {},
     "output_type": "display_data"
    },
    {
     "data": {
      "text/html": [
       "<pre>Parsing completed. Parsed 500176 lines in 0.407074 secs.</pre>"
      ],
      "text/plain": [
       "Parsing completed. Parsed 500176 lines in 0.407074 secs."
      ]
     },
     "metadata": {},
     "output_type": "display_data"
    },
    {
     "data": {
      "text/html": [
       "<pre>Finished parsing file D:\\BGSU\\2nd Sem\\BigData\\Main Project\\data\\ratings_Office_Products.csv</pre>"
      ],
      "text/plain": [
       "Finished parsing file D:\\BGSU\\2nd Sem\\BigData\\Main Project\\data\\ratings_Office_Products.csv"
      ]
     },
     "metadata": {},
     "output_type": "display_data"
    },
    {
     "data": {
      "text/html": [
       "<pre>Parsing completed. Parsed 100 lines in 1.35063 secs.</pre>"
      ],
      "text/plain": [
       "Parsing completed. Parsed 100 lines in 1.35063 secs."
      ]
     },
     "metadata": {},
     "output_type": "display_data"
    },
    {
     "data": {
      "text/html": [
       "<pre>Finished parsing file D:\\BGSU\\2nd Sem\\BigData\\Main Project\\data\\ratings_Office_Products.csv</pre>"
      ],
      "text/plain": [
       "Finished parsing file D:\\BGSU\\2nd Sem\\BigData\\Main Project\\data\\ratings_Office_Products.csv"
      ]
     },
     "metadata": {},
     "output_type": "display_data"
    },
    {
     "data": {
      "text/html": [
       "<pre>Parsing completed. Parsed 1243186 lines in 1.06683 secs.</pre>"
      ],
      "text/plain": [
       "Parsing completed. Parsed 1243186 lines in 1.06683 secs."
      ]
     },
     "metadata": {},
     "output_type": "display_data"
    },
    {
     "data": {
      "text/html": [
       "<pre>Finished parsing file D:\\BGSU\\2nd Sem\\BigData\\Main Project\\data\\ratings_Patio_Lawn_and_Garden.csv</pre>"
      ],
      "text/plain": [
       "Finished parsing file D:\\BGSU\\2nd Sem\\BigData\\Main Project\\data\\ratings_Patio_Lawn_and_Garden.csv"
      ]
     },
     "metadata": {},
     "output_type": "display_data"
    },
    {
     "data": {
      "text/html": [
       "<pre>Parsing completed. Parsed 100 lines in 1.03275 secs.</pre>"
      ],
      "text/plain": [
       "Parsing completed. Parsed 100 lines in 1.03275 secs."
      ]
     },
     "metadata": {},
     "output_type": "display_data"
    },
    {
     "data": {
      "text/html": [
       "<pre>Finished parsing file D:\\BGSU\\2nd Sem\\BigData\\Main Project\\data\\ratings_Patio_Lawn_and_Garden.csv</pre>"
      ],
      "text/plain": [
       "Finished parsing file D:\\BGSU\\2nd Sem\\BigData\\Main Project\\data\\ratings_Patio_Lawn_and_Garden.csv"
      ]
     },
     "metadata": {},
     "output_type": "display_data"
    },
    {
     "data": {
      "text/html": [
       "<pre>Parsing completed. Parsed 993490 lines in 0.821176 secs.</pre>"
      ],
      "text/plain": [
       "Parsing completed. Parsed 993490 lines in 0.821176 secs."
      ]
     },
     "metadata": {},
     "output_type": "display_data"
    },
    {
     "data": {
      "text/html": [
       "<pre>Finished parsing file D:\\BGSU\\2nd Sem\\BigData\\Main Project\\data\\ratings_Pet_Supplies.csv</pre>"
      ],
      "text/plain": [
       "Finished parsing file D:\\BGSU\\2nd Sem\\BigData\\Main Project\\data\\ratings_Pet_Supplies.csv"
      ]
     },
     "metadata": {},
     "output_type": "display_data"
    },
    {
     "data": {
      "text/html": [
       "<pre>Parsing completed. Parsed 100 lines in 1.3165 secs.</pre>"
      ],
      "text/plain": [
       "Parsing completed. Parsed 100 lines in 1.3165 secs."
      ]
     },
     "metadata": {},
     "output_type": "display_data"
    },
    {
     "data": {
      "text/html": [
       "<pre>Finished parsing file D:\\BGSU\\2nd Sem\\BigData\\Main Project\\data\\ratings_Pet_Supplies.csv</pre>"
      ],
      "text/plain": [
       "Finished parsing file D:\\BGSU\\2nd Sem\\BigData\\Main Project\\data\\ratings_Pet_Supplies.csv"
      ]
     },
     "metadata": {},
     "output_type": "display_data"
    },
    {
     "data": {
      "text/html": [
       "<pre>Parsing completed. Parsed 1235316 lines in 1.32953 secs.</pre>"
      ],
      "text/plain": [
       "Parsing completed. Parsed 1235316 lines in 1.32953 secs."
      ]
     },
     "metadata": {},
     "output_type": "display_data"
    },
    {
     "data": {
      "text/html": [
       "<pre>Finished parsing file D:\\BGSU\\2nd Sem\\BigData\\Main Project\\data\\ratings_Sports_and_Outdoors.csv</pre>"
      ],
      "text/plain": [
       "Finished parsing file D:\\BGSU\\2nd Sem\\BigData\\Main Project\\data\\ratings_Sports_and_Outdoors.csv"
      ]
     },
     "metadata": {},
     "output_type": "display_data"
    },
    {
     "data": {
      "text/html": [
       "<pre>Parsing completed. Parsed 100 lines in 1.3516 secs.</pre>"
      ],
      "text/plain": [
       "Parsing completed. Parsed 100 lines in 1.3516 secs."
      ]
     },
     "metadata": {},
     "output_type": "display_data"
    },
    {
     "data": {
      "text/html": [
       "<pre>Read 1286848 lines. Lines per second: 955642</pre>"
      ],
      "text/plain": [
       "Read 1286848 lines. Lines per second: 955642"
      ]
     },
     "metadata": {},
     "output_type": "display_data"
    },
    {
     "data": {
      "text/html": [
       "<pre>Finished parsing file D:\\BGSU\\2nd Sem\\BigData\\Main Project\\data\\ratings_Sports_and_Outdoors.csv</pre>"
      ],
      "text/plain": [
       "Finished parsing file D:\\BGSU\\2nd Sem\\BigData\\Main Project\\data\\ratings_Sports_and_Outdoors.csv"
      ]
     },
     "metadata": {},
     "output_type": "display_data"
    },
    {
     "data": {
      "text/html": [
       "<pre>Parsing completed. Parsed 3268695 lines in 2.10159 secs.</pre>"
      ],
      "text/plain": [
       "Parsing completed. Parsed 3268695 lines in 2.10159 secs."
      ]
     },
     "metadata": {},
     "output_type": "display_data"
    },
    {
     "data": {
      "text/html": [
       "<pre>Finished parsing file D:\\BGSU\\2nd Sem\\BigData\\Main Project\\data\\ratings_Tools_and_Home_Improvement.csv</pre>"
      ],
      "text/plain": [
       "Finished parsing file D:\\BGSU\\2nd Sem\\BigData\\Main Project\\data\\ratings_Tools_and_Home_Improvement.csv"
      ]
     },
     "metadata": {},
     "output_type": "display_data"
    },
    {
     "data": {
      "text/html": [
       "<pre>Parsing completed. Parsed 100 lines in 1.64437 secs.</pre>"
      ],
      "text/plain": [
       "Parsing completed. Parsed 100 lines in 1.64437 secs."
      ]
     },
     "metadata": {},
     "output_type": "display_data"
    },
    {
     "data": {
      "text/html": [
       "<pre>Read 1287057 lines. Lines per second: 1.12599e+006</pre>"
      ],
      "text/plain": [
       "Read 1287057 lines. Lines per second: 1.12599e+006"
      ]
     },
     "metadata": {},
     "output_type": "display_data"
    },
    {
     "data": {
      "text/html": [
       "<pre>Finished parsing file D:\\BGSU\\2nd Sem\\BigData\\Main Project\\data\\ratings_Tools_and_Home_Improvement.csv</pre>"
      ],
      "text/plain": [
       "Finished parsing file D:\\BGSU\\2nd Sem\\BigData\\Main Project\\data\\ratings_Tools_and_Home_Improvement.csv"
      ]
     },
     "metadata": {},
     "output_type": "display_data"
    },
    {
     "data": {
      "text/html": [
       "<pre>Parsing completed. Parsed 1926047 lines in 1.37666 secs.</pre>"
      ],
      "text/plain": [
       "Parsing completed. Parsed 1926047 lines in 1.37666 secs."
      ]
     },
     "metadata": {},
     "output_type": "display_data"
    },
    {
     "data": {
      "text/html": [
       "<pre>Finished parsing file D:\\BGSU\\2nd Sem\\BigData\\Main Project\\data\\ratings_Toys_and_Games.csv</pre>"
      ],
      "text/plain": [
       "Finished parsing file D:\\BGSU\\2nd Sem\\BigData\\Main Project\\data\\ratings_Toys_and_Games.csv"
      ]
     },
     "metadata": {},
     "output_type": "display_data"
    },
    {
     "data": {
      "text/html": [
       "<pre>Parsing completed. Parsed 100 lines in 1.64237 secs.</pre>"
      ],
      "text/plain": [
       "Parsing completed. Parsed 100 lines in 1.64237 secs."
      ]
     },
     "metadata": {},
     "output_type": "display_data"
    },
    {
     "data": {
      "text/html": [
       "<pre>Finished parsing file D:\\BGSU\\2nd Sem\\BigData\\Main Project\\data\\ratings_Toys_and_Games.csv</pre>"
      ],
      "text/plain": [
       "Finished parsing file D:\\BGSU\\2nd Sem\\BigData\\Main Project\\data\\ratings_Toys_and_Games.csv"
      ]
     },
     "metadata": {},
     "output_type": "display_data"
    },
    {
     "data": {
      "text/html": [
       "<pre>Parsing completed. Parsed 2252771 lines in 1.71356 secs.</pre>"
      ],
      "text/plain": [
       "Parsing completed. Parsed 2252771 lines in 1.71356 secs."
      ]
     },
     "metadata": {},
     "output_type": "display_data"
    },
    {
     "data": {
      "text/html": [
       "<pre>Finished parsing file D:\\BGSU\\2nd Sem\\BigData\\Main Project\\data\\ratings_Video_Games.csv</pre>"
      ],
      "text/plain": [
       "Finished parsing file D:\\BGSU\\2nd Sem\\BigData\\Main Project\\data\\ratings_Video_Games.csv"
      ]
     },
     "metadata": {},
     "output_type": "display_data"
    },
    {
     "data": {
      "text/html": [
       "<pre>Parsing completed. Parsed 100 lines in 1.46189 secs.</pre>"
      ],
      "text/plain": [
       "Parsing completed. Parsed 100 lines in 1.46189 secs."
      ]
     },
     "metadata": {},
     "output_type": "display_data"
    },
    {
     "data": {
      "text/html": [
       "<pre>Read 1287436 lines. Lines per second: 1.16941e+006</pre>"
      ],
      "text/plain": [
       "Read 1287436 lines. Lines per second: 1.16941e+006"
      ]
     },
     "metadata": {},
     "output_type": "display_data"
    },
    {
     "data": {
      "text/html": [
       "<pre>Finished parsing file D:\\BGSU\\2nd Sem\\BigData\\Main Project\\data\\ratings_Video_Games.csv</pre>"
      ],
      "text/plain": [
       "Finished parsing file D:\\BGSU\\2nd Sem\\BigData\\Main Project\\data\\ratings_Video_Games.csv"
      ]
     },
     "metadata": {},
     "output_type": "display_data"
    },
    {
     "data": {
      "text/html": [
       "<pre>Parsing completed. Parsed 1324753 lines in 1.10995 secs.</pre>"
      ],
      "text/plain": [
       "Parsing completed. Parsed 1324753 lines in 1.10995 secs."
      ]
     },
     "metadata": {},
     "output_type": "display_data"
    }
   ],
   "source": [
    "count = 1\n",
    "for file in files:\n",
    "    category = re.search(r'ratings_(.*).csv',file)\n",
    "    if count > 1 and count <= 24 :\n",
    "        temp = gl.SFrame.read_csv(file,header=False,\n",
    "                                                    column_type_hints={ 'X1':str, 'X2':str, 'X3':float, 'X4':long})\n",
    "        temp.rename({'X1': 'userId', 'X2':'itemId','X3': 'rating', 'X4':'timestamp'})\n",
    "        temp['timestamp'] = temp['timestamp'].astype(dt.datetime)\n",
    "        temp['category'] = category.group(1)\n",
    "        data = data.append(temp)\n",
    "    else:\n",
    "        data=gl.SFrame.read_csv(file,header=False,\n",
    "                                     column_type_hints={ 'X1':str, 'X2':str, 'X3':float, 'X4':long})\n",
    "        data.rename({'X1': 'userId', 'X2':'itemId','X3': 'rating', 'X4':'timestamp'})\n",
    "        data['timestamp'] = data['timestamp'].astype(dt.datetime)\n",
    "        data['category'] = category.group(1)\n",
    "        \n",
    "    count += 1\n",
    "    "
   ]
  },
  {
   "cell_type": "code",
   "execution_count": 6,
   "metadata": {
    "collapsed": false
   },
   "outputs": [
    {
     "data": {
      "text/plain": [
       "80737561"
      ]
     },
     "execution_count": 6,
     "metadata": {},
     "output_type": "execute_result"
    }
   ],
   "source": [
    "len(data)"
   ]
  },
  {
   "cell_type": "code",
   "execution_count": 7,
   "metadata": {
    "collapsed": false
   },
   "outputs": [
    {
     "data": {
      "text/html": [
       "<div style=\"max-height:1000px;max-width:1500px;overflow:auto;\"><table frame=\"box\" rules=\"cols\">\n",
       "    <tr>\n",
       "        <th style=\"padding-left: 1em; padding-right: 1em; text-align: center\">userId</th>\n",
       "        <th style=\"padding-left: 1em; padding-right: 1em; text-align: center\">itemId</th>\n",
       "        <th style=\"padding-left: 1em; padding-right: 1em; text-align: center\">rating</th>\n",
       "        <th style=\"padding-left: 1em; padding-right: 1em; text-align: center\">timestamp</th>\n",
       "        <th style=\"padding-left: 1em; padding-right: 1em; text-align: center\">category</th>\n",
       "    </tr>\n",
       "    <tr>\n",
       "        <td style=\"padding-left: 1em; padding-right: 1em; text-align: center; vertical-align: top\">A1EE2E3N7PW666</td>\n",
       "        <td style=\"padding-left: 1em; padding-right: 1em; text-align: center; vertical-align: top\">B000GFDAUG</td>\n",
       "        <td style=\"padding-left: 1em; padding-right: 1em; text-align: center; vertical-align: top\">5.0</td>\n",
       "        <td style=\"padding-left: 1em; padding-right: 1em; text-align: center; vertical-align: top\">2008-02-06 00:00:00</td>\n",
       "        <td style=\"padding-left: 1em; padding-right: 1em; text-align: center; vertical-align: top\">Amazon_Instant_Video</td>\n",
       "    </tr>\n",
       "    <tr>\n",
       "        <td style=\"padding-left: 1em; padding-right: 1em; text-align: center; vertical-align: top\">AGZ8SM1BGK3CK</td>\n",
       "        <td style=\"padding-left: 1em; padding-right: 1em; text-align: center; vertical-align: top\">B000GFDAUG</td>\n",
       "        <td style=\"padding-left: 1em; padding-right: 1em; text-align: center; vertical-align: top\">5.0</td>\n",
       "        <td style=\"padding-left: 1em; padding-right: 1em; text-align: center; vertical-align: top\">2007-12-21 00:00:00</td>\n",
       "        <td style=\"padding-left: 1em; padding-right: 1em; text-align: center; vertical-align: top\">Amazon_Instant_Video</td>\n",
       "    </tr>\n",
       "    <tr>\n",
       "        <td style=\"padding-left: 1em; padding-right: 1em; text-align: center; vertical-align: top\">A2VHZ21245KBT7</td>\n",
       "        <td style=\"padding-left: 1em; padding-right: 1em; text-align: center; vertical-align: top\">B000GIOPK2</td>\n",
       "        <td style=\"padding-left: 1em; padding-right: 1em; text-align: center; vertical-align: top\">4.0</td>\n",
       "        <td style=\"padding-left: 1em; padding-right: 1em; text-align: center; vertical-align: top\">2008-07-07 00:00:00</td>\n",
       "        <td style=\"padding-left: 1em; padding-right: 1em; text-align: center; vertical-align: top\">Amazon_Instant_Video</td>\n",
       "    </tr>\n",
       "    <tr>\n",
       "        <td style=\"padding-left: 1em; padding-right: 1em; text-align: center; vertical-align: top\">ACX8YW2D5EGP6</td>\n",
       "        <td style=\"padding-left: 1em; padding-right: 1em; text-align: center; vertical-align: top\">B000GIOPK2</td>\n",
       "        <td style=\"padding-left: 1em; padding-right: 1em; text-align: center; vertical-align: top\">4.0</td>\n",
       "        <td style=\"padding-left: 1em; padding-right: 1em; text-align: center; vertical-align: top\">2007-07-31 00:00:00</td>\n",
       "        <td style=\"padding-left: 1em; padding-right: 1em; text-align: center; vertical-align: top\">Amazon_Instant_Video</td>\n",
       "    </tr>\n",
       "    <tr>\n",
       "        <td style=\"padding-left: 1em; padding-right: 1em; text-align: center; vertical-align: top\">A9RNMO9MUSMTJ</td>\n",
       "        <td style=\"padding-left: 1em; padding-right: 1em; text-align: center; vertical-align: top\">B000GIOPK2</td>\n",
       "        <td style=\"padding-left: 1em; padding-right: 1em; text-align: center; vertical-align: top\">2.0</td>\n",
       "        <td style=\"padding-left: 1em; padding-right: 1em; text-align: center; vertical-align: top\">2010-08-06 00:00:00</td>\n",
       "        <td style=\"padding-left: 1em; padding-right: 1em; text-align: center; vertical-align: top\">Amazon_Instant_Video</td>\n",
       "    </tr>\n",
       "    <tr>\n",
       "        <td style=\"padding-left: 1em; padding-right: 1em; text-align: center; vertical-align: top\">A3STFVPM8NHJ7B</td>\n",
       "        <td style=\"padding-left: 1em; padding-right: 1em; text-align: center; vertical-align: top\">B000GIOPK2</td>\n",
       "        <td style=\"padding-left: 1em; padding-right: 1em; text-align: center; vertical-align: top\">5.0</td>\n",
       "        <td style=\"padding-left: 1em; padding-right: 1em; text-align: center; vertical-align: top\">2008-02-25 00:00:00</td>\n",
       "        <td style=\"padding-left: 1em; padding-right: 1em; text-align: center; vertical-align: top\">Amazon_Instant_Video</td>\n",
       "    </tr>\n",
       "    <tr>\n",
       "        <td style=\"padding-left: 1em; padding-right: 1em; text-align: center; vertical-align: top\">A2582KMXLK2P06</td>\n",
       "        <td style=\"padding-left: 1em; padding-right: 1em; text-align: center; vertical-align: top\">B000GIOPK2</td>\n",
       "        <td style=\"padding-left: 1em; padding-right: 1em; text-align: center; vertical-align: top\">5.0</td>\n",
       "        <td style=\"padding-left: 1em; padding-right: 1em; text-align: center; vertical-align: top\">2008-03-19 00:00:00</td>\n",
       "        <td style=\"padding-left: 1em; padding-right: 1em; text-align: center; vertical-align: top\">Amazon_Instant_Video</td>\n",
       "    </tr>\n",
       "    <tr>\n",
       "        <td style=\"padding-left: 1em; padding-right: 1em; text-align: center; vertical-align: top\">A1TZCLCW9QGGBH</td>\n",
       "        <td style=\"padding-left: 1em; padding-right: 1em; text-align: center; vertical-align: top\">B000GIOPK2</td>\n",
       "        <td style=\"padding-left: 1em; padding-right: 1em; text-align: center; vertical-align: top\">4.0</td>\n",
       "        <td style=\"padding-left: 1em; padding-right: 1em; text-align: center; vertical-align: top\">2008-04-29 00:00:00</td>\n",
       "        <td style=\"padding-left: 1em; padding-right: 1em; text-align: center; vertical-align: top\">Amazon_Instant_Video</td>\n",
       "    </tr>\n",
       "    <tr>\n",
       "        <td style=\"padding-left: 1em; padding-right: 1em; text-align: center; vertical-align: top\">A2E2I6B878CRMA</td>\n",
       "        <td style=\"padding-left: 1em; padding-right: 1em; text-align: center; vertical-align: top\">B000GIOPK2</td>\n",
       "        <td style=\"padding-left: 1em; padding-right: 1em; text-align: center; vertical-align: top\">5.0</td>\n",
       "        <td style=\"padding-left: 1em; padding-right: 1em; text-align: center; vertical-align: top\">2013-09-09 00:00:00</td>\n",
       "        <td style=\"padding-left: 1em; padding-right: 1em; text-align: center; vertical-align: top\">Amazon_Instant_Video</td>\n",
       "    </tr>\n",
       "    <tr>\n",
       "        <td style=\"padding-left: 1em; padding-right: 1em; text-align: center; vertical-align: top\">AD5MZA8SOVMPJ</td>\n",
       "        <td style=\"padding-left: 1em; padding-right: 1em; text-align: center; vertical-align: top\">B000GIOPK2</td>\n",
       "        <td style=\"padding-left: 1em; padding-right: 1em; text-align: center; vertical-align: top\">5.0</td>\n",
       "        <td style=\"padding-left: 1em; padding-right: 1em; text-align: center; vertical-align: top\">2008-08-09 00:00:00</td>\n",
       "        <td style=\"padding-left: 1em; padding-right: 1em; text-align: center; vertical-align: top\">Amazon_Instant_Video</td>\n",
       "    </tr>\n",
       "</table>\n",
       "[10 rows x 5 columns]<br/>\n",
       "</div>"
      ],
      "text/plain": [
       "Columns:\n",
       "\tuserId\tstr\n",
       "\titemId\tstr\n",
       "\trating\tfloat\n",
       "\ttimestamp\tdatetime\n",
       "\tcategory\tstr\n",
       "\n",
       "Rows: 10\n",
       "\n",
       "Data:\n",
       "+----------------+------------+--------+---------------------+\n",
       "|     userId     |   itemId   | rating |      timestamp      |\n",
       "+----------------+------------+--------+---------------------+\n",
       "| A1EE2E3N7PW666 | B000GFDAUG |  5.0   | 2008-02-06 00:00:00 |\n",
       "| AGZ8SM1BGK3CK  | B000GFDAUG |  5.0   | 2007-12-21 00:00:00 |\n",
       "| A2VHZ21245KBT7 | B000GIOPK2 |  4.0   | 2008-07-07 00:00:00 |\n",
       "| ACX8YW2D5EGP6  | B000GIOPK2 |  4.0   | 2007-07-31 00:00:00 |\n",
       "| A9RNMO9MUSMTJ  | B000GIOPK2 |  2.0   | 2010-08-06 00:00:00 |\n",
       "| A3STFVPM8NHJ7B | B000GIOPK2 |  5.0   | 2008-02-25 00:00:00 |\n",
       "| A2582KMXLK2P06 | B000GIOPK2 |  5.0   | 2008-03-19 00:00:00 |\n",
       "| A1TZCLCW9QGGBH | B000GIOPK2 |  4.0   | 2008-04-29 00:00:00 |\n",
       "| A2E2I6B878CRMA | B000GIOPK2 |  5.0   | 2013-09-09 00:00:00 |\n",
       "| AD5MZA8SOVMPJ  | B000GIOPK2 |  5.0   | 2008-08-09 00:00:00 |\n",
       "+----------------+------------+--------+---------------------+\n",
       "+----------------------+\n",
       "|       category       |\n",
       "+----------------------+\n",
       "| Amazon_Instant_Video |\n",
       "| Amazon_Instant_Video |\n",
       "| Amazon_Instant_Video |\n",
       "| Amazon_Instant_Video |\n",
       "| Amazon_Instant_Video |\n",
       "| Amazon_Instant_Video |\n",
       "| Amazon_Instant_Video |\n",
       "| Amazon_Instant_Video |\n",
       "| Amazon_Instant_Video |\n",
       "| Amazon_Instant_Video |\n",
       "+----------------------+\n",
       "[10 rows x 5 columns]"
      ]
     },
     "execution_count": 7,
     "metadata": {},
     "output_type": "execute_result"
    }
   ],
   "source": [
    "data.head()"
   ]
  },
  {
   "cell_type": "markdown",
   "metadata": {
    "collapsed": true
   },
   "source": [
    "# Task C"
   ]
  },
  {
   "cell_type": "code",
   "execution_count": 8,
   "metadata": {
    "collapsed": false
   },
   "outputs": [],
   "source": [
    "category_avg_distribution = data.groupby(key_columns='category',\n",
    "                               operations={\n",
    "                                   'mean_rating': agg.MEAN('rating')\n",
    "                               })"
   ]
  },
  {
   "cell_type": "code",
   "execution_count": 9,
   "metadata": {
    "collapsed": false
   },
   "outputs": [],
   "source": [
    "category_avg_distribution['mean_rating'] = category_avg_distribution.apply(lambda x: round(x['mean_rating'],2))\n",
    "#converting SFrame to dataframe\n",
    "category_avg_distribution = category_avg_distribution.to_dataframe()"
   ]
  },
  {
   "cell_type": "code",
   "execution_count": 10,
   "metadata": {
    "collapsed": false
   },
   "outputs": [],
   "source": [
    "data_dist = [Bar(x=category_avg_distribution.category,\n",
    "            y=category_avg_distribution.mean_rating)]\n",
    "\n",
    "layout = Layout(title=\"Average rating distribution across all product categories\",\n",
    "                xaxis=dict(title='Product Categories',tickfont=dict(\n",
    "                family='Old Standard TT, serif',\n",
    "                size=8,\n",
    "                color='black'\n",
    "                ),autotick=False,\n",
    "                ticks='outside'),\n",
    "                yaxis=dict(title='Average Rating'))\n",
    "fig = Figure(data=data_dist, layout=layout)"
   ]
  },
  {
   "cell_type": "code",
   "execution_count": 11,
   "metadata": {
    "collapsed": false
   },
   "outputs": [
    {
     "data": {
      "application/vnd.plotly.v1+json": {
       "data": [
        {
         "type": "bar",
         "x": [
          "Home_and_Kitchen",
          "CDs_and_Vinyl",
          "Amazon_Instant_Video",
          "Grocery_and_Gourmet_Food",
          "Toys_and_Games",
          "Pet_Supplies",
          "Video_Games",
          "Digital_Music",
          "Musical_Instruments",
          "Clothing_Shoes_and_Jewelry",
          "Movies_and_TV",
          "Electronics",
          "Health_and_Personal_Care",
          "Sports_and_Outdoors",
          "Beauty",
          "Kindle_Store",
          "Baby",
          "Patio_Lawn_and_Garden",
          "Tools_and_Home_Improvement",
          "Office_Products",
          "Apps_for_Android",
          "Books",
          "Cell_Phones_and_Accessories",
          "Automotive"
         ],
         "y": [
          4.1,
          4.4,
          4.32,
          4.25,
          4.15,
          4.11,
          3.98,
          4.54,
          4.24,
          4.14,
          4.19,
          4.01,
          4.11,
          4.17,
          4.15,
          4.23,
          4.12,
          4.01,
          4.13,
          3.98,
          4,
          4.3,
          3.81,
          4.19
         ]
        }
       ],
       "layout": {
        "title": "Average rating distribution across all product categories",
        "xaxis": {
         "autotick": false,
         "tickfont": {
          "color": "black",
          "family": "Old Standard TT, serif",
          "size": 8
         },
         "ticks": "outside",
         "title": "Product Categories"
        },
        "yaxis": {
         "title": "Average Rating"
        }
       }
      },
      "text/html": [
       "<div id=\"c6b2ecf8-fd06-4e18-897c-4bbacda36603\" style=\"height: 525px; width: 100%;\" class=\"plotly-graph-div\"></div><script type=\"text/javascript\">require([\"plotly\"], function(Plotly) { window.PLOTLYENV=window.PLOTLYENV || {};window.PLOTLYENV.BASE_URL=\"https://plot.ly\";Plotly.newPlot(\"c6b2ecf8-fd06-4e18-897c-4bbacda36603\", [{\"y\": [4.1, 4.4, 4.32, 4.25, 4.15, 4.11, 3.98, 4.54, 4.24, 4.14, 4.19, 4.01, 4.11, 4.17, 4.15, 4.23, 4.12, 4.01, 4.13, 3.98, 4.0, 4.3, 3.81, 4.19], \"x\": [\"Home_and_Kitchen\", \"CDs_and_Vinyl\", \"Amazon_Instant_Video\", \"Grocery_and_Gourmet_Food\", \"Toys_and_Games\", \"Pet_Supplies\", \"Video_Games\", \"Digital_Music\", \"Musical_Instruments\", \"Clothing_Shoes_and_Jewelry\", \"Movies_and_TV\", \"Electronics\", \"Health_and_Personal_Care\", \"Sports_and_Outdoors\", \"Beauty\", \"Kindle_Store\", \"Baby\", \"Patio_Lawn_and_Garden\", \"Tools_and_Home_Improvement\", \"Office_Products\", \"Apps_for_Android\", \"Books\", \"Cell_Phones_and_Accessories\", \"Automotive\"], \"type\": \"bar\"}], {\"title\": \"Average rating distribution across all product categories\", \"xaxis\": {\"tickfont\": {\"color\": \"black\", \"family\": \"Old Standard TT, serif\", \"size\": 8}, \"autotick\": false, \"ticks\": \"outside\", \"title\": \"Product Categories\"}, \"yaxis\": {\"title\": \"Average Rating\"}}, {\"linkText\": \"Export to plot.ly\", \"showLink\": true})});</script>"
      ],
      "text/vnd.plotly.v1+html": [
       "<div id=\"c6b2ecf8-fd06-4e18-897c-4bbacda36603\" style=\"height: 525px; width: 100%;\" class=\"plotly-graph-div\"></div><script type=\"text/javascript\">require([\"plotly\"], function(Plotly) { window.PLOTLYENV=window.PLOTLYENV || {};window.PLOTLYENV.BASE_URL=\"https://plot.ly\";Plotly.newPlot(\"c6b2ecf8-fd06-4e18-897c-4bbacda36603\", [{\"y\": [4.1, 4.4, 4.32, 4.25, 4.15, 4.11, 3.98, 4.54, 4.24, 4.14, 4.19, 4.01, 4.11, 4.17, 4.15, 4.23, 4.12, 4.01, 4.13, 3.98, 4.0, 4.3, 3.81, 4.19], \"x\": [\"Home_and_Kitchen\", \"CDs_and_Vinyl\", \"Amazon_Instant_Video\", \"Grocery_and_Gourmet_Food\", \"Toys_and_Games\", \"Pet_Supplies\", \"Video_Games\", \"Digital_Music\", \"Musical_Instruments\", \"Clothing_Shoes_and_Jewelry\", \"Movies_and_TV\", \"Electronics\", \"Health_and_Personal_Care\", \"Sports_and_Outdoors\", \"Beauty\", \"Kindle_Store\", \"Baby\", \"Patio_Lawn_and_Garden\", \"Tools_and_Home_Improvement\", \"Office_Products\", \"Apps_for_Android\", \"Books\", \"Cell_Phones_and_Accessories\", \"Automotive\"], \"type\": \"bar\"}], {\"title\": \"Average rating distribution across all product categories\", \"xaxis\": {\"tickfont\": {\"color\": \"black\", \"family\": \"Old Standard TT, serif\", \"size\": 8}, \"autotick\": false, \"ticks\": \"outside\", \"title\": \"Product Categories\"}, \"yaxis\": {\"title\": \"Average Rating\"}}, {\"linkText\": \"Export to plot.ly\", \"showLink\": true})});</script>"
      ]
     },
     "metadata": {},
     "output_type": "display_data"
    }
   ],
   "source": [
    "plotly.offline.iplot(fig, filename='jupyter/basic_bar')"
   ]
  },
  {
   "cell_type": "markdown",
   "metadata": {
    "collapsed": true
   },
   "source": [
    "# Task F"
   ]
  },
  {
   "cell_type": "code",
   "execution_count": 12,
   "metadata": {
    "collapsed": true
   },
   "outputs": [],
   "source": [
    "category_usr_rat_count = data.groupby(key_columns='userId',\n",
    "                               operations={\n",
    "                                       'rating_count': agg.COUNT('rating'),\n",
    "                                        'mean_rating': agg.MEAN('rating')\n",
    "                               })"
   ]
  },
  {
   "cell_type": "code",
   "execution_count": 17,
   "metadata": {
    "collapsed": false
   },
   "outputs": [],
   "source": [
    "category_usr_rat_five = category_usr_rat_count[category_usr_rat_count['rating_count'] == 5]"
   ]
  },
  {
   "cell_type": "code",
   "execution_count": 18,
   "metadata": {
    "collapsed": false
   },
   "outputs": [
    {
     "data": {
      "text/plain": [
       "737386"
      ]
     },
     "execution_count": 18,
     "metadata": {},
     "output_type": "execute_result"
    }
   ],
   "source": [
    "len(category_usr_rat_five)"
   ]
  },
  {
   "cell_type": "code",
   "execution_count": 23,
   "metadata": {
    "collapsed": false
   },
   "outputs": [
    {
     "data": {
      "text/html": [
       "<div style=\"max-height:1000px;max-width:1500px;overflow:auto;\"><table frame=\"box\" rules=\"cols\">\n",
       "    <tr>\n",
       "        <th style=\"padding-left: 1em; padding-right: 1em; text-align: center\">userId</th>\n",
       "        <th style=\"padding-left: 1em; padding-right: 1em; text-align: center\">mean_rating</th>\n",
       "        <th style=\"padding-left: 1em; padding-right: 1em; text-align: center\">rating_count</th>\n",
       "    </tr>\n",
       "    <tr>\n",
       "        <td style=\"padding-left: 1em; padding-right: 1em; text-align: center; vertical-align: top\">A3QK1PXBHLS0J8</td>\n",
       "        <td style=\"padding-left: 1em; padding-right: 1em; text-align: center; vertical-align: top\">4.2</td>\n",
       "        <td style=\"padding-left: 1em; padding-right: 1em; text-align: center; vertical-align: top\">5</td>\n",
       "    </tr>\n",
       "    <tr>\n",
       "        <td style=\"padding-left: 1em; padding-right: 1em; text-align: center; vertical-align: top\">A26R3KY7VHFTVT</td>\n",
       "        <td style=\"padding-left: 1em; padding-right: 1em; text-align: center; vertical-align: top\">4.4</td>\n",
       "        <td style=\"padding-left: 1em; padding-right: 1em; text-align: center; vertical-align: top\">5</td>\n",
       "    </tr>\n",
       "    <tr>\n",
       "        <td style=\"padding-left: 1em; padding-right: 1em; text-align: center; vertical-align: top\">A5FFAA5A3C398</td>\n",
       "        <td style=\"padding-left: 1em; padding-right: 1em; text-align: center; vertical-align: top\">3.6</td>\n",
       "        <td style=\"padding-left: 1em; padding-right: 1em; text-align: center; vertical-align: top\">5</td>\n",
       "    </tr>\n",
       "    <tr>\n",
       "        <td style=\"padding-left: 1em; padding-right: 1em; text-align: center; vertical-align: top\">A1HBQ1RB77ACTH</td>\n",
       "        <td style=\"padding-left: 1em; padding-right: 1em; text-align: center; vertical-align: top\">4.4</td>\n",
       "        <td style=\"padding-left: 1em; padding-right: 1em; text-align: center; vertical-align: top\">5</td>\n",
       "    </tr>\n",
       "    <tr>\n",
       "        <td style=\"padding-left: 1em; padding-right: 1em; text-align: center; vertical-align: top\">A1OMDQPUNWETHI</td>\n",
       "        <td style=\"padding-left: 1em; padding-right: 1em; text-align: center; vertical-align: top\">4.0</td>\n",
       "        <td style=\"padding-left: 1em; padding-right: 1em; text-align: center; vertical-align: top\">5</td>\n",
       "    </tr>\n",
       "    <tr>\n",
       "        <td style=\"padding-left: 1em; padding-right: 1em; text-align: center; vertical-align: top\">A1KLCHPFA6Y9VP</td>\n",
       "        <td style=\"padding-left: 1em; padding-right: 1em; text-align: center; vertical-align: top\">5.0</td>\n",
       "        <td style=\"padding-left: 1em; padding-right: 1em; text-align: center; vertical-align: top\">5</td>\n",
       "    </tr>\n",
       "    <tr>\n",
       "        <td style=\"padding-left: 1em; padding-right: 1em; text-align: center; vertical-align: top\">A1I2WE6JY1X09X</td>\n",
       "        <td style=\"padding-left: 1em; padding-right: 1em; text-align: center; vertical-align: top\">4.2</td>\n",
       "        <td style=\"padding-left: 1em; padding-right: 1em; text-align: center; vertical-align: top\">5</td>\n",
       "    </tr>\n",
       "    <tr>\n",
       "        <td style=\"padding-left: 1em; padding-right: 1em; text-align: center; vertical-align: top\">A5WYKVUDZEEBH</td>\n",
       "        <td style=\"padding-left: 1em; padding-right: 1em; text-align: center; vertical-align: top\">5.0</td>\n",
       "        <td style=\"padding-left: 1em; padding-right: 1em; text-align: center; vertical-align: top\">5</td>\n",
       "    </tr>\n",
       "    <tr>\n",
       "        <td style=\"padding-left: 1em; padding-right: 1em; text-align: center; vertical-align: top\">A2I4ZDDOBNCWVF</td>\n",
       "        <td style=\"padding-left: 1em; padding-right: 1em; text-align: center; vertical-align: top\">5.0</td>\n",
       "        <td style=\"padding-left: 1em; padding-right: 1em; text-align: center; vertical-align: top\">5</td>\n",
       "    </tr>\n",
       "    <tr>\n",
       "        <td style=\"padding-left: 1em; padding-right: 1em; text-align: center; vertical-align: top\">A1TU17WQ0K81HO</td>\n",
       "        <td style=\"padding-left: 1em; padding-right: 1em; text-align: center; vertical-align: top\">4.4</td>\n",
       "        <td style=\"padding-left: 1em; padding-right: 1em; text-align: center; vertical-align: top\">5</td>\n",
       "    </tr>\n",
       "</table>\n",
       "[10 rows x 3 columns]<br/>\n",
       "</div>"
      ],
      "text/plain": [
       "Columns:\n",
       "\tuserId\tstr\n",
       "\tmean_rating\tfloat\n",
       "\trating_count\tint\n",
       "\n",
       "Rows: 10\n",
       "\n",
       "Data:\n",
       "+----------------+-------------+--------------+\n",
       "|     userId     | mean_rating | rating_count |\n",
       "+----------------+-------------+--------------+\n",
       "| A3QK1PXBHLS0J8 |     4.2     |      5       |\n",
       "| A26R3KY7VHFTVT |     4.4     |      5       |\n",
       "| A5FFAA5A3C398  |     3.6     |      5       |\n",
       "| A1HBQ1RB77ACTH |     4.4     |      5       |\n",
       "| A1OMDQPUNWETHI |     4.0     |      5       |\n",
       "| A1KLCHPFA6Y9VP |     5.0     |      5       |\n",
       "| A1I2WE6JY1X09X |     4.2     |      5       |\n",
       "| A5WYKVUDZEEBH  |     5.0     |      5       |\n",
       "| A2I4ZDDOBNCWVF |     5.0     |      5       |\n",
       "| A1TU17WQ0K81HO |     4.4     |      5       |\n",
       "+----------------+-------------+--------------+\n",
       "[10 rows x 3 columns]"
      ]
     },
     "execution_count": 23,
     "metadata": {},
     "output_type": "execute_result"
    }
   ],
   "source": [
    "category_usr_rat_five.head()"
   ]
  },
  {
   "cell_type": "code",
   "execution_count": 28,
   "metadata": {
    "collapsed": false
   },
   "outputs": [],
   "source": [
    "category_usr_rat_five_count = category_usr_rat_five.groupby(key_columns='mean_rating',\n",
    "                               operations={\n",
    "                                       'user_count': agg.COUNT('userId'),\n",
    "                               })"
   ]
  },
  {
   "cell_type": "code",
   "execution_count": 29,
   "metadata": {
    "collapsed": false
   },
   "outputs": [
    {
     "data": {
      "text/html": [
       "<div style=\"max-height:1000px;max-width:1500px;overflow:auto;\"><table frame=\"box\" rules=\"cols\">\n",
       "    <tr>\n",
       "        <th style=\"padding-left: 1em; padding-right: 1em; text-align: center\">mean_rating</th>\n",
       "        <th style=\"padding-left: 1em; padding-right: 1em; text-align: center\">user_count</th>\n",
       "    </tr>\n",
       "    <tr>\n",
       "        <td style=\"padding-left: 1em; padding-right: 1em; text-align: center; vertical-align: top\">2.4</td>\n",
       "        <td style=\"padding-left: 1em; padding-right: 1em; text-align: center; vertical-align: top\">7396</td>\n",
       "    </tr>\n",
       "    <tr>\n",
       "        <td style=\"padding-left: 1em; padding-right: 1em; text-align: center; vertical-align: top\">2.2</td>\n",
       "        <td style=\"padding-left: 1em; padding-right: 1em; text-align: center; vertical-align: top\">5415</td>\n",
       "    </tr>\n",
       "    <tr>\n",
       "        <td style=\"padding-left: 1em; padding-right: 1em; text-align: center; vertical-align: top\">4.2</td>\n",
       "        <td style=\"padding-left: 1em; padding-right: 1em; text-align: center; vertical-align: top\">86740</td>\n",
       "    </tr>\n",
       "    <tr>\n",
       "        <td style=\"padding-left: 1em; padding-right: 1em; text-align: center; vertical-align: top\">1.4</td>\n",
       "        <td style=\"padding-left: 1em; padding-right: 1em; text-align: center; vertical-align: top\">1173</td>\n",
       "    </tr>\n",
       "    <tr>\n",
       "        <td style=\"padding-left: 1em; padding-right: 1em; text-align: center; vertical-align: top\">2.2</td>\n",
       "        <td style=\"padding-left: 1em; padding-right: 1em; text-align: center; vertical-align: top\">91</td>\n",
       "    </tr>\n",
       "    <tr>\n",
       "        <td style=\"padding-left: 1em; padding-right: 1em; text-align: center; vertical-align: top\">3.2</td>\n",
       "        <td style=\"padding-left: 1em; padding-right: 1em; text-align: center; vertical-align: top\">24147</td>\n",
       "    </tr>\n",
       "    <tr>\n",
       "        <td style=\"padding-left: 1em; padding-right: 1em; text-align: center; vertical-align: top\">2.0</td>\n",
       "        <td style=\"padding-left: 1em; padding-right: 1em; text-align: center; vertical-align: top\">3837</td>\n",
       "    </tr>\n",
       "    <tr>\n",
       "        <td style=\"padding-left: 1em; padding-right: 1em; text-align: center; vertical-align: top\">3.6</td>\n",
       "        <td style=\"padding-left: 1em; padding-right: 1em; text-align: center; vertical-align: top\">37779</td>\n",
       "    </tr>\n",
       "    <tr>\n",
       "        <td style=\"padding-left: 1em; padding-right: 1em; text-align: center; vertical-align: top\">4.8</td>\n",
       "        <td style=\"padding-left: 1em; padding-right: 1em; text-align: center; vertical-align: top\">76308</td>\n",
       "    </tr>\n",
       "    <tr>\n",
       "        <td style=\"padding-left: 1em; padding-right: 1em; text-align: center; vertical-align: top\">4.0</td>\n",
       "        <td style=\"padding-left: 1em; padding-right: 1em; text-align: center; vertical-align: top\">58572</td>\n",
       "    </tr>\n",
       "</table>\n",
       "[10 rows x 2 columns]<br/>\n",
       "</div>"
      ],
      "text/plain": [
       "Columns:\n",
       "\tmean_rating\tfloat\n",
       "\tuser_count\tint\n",
       "\n",
       "Rows: 10\n",
       "\n",
       "Data:\n",
       "+-------------+------------+\n",
       "| mean_rating | user_count |\n",
       "+-------------+------------+\n",
       "|     2.4     |    7396    |\n",
       "|     2.2     |    5415    |\n",
       "|     4.2     |   86740    |\n",
       "|     1.4     |    1173    |\n",
       "|     2.2     |     91     |\n",
       "|     3.2     |   24147    |\n",
       "|     2.0     |    3837    |\n",
       "|     3.6     |   37779    |\n",
       "|     4.8     |   76308    |\n",
       "|     4.0     |   58572    |\n",
       "+-------------+------------+\n",
       "[10 rows x 2 columns]"
      ]
     },
     "execution_count": 29,
     "metadata": {},
     "output_type": "execute_result"
    }
   ],
   "source": [
    "category_usr_rat_five_count.head()"
   ]
  },
  {
   "cell_type": "code",
   "execution_count": 30,
   "metadata": {
    "collapsed": true
   },
   "outputs": [],
   "source": [
    "category_usr_rat_five_count = category_usr_rat_five_count.to_dataframe()"
   ]
  },
  {
   "cell_type": "code",
   "execution_count": 31,
   "metadata": {
    "collapsed": true
   },
   "outputs": [],
   "source": [
    "data_dist1 = [Bar(x=category_usr_rat_five_count.mean_rating,\n",
    "            y=category_usr_rat_five_count.user_count)]\n",
    "\n",
    "layout1 = Layout(title=\"Average rating distribution of the Users, who gave 5 ratings\",\n",
    "                xaxis=dict(title='Average Rating',tickfont=dict(\n",
    "                family='Old Standard TT, serif',\n",
    "                size=10,\n",
    "                color='black'\n",
    "                ),autotick=False,\n",
    "                ticks='outside'),\n",
    "                yaxis=dict(title='User Count'))\n",
    "fig1 = Figure(data=data_dist1, layout=layout1)"
   ]
  },
  {
   "cell_type": "code",
   "execution_count": 32,
   "metadata": {
    "collapsed": false
   },
   "outputs": [
    {
     "data": {
      "application/vnd.plotly.v1+json": {
       "data": [
        {
         "type": "bar",
         "x": [
          2.4,
          2.2,
          4.2,
          1.4,
          2.1999999999999997,
          3.2,
          2,
          3.6,
          4.8,
          4,
          1.6,
          3,
          1.8,
          3.8,
          1.9999999999999998,
          2.8,
          1.2,
          4.4,
          1,
          5,
          3.4,
          1.7999999999999998,
          2.6,
          4.6,
          2.5999999999999996
         ],
         "y": [
          7396,
          5415,
          86740,
          1173,
          91,
          24147,
          3837,
          37779,
          76308,
          58572,
          1615,
          18975,
          3765,
          49609,
          98,
          13844,
          805,
          69544,
          1299,
          143678,
          39373,
          481,
          13091,
          79226,
          525
         ]
        }
       ],
       "layout": {
        "title": "Average rating distribution of the Users, who gave 5 ratings",
        "xaxis": {
         "autotick": false,
         "tickfont": {
          "color": "black",
          "family": "Old Standard TT, serif",
          "size": 10
         },
         "ticks": "outside",
         "title": "Average Rating"
        },
        "yaxis": {
         "title": "User Count"
        }
       }
      },
      "text/html": [
       "<div id=\"4cd0939b-2232-4a48-9af3-07e4e7163f7c\" style=\"height: 525px; width: 100%;\" class=\"plotly-graph-div\"></div><script type=\"text/javascript\">require([\"plotly\"], function(Plotly) { window.PLOTLYENV=window.PLOTLYENV || {};window.PLOTLYENV.BASE_URL=\"https://plot.ly\";Plotly.newPlot(\"4cd0939b-2232-4a48-9af3-07e4e7163f7c\", [{\"y\": [7396, 5415, 86740, 1173, 91, 24147, 3837, 37779, 76308, 58572, 1615, 18975, 3765, 49609, 98, 13844, 805, 69544, 1299, 143678, 39373, 481, 13091, 79226, 525], \"x\": [2.4, 2.2, 4.2, 1.4, 2.1999999999999997, 3.2, 2.0, 3.6, 4.8, 4.0, 1.6, 3.0, 1.8, 3.8, 1.9999999999999998, 2.8, 1.2, 4.4, 1.0, 5.0, 3.4, 1.7999999999999998, 2.6, 4.6, 2.5999999999999996], \"type\": \"bar\"}], {\"title\": \"Average rating distribution of the Users, who gave 5 ratings\", \"xaxis\": {\"tickfont\": {\"color\": \"black\", \"family\": \"Old Standard TT, serif\", \"size\": 10}, \"autotick\": false, \"ticks\": \"outside\", \"title\": \"Average Rating\"}, \"yaxis\": {\"title\": \"User Count\"}}, {\"linkText\": \"Export to plot.ly\", \"showLink\": true})});</script>"
      ],
      "text/vnd.plotly.v1+html": [
       "<div id=\"4cd0939b-2232-4a48-9af3-07e4e7163f7c\" style=\"height: 525px; width: 100%;\" class=\"plotly-graph-div\"></div><script type=\"text/javascript\">require([\"plotly\"], function(Plotly) { window.PLOTLYENV=window.PLOTLYENV || {};window.PLOTLYENV.BASE_URL=\"https://plot.ly\";Plotly.newPlot(\"4cd0939b-2232-4a48-9af3-07e4e7163f7c\", [{\"y\": [7396, 5415, 86740, 1173, 91, 24147, 3837, 37779, 76308, 58572, 1615, 18975, 3765, 49609, 98, 13844, 805, 69544, 1299, 143678, 39373, 481, 13091, 79226, 525], \"x\": [2.4, 2.2, 4.2, 1.4, 2.1999999999999997, 3.2, 2.0, 3.6, 4.8, 4.0, 1.6, 3.0, 1.8, 3.8, 1.9999999999999998, 2.8, 1.2, 4.4, 1.0, 5.0, 3.4, 1.7999999999999998, 2.6, 4.6, 2.5999999999999996], \"type\": \"bar\"}], {\"title\": \"Average rating distribution of the Users, who gave 5 ratings\", \"xaxis\": {\"tickfont\": {\"color\": \"black\", \"family\": \"Old Standard TT, serif\", \"size\": 10}, \"autotick\": false, \"ticks\": \"outside\", \"title\": \"Average Rating\"}, \"yaxis\": {\"title\": \"User Count\"}}, {\"linkText\": \"Export to plot.ly\", \"showLink\": true})});</script>"
      ]
     },
     "metadata": {},
     "output_type": "display_data"
    }
   ],
   "source": [
    "plotly.offline.iplot(fig1, filename='jupyter/basic_bar')"
   ]
  },
  {
   "cell_type": "code",
   "execution_count": 20,
   "metadata": {
    "collapsed": true
   },
   "outputs": [],
   "source": [
    "category_usr_rat_ten = category_usr_rat_count[category_usr_rat_count['rating_count'] == 10]"
   ]
  },
  {
   "cell_type": "code",
   "execution_count": 21,
   "metadata": {
    "collapsed": false
   },
   "outputs": [
    {
     "data": {
      "text/plain": [
       "190029"
      ]
     },
     "execution_count": 21,
     "metadata": {},
     "output_type": "execute_result"
    }
   ],
   "source": [
    "len(category_usr_rat_ten)"
   ]
  },
  {
   "cell_type": "code",
   "execution_count": 22,
   "metadata": {
    "collapsed": false
   },
   "outputs": [
    {
     "data": {
      "text/html": [
       "<div style=\"max-height:1000px;max-width:1500px;overflow:auto;\"><table frame=\"box\" rules=\"cols\">\n",
       "    <tr>\n",
       "        <th style=\"padding-left: 1em; padding-right: 1em; text-align: center\">userId</th>\n",
       "        <th style=\"padding-left: 1em; padding-right: 1em; text-align: center\">mean_rating</th>\n",
       "        <th style=\"padding-left: 1em; padding-right: 1em; text-align: center\">rating_count</th>\n",
       "    </tr>\n",
       "    <tr>\n",
       "        <td style=\"padding-left: 1em; padding-right: 1em; text-align: center; vertical-align: top\">A38FW1AF7QCVF0</td>\n",
       "        <td style=\"padding-left: 1em; padding-right: 1em; text-align: center; vertical-align: top\">4.2</td>\n",
       "        <td style=\"padding-left: 1em; padding-right: 1em; text-align: center; vertical-align: top\">10</td>\n",
       "    </tr>\n",
       "    <tr>\n",
       "        <td style=\"padding-left: 1em; padding-right: 1em; text-align: center; vertical-align: top\">AY8YU6311L6XB</td>\n",
       "        <td style=\"padding-left: 1em; padding-right: 1em; text-align: center; vertical-align: top\">4.5</td>\n",
       "        <td style=\"padding-left: 1em; padding-right: 1em; text-align: center; vertical-align: top\">10</td>\n",
       "    </tr>\n",
       "    <tr>\n",
       "        <td style=\"padding-left: 1em; padding-right: 1em; text-align: center; vertical-align: top\">A1FG1LE6G3BC67</td>\n",
       "        <td style=\"padding-left: 1em; padding-right: 1em; text-align: center; vertical-align: top\">4.8</td>\n",
       "        <td style=\"padding-left: 1em; padding-right: 1em; text-align: center; vertical-align: top\">10</td>\n",
       "    </tr>\n",
       "    <tr>\n",
       "        <td style=\"padding-left: 1em; padding-right: 1em; text-align: center; vertical-align: top\">A1OLQR0PPRRU16</td>\n",
       "        <td style=\"padding-left: 1em; padding-right: 1em; text-align: center; vertical-align: top\">5.0</td>\n",
       "        <td style=\"padding-left: 1em; padding-right: 1em; text-align: center; vertical-align: top\">10</td>\n",
       "    </tr>\n",
       "    <tr>\n",
       "        <td style=\"padding-left: 1em; padding-right: 1em; text-align: center; vertical-align: top\">A316U0WH1U3WBN</td>\n",
       "        <td style=\"padding-left: 1em; padding-right: 1em; text-align: center; vertical-align: top\">4.9</td>\n",
       "        <td style=\"padding-left: 1em; padding-right: 1em; text-align: center; vertical-align: top\">10</td>\n",
       "    </tr>\n",
       "    <tr>\n",
       "        <td style=\"padding-left: 1em; padding-right: 1em; text-align: center; vertical-align: top\">A2PCNYR9AU2AUO</td>\n",
       "        <td style=\"padding-left: 1em; padding-right: 1em; text-align: center; vertical-align: top\">4.1</td>\n",
       "        <td style=\"padding-left: 1em; padding-right: 1em; text-align: center; vertical-align: top\">10</td>\n",
       "    </tr>\n",
       "    <tr>\n",
       "        <td style=\"padding-left: 1em; padding-right: 1em; text-align: center; vertical-align: top\">A1VB2XH2YZ9JXL</td>\n",
       "        <td style=\"padding-left: 1em; padding-right: 1em; text-align: center; vertical-align: top\">2.4</td>\n",
       "        <td style=\"padding-left: 1em; padding-right: 1em; text-align: center; vertical-align: top\">10</td>\n",
       "    </tr>\n",
       "    <tr>\n",
       "        <td style=\"padding-left: 1em; padding-right: 1em; text-align: center; vertical-align: top\">A2WVAH65IZ7DNA</td>\n",
       "        <td style=\"padding-left: 1em; padding-right: 1em; text-align: center; vertical-align: top\">3.3</td>\n",
       "        <td style=\"padding-left: 1em; padding-right: 1em; text-align: center; vertical-align: top\">10</td>\n",
       "    </tr>\n",
       "    <tr>\n",
       "        <td style=\"padding-left: 1em; padding-right: 1em; text-align: center; vertical-align: top\">A2VPC9EZMOC01Z</td>\n",
       "        <td style=\"padding-left: 1em; padding-right: 1em; text-align: center; vertical-align: top\">4.5</td>\n",
       "        <td style=\"padding-left: 1em; padding-right: 1em; text-align: center; vertical-align: top\">10</td>\n",
       "    </tr>\n",
       "    <tr>\n",
       "        <td style=\"padding-left: 1em; padding-right: 1em; text-align: center; vertical-align: top\">A1GZCQFL3PR52U</td>\n",
       "        <td style=\"padding-left: 1em; padding-right: 1em; text-align: center; vertical-align: top\">4.4</td>\n",
       "        <td style=\"padding-left: 1em; padding-right: 1em; text-align: center; vertical-align: top\">10</td>\n",
       "    </tr>\n",
       "</table>\n",
       "[10 rows x 3 columns]<br/>\n",
       "</div>"
      ],
      "text/plain": [
       "Columns:\n",
       "\tuserId\tstr\n",
       "\tmean_rating\tfloat\n",
       "\trating_count\tint\n",
       "\n",
       "Rows: 10\n",
       "\n",
       "Data:\n",
       "+----------------+-------------+--------------+\n",
       "|     userId     | mean_rating | rating_count |\n",
       "+----------------+-------------+--------------+\n",
       "| A38FW1AF7QCVF0 |     4.2     |      10      |\n",
       "| AY8YU6311L6XB  |     4.5     |      10      |\n",
       "| A1FG1LE6G3BC67 |     4.8     |      10      |\n",
       "| A1OLQR0PPRRU16 |     5.0     |      10      |\n",
       "| A316U0WH1U3WBN |     4.9     |      10      |\n",
       "| A2PCNYR9AU2AUO |     4.1     |      10      |\n",
       "| A1VB2XH2YZ9JXL |     2.4     |      10      |\n",
       "| A2WVAH65IZ7DNA |     3.3     |      10      |\n",
       "| A2VPC9EZMOC01Z |     4.5     |      10      |\n",
       "| A1GZCQFL3PR52U |     4.4     |      10      |\n",
       "+----------------+-------------+--------------+\n",
       "[10 rows x 3 columns]"
      ]
     },
     "execution_count": 22,
     "metadata": {},
     "output_type": "execute_result"
    }
   ],
   "source": [
    "category_usr_rat_ten.head()"
   ]
  },
  {
   "cell_type": "code",
   "execution_count": 33,
   "metadata": {
    "collapsed": false
   },
   "outputs": [
    {
     "data": {
      "text/html": [
       "<div style=\"max-height:1000px;max-width:1500px;overflow:auto;\"><table frame=\"box\" rules=\"cols\">\n",
       "    <tr>\n",
       "        <th style=\"padding-left: 1em; padding-right: 1em; text-align: center\">mean_rating</th>\n",
       "        <th style=\"padding-left: 1em; padding-right: 1em; text-align: center\">user_count</th>\n",
       "    </tr>\n",
       "    <tr>\n",
       "        <td style=\"padding-left: 1em; padding-right: 1em; text-align: center; vertical-align: top\">2.4</td>\n",
       "        <td style=\"padding-left: 1em; padding-right: 1em; text-align: center; vertical-align: top\">360</td>\n",
       "    </tr>\n",
       "    <tr>\n",
       "        <td style=\"padding-left: 1em; padding-right: 1em; text-align: center; vertical-align: top\">4.6</td>\n",
       "        <td style=\"padding-left: 1em; padding-right: 1em; text-align: center; vertical-align: top\">2523</td>\n",
       "    </tr>\n",
       "    <tr>\n",
       "        <td style=\"padding-left: 1em; padding-right: 1em; text-align: center; vertical-align: top\">3.0</td>\n",
       "        <td style=\"padding-left: 1em; padding-right: 1em; text-align: center; vertical-align: top\">148</td>\n",
       "    </tr>\n",
       "    <tr>\n",
       "        <td style=\"padding-left: 1em; padding-right: 1em; text-align: center; vertical-align: top\">3.8</td>\n",
       "        <td style=\"padding-left: 1em; padding-right: 1em; text-align: center; vertical-align: top\">100</td>\n",
       "    </tr>\n",
       "    <tr>\n",
       "        <td style=\"padding-left: 1em; padding-right: 1em; text-align: center; vertical-align: top\">1.9</td>\n",
       "        <td style=\"padding-left: 1em; padding-right: 1em; text-align: center; vertical-align: top\">15</td>\n",
       "    </tr>\n",
       "    <tr>\n",
       "        <td style=\"padding-left: 1em; padding-right: 1em; text-align: center; vertical-align: top\">4.0</td>\n",
       "        <td style=\"padding-left: 1em; padding-right: 1em; text-align: center; vertical-align: top\">274</td>\n",
       "    </tr>\n",
       "    <tr>\n",
       "        <td style=\"padding-left: 1em; padding-right: 1em; text-align: center; vertical-align: top\">4.4</td>\n",
       "        <td style=\"padding-left: 1em; padding-right: 1em; text-align: center; vertical-align: top\">982</td>\n",
       "    </tr>\n",
       "    <tr>\n",
       "        <td style=\"padding-left: 1em; padding-right: 1em; text-align: center; vertical-align: top\">2.0</td>\n",
       "        <td style=\"padding-left: 1em; padding-right: 1em; text-align: center; vertical-align: top\">14</td>\n",
       "    </tr>\n",
       "    <tr>\n",
       "        <td style=\"padding-left: 1em; padding-right: 1em; text-align: center; vertical-align: top\">2.2</td>\n",
       "        <td style=\"padding-left: 1em; padding-right: 1em; text-align: center; vertical-align: top\">357</td>\n",
       "    </tr>\n",
       "    <tr>\n",
       "        <td style=\"padding-left: 1em; padding-right: 1em; text-align: center; vertical-align: top\">4.2</td>\n",
       "        <td style=\"padding-left: 1em; padding-right: 1em; text-align: center; vertical-align: top\">3950</td>\n",
       "    </tr>\n",
       "</table>\n",
       "[10 rows x 2 columns]<br/>\n",
       "</div>"
      ],
      "text/plain": [
       "Columns:\n",
       "\tmean_rating\tfloat\n",
       "\tuser_count\tint\n",
       "\n",
       "Rows: 10\n",
       "\n",
       "Data:\n",
       "+-------------+------------+\n",
       "| mean_rating | user_count |\n",
       "+-------------+------------+\n",
       "|     2.4     |    360     |\n",
       "|     4.6     |    2523    |\n",
       "|     3.0     |    148     |\n",
       "|     3.8     |    100     |\n",
       "|     1.9     |     15     |\n",
       "|     4.0     |    274     |\n",
       "|     4.4     |    982     |\n",
       "|     2.0     |     14     |\n",
       "|     2.2     |    357     |\n",
       "|     4.2     |    3950    |\n",
       "+-------------+------------+\n",
       "[10 rows x 2 columns]"
      ]
     },
     "execution_count": 33,
     "metadata": {},
     "output_type": "execute_result"
    }
   ],
   "source": [
    "category_usr_rat_ten_count = category_usr_rat_ten.groupby(key_columns='mean_rating',\n",
    "                               operations={\n",
    "                                       'user_count': agg.COUNT('userId'),\n",
    "                               })\n",
    "category_usr_rat_ten_count.head()"
   ]
  },
  {
   "cell_type": "code",
   "execution_count": 34,
   "metadata": {
    "collapsed": true
   },
   "outputs": [],
   "source": [
    "category_usr_rat_ten_count = category_usr_rat_ten_count.to_dataframe()\n",
    "data_dist2 = [Bar(x=category_usr_rat_ten_count.mean_rating,\n",
    "            y=category_usr_rat_ten_count.user_count)]\n",
    "\n",
    "layout2 = Layout(title=\"Average rating distribution of the Users, who gave 10 ratings\",\n",
    "                xaxis=dict(title='Average Rating',tickfont=dict(\n",
    "                family='Old Standard TT, serif',\n",
    "                size=10,\n",
    "                color='black'\n",
    "                ),autotick=False,\n",
    "                ticks='outside'),\n",
    "                yaxis=dict(title='User Count'))\n",
    "fig2 = Figure(data=data_dist2, layout=layout2)"
   ]
  },
  {
   "cell_type": "code",
   "execution_count": 35,
   "metadata": {
    "collapsed": false
   },
   "outputs": [
    {
     "data": {
      "application/vnd.plotly.v1+json": {
       "data": [
        {
         "type": "bar",
         "x": [
          2.4,
          4.599999999999999,
          2.9999999999999996,
          3.8000000000000007,
          1.9000000000000004,
          4.000000000000001,
          4.399999999999999,
          2.0000000000000004,
          2.2,
          4.2,
          1.4,
          2.4999999999999996,
          2.1999999999999997,
          4.800000000000001,
          1.9000000000000001,
          1.9,
          3.3999999999999995,
          4.199999999999999,
          4.100000000000001,
          1.2999999999999998,
          2.8999999999999995,
          3.8999999999999995,
          3.7000000000000006,
          3.7999999999999994,
          4.699999999999999,
          1.7,
          1.8999999999999997,
          3.2,
          2.4000000000000004,
          3.3000000000000003,
          3.7,
          4.299999999999999,
          2,
          3.6,
          3.900000000000001,
          3.9,
          4.3999999999999995,
          2.1,
          1.7000000000000002,
          4.8,
          2.2000000000000006,
          3.599999999999999,
          2.6999999999999997,
          2.1000000000000005,
          1.3,
          3.1,
          4.500000000000001,
          1.7000000000000004,
          4,
          3.1999999999999997,
          1.6,
          4.600000000000001,
          4.1000000000000005,
          4.400000000000001,
          3.1000000000000005,
          3.4000000000000004,
          4.7,
          3.6999999999999997,
          4.200000000000001,
          3.4999999999999996,
          2.3999999999999995,
          3.8000000000000003,
          2.5000000000000004,
          3.9000000000000004,
          4.6000000000000005,
          3,
          4.099999999999999,
          1.8,
          2.5,
          3.8,
          2.6999999999999993,
          1.9999999999999998,
          4.5,
          3.799999999999999,
          3.999999999999999,
          2.7,
          3.3000000000000007,
          4.9,
          2.8,
          2.0999999999999996,
          3.0000000000000004,
          4.3,
          4.700000000000001,
          1.2000000000000002,
          4.300000000000001,
          1.5,
          4.1,
          2.3000000000000007,
          3.3,
          3.2000000000000006,
          1.2,
          3.6999999999999993,
          4.499999999999999,
          3.6000000000000005,
          3.0999999999999996,
          1.5999999999999999,
          2.7999999999999994,
          1.5000000000000002,
          1.4000000000000001,
          3.9999999999999996,
          2.8000000000000003,
          2.3,
          4.4,
          1.8000000000000003,
          3.400000000000001,
          2.6000000000000005,
          1,
          2.3000000000000003,
          2.9,
          3.500000000000001,
          2.9000000000000004,
          5,
          3.4,
          3.5999999999999996,
          1.7999999999999998,
          4.799999999999999,
          3.5000000000000004,
          3.5,
          2.6,
          1.9999999999999996,
          4.6,
          2.5999999999999996,
          1.1,
          3.899999999999999
         ],
         "y": [
          360,
          2523,
          148,
          100,
          15,
          274,
          982,
          14,
          357,
          3950,
          65,
          19,
          23,
          1599,
          5,
          121,
          138,
          7940,
          52,
          23,
          112,
          1460,
          95,
          612,
          2415,
          64,
          3,
          2447,
          224,
          1595,
          1511,
          671,
          202,
          3152,
          213,
          6684,
          8272,
          220,
          16,
          5606,
          20,
          8,
          448,
          20,
          7,
          1938,
          660,
          7,
          6756,
          168,
          80,
          14,
          1018,
          268,
          157,
          1659,
          8918,
          4642,
          368,
          161,
          6,
          447,
          36,
          283,
          1952,
          1670,
          57,
          116,
          605,
          6677,
          20,
          8,
          10309,
          11,
          177,
          537,
          117,
          9713,
          1096,
          9,
          162,
          9936,
          49,
          17,
          1240,
          44,
          9490,
          4,
          1582,
          153,
          3,
          300,
          1782,
          118,
          149,
          6,
          47,
          2,
          1,
          2554,
          67,
          119,
          3432,
          9,
          9,
          21,
          34,
          305,
          1288,
          19,
          103,
          16717,
          2393,
          2316,
          47,
          4482,
          187,
          4230,
          581,
          5,
          10281,
          268,
          10,
          22
         ]
        }
       ],
       "layout": {
        "title": "Average rating distribution of the Users, who gave 10 ratings",
        "xaxis": {
         "autotick": false,
         "tickfont": {
          "color": "black",
          "family": "Old Standard TT, serif",
          "size": 10
         },
         "ticks": "outside",
         "title": "Average Rating"
        },
        "yaxis": {
         "title": "User Count"
        }
       }
      },
      "text/html": [
       "<div id=\"3a450e7a-9c98-4b61-932a-b02464091de1\" style=\"height: 525px; width: 100%;\" class=\"plotly-graph-div\"></div><script type=\"text/javascript\">require([\"plotly\"], function(Plotly) { window.PLOTLYENV=window.PLOTLYENV || {};window.PLOTLYENV.BASE_URL=\"https://plot.ly\";Plotly.newPlot(\"3a450e7a-9c98-4b61-932a-b02464091de1\", [{\"y\": [360, 2523, 148, 100, 15, 274, 982, 14, 357, 3950, 65, 19, 23, 1599, 5, 121, 138, 7940, 52, 23, 112, 1460, 95, 612, 2415, 64, 3, 2447, 224, 1595, 1511, 671, 202, 3152, 213, 6684, 8272, 220, 16, 5606, 20, 8, 448, 20, 7, 1938, 660, 7, 6756, 168, 80, 14, 1018, 268, 157, 1659, 8918, 4642, 368, 161, 6, 447, 36, 283, 1952, 1670, 57, 116, 605, 6677, 20, 8, 10309, 11, 177, 537, 117, 9713, 1096, 9, 162, 9936, 49, 17, 1240, 44, 9490, 4, 1582, 153, 3, 300, 1782, 118, 149, 6, 47, 2, 1, 2554, 67, 119, 3432, 9, 9, 21, 34, 305, 1288, 19, 103, 16717, 2393, 2316, 47, 4482, 187, 4230, 581, 5, 10281, 268, 10, 22], \"x\": [2.4, 4.599999999999999, 2.9999999999999996, 3.8000000000000007, 1.9000000000000004, 4.000000000000001, 4.399999999999999, 2.0000000000000004, 2.2, 4.2, 1.4, 2.4999999999999996, 2.1999999999999997, 4.800000000000001, 1.9000000000000001, 1.9, 3.3999999999999995, 4.199999999999999, 4.100000000000001, 1.2999999999999998, 2.8999999999999995, 3.8999999999999995, 3.7000000000000006, 3.7999999999999994, 4.699999999999999, 1.7, 1.8999999999999997, 3.2, 2.4000000000000004, 3.3000000000000003, 3.7, 4.299999999999999, 2.0, 3.6, 3.900000000000001, 3.9, 4.3999999999999995, 2.1, 1.7000000000000002, 4.8, 2.2000000000000006, 3.599999999999999, 2.6999999999999997, 2.1000000000000005, 1.3, 3.1, 4.500000000000001, 1.7000000000000004, 4.0, 3.1999999999999997, 1.6, 4.600000000000001, 4.1000000000000005, 4.400000000000001, 3.1000000000000005, 3.4000000000000004, 4.7, 3.6999999999999997, 4.200000000000001, 3.4999999999999996, 2.3999999999999995, 3.8000000000000003, 2.5000000000000004, 3.9000000000000004, 4.6000000000000005, 3.0, 4.099999999999999, 1.8, 2.5, 3.8, 2.6999999999999993, 1.9999999999999998, 4.5, 3.799999999999999, 3.999999999999999, 2.7, 3.3000000000000007, 4.9, 2.8, 2.0999999999999996, 3.0000000000000004, 4.3, 4.700000000000001, 1.2000000000000002, 4.300000000000001, 1.5, 4.1, 2.3000000000000007, 3.3, 3.2000000000000006, 1.2, 3.6999999999999993, 4.499999999999999, 3.6000000000000005, 3.0999999999999996, 1.5999999999999999, 2.7999999999999994, 1.5000000000000002, 1.4000000000000001, 3.9999999999999996, 2.8000000000000003, 2.3, 4.4, 1.8000000000000003, 3.400000000000001, 2.6000000000000005, 1.0, 2.3000000000000003, 2.9, 3.500000000000001, 2.9000000000000004, 5.0, 3.4, 3.5999999999999996, 1.7999999999999998, 4.799999999999999, 3.5000000000000004, 3.5, 2.6, 1.9999999999999996, 4.6, 2.5999999999999996, 1.1, 3.899999999999999], \"type\": \"bar\"}], {\"title\": \"Average rating distribution of the Users, who gave 10 ratings\", \"xaxis\": {\"tickfont\": {\"color\": \"black\", \"family\": \"Old Standard TT, serif\", \"size\": 10}, \"autotick\": false, \"ticks\": \"outside\", \"title\": \"Average Rating\"}, \"yaxis\": {\"title\": \"User Count\"}}, {\"linkText\": \"Export to plot.ly\", \"showLink\": true})});</script>"
      ],
      "text/vnd.plotly.v1+html": [
       "<div id=\"3a450e7a-9c98-4b61-932a-b02464091de1\" style=\"height: 525px; width: 100%;\" class=\"plotly-graph-div\"></div><script type=\"text/javascript\">require([\"plotly\"], function(Plotly) { window.PLOTLYENV=window.PLOTLYENV || {};window.PLOTLYENV.BASE_URL=\"https://plot.ly\";Plotly.newPlot(\"3a450e7a-9c98-4b61-932a-b02464091de1\", [{\"y\": [360, 2523, 148, 100, 15, 274, 982, 14, 357, 3950, 65, 19, 23, 1599, 5, 121, 138, 7940, 52, 23, 112, 1460, 95, 612, 2415, 64, 3, 2447, 224, 1595, 1511, 671, 202, 3152, 213, 6684, 8272, 220, 16, 5606, 20, 8, 448, 20, 7, 1938, 660, 7, 6756, 168, 80, 14, 1018, 268, 157, 1659, 8918, 4642, 368, 161, 6, 447, 36, 283, 1952, 1670, 57, 116, 605, 6677, 20, 8, 10309, 11, 177, 537, 117, 9713, 1096, 9, 162, 9936, 49, 17, 1240, 44, 9490, 4, 1582, 153, 3, 300, 1782, 118, 149, 6, 47, 2, 1, 2554, 67, 119, 3432, 9, 9, 21, 34, 305, 1288, 19, 103, 16717, 2393, 2316, 47, 4482, 187, 4230, 581, 5, 10281, 268, 10, 22], \"x\": [2.4, 4.599999999999999, 2.9999999999999996, 3.8000000000000007, 1.9000000000000004, 4.000000000000001, 4.399999999999999, 2.0000000000000004, 2.2, 4.2, 1.4, 2.4999999999999996, 2.1999999999999997, 4.800000000000001, 1.9000000000000001, 1.9, 3.3999999999999995, 4.199999999999999, 4.100000000000001, 1.2999999999999998, 2.8999999999999995, 3.8999999999999995, 3.7000000000000006, 3.7999999999999994, 4.699999999999999, 1.7, 1.8999999999999997, 3.2, 2.4000000000000004, 3.3000000000000003, 3.7, 4.299999999999999, 2.0, 3.6, 3.900000000000001, 3.9, 4.3999999999999995, 2.1, 1.7000000000000002, 4.8, 2.2000000000000006, 3.599999999999999, 2.6999999999999997, 2.1000000000000005, 1.3, 3.1, 4.500000000000001, 1.7000000000000004, 4.0, 3.1999999999999997, 1.6, 4.600000000000001, 4.1000000000000005, 4.400000000000001, 3.1000000000000005, 3.4000000000000004, 4.7, 3.6999999999999997, 4.200000000000001, 3.4999999999999996, 2.3999999999999995, 3.8000000000000003, 2.5000000000000004, 3.9000000000000004, 4.6000000000000005, 3.0, 4.099999999999999, 1.8, 2.5, 3.8, 2.6999999999999993, 1.9999999999999998, 4.5, 3.799999999999999, 3.999999999999999, 2.7, 3.3000000000000007, 4.9, 2.8, 2.0999999999999996, 3.0000000000000004, 4.3, 4.700000000000001, 1.2000000000000002, 4.300000000000001, 1.5, 4.1, 2.3000000000000007, 3.3, 3.2000000000000006, 1.2, 3.6999999999999993, 4.499999999999999, 3.6000000000000005, 3.0999999999999996, 1.5999999999999999, 2.7999999999999994, 1.5000000000000002, 1.4000000000000001, 3.9999999999999996, 2.8000000000000003, 2.3, 4.4, 1.8000000000000003, 3.400000000000001, 2.6000000000000005, 1.0, 2.3000000000000003, 2.9, 3.500000000000001, 2.9000000000000004, 5.0, 3.4, 3.5999999999999996, 1.7999999999999998, 4.799999999999999, 3.5000000000000004, 3.5, 2.6, 1.9999999999999996, 4.6, 2.5999999999999996, 1.1, 3.899999999999999], \"type\": \"bar\"}], {\"title\": \"Average rating distribution of the Users, who gave 10 ratings\", \"xaxis\": {\"tickfont\": {\"color\": \"black\", \"family\": \"Old Standard TT, serif\", \"size\": 10}, \"autotick\": false, \"ticks\": \"outside\", \"title\": \"Average Rating\"}, \"yaxis\": {\"title\": \"User Count\"}}, {\"linkText\": \"Export to plot.ly\", \"showLink\": true})});</script>"
      ]
     },
     "metadata": {},
     "output_type": "display_data"
    }
   ],
   "source": [
    "plotly.offline.iplot(fig2, filename='jupyter/basic_bar')"
   ]
  },
  {
   "cell_type": "markdown",
   "metadata": {},
   "source": [
    "# Task G"
   ]
  },
  {
   "cell_type": "code",
   "execution_count": 36,
   "metadata": {
    "collapsed": true
   },
   "outputs": [],
   "source": [
    "category_itm_rat_count = data.groupby(key_columns='itemId',\n",
    "                               operations={\n",
    "                                       'rating_count': agg.COUNT('rating'),\n",
    "                                        'mean_rating': agg.MEAN('rating')\n",
    "                               })"
   ]
  },
  {
   "cell_type": "code",
   "execution_count": 38,
   "metadata": {
    "collapsed": false
   },
   "outputs": [
    {
     "data": {
      "text/html": [
       "<div style=\"max-height:1000px;max-width:1500px;overflow:auto;\"><table frame=\"box\" rules=\"cols\">\n",
       "    <tr>\n",
       "        <th style=\"padding-left: 1em; padding-right: 1em; text-align: center\">itemId</th>\n",
       "        <th style=\"padding-left: 1em; padding-right: 1em; text-align: center\">mean_rating</th>\n",
       "        <th style=\"padding-left: 1em; padding-right: 1em; text-align: center\">rating_count</th>\n",
       "    </tr>\n",
       "    <tr>\n",
       "        <td style=\"padding-left: 1em; padding-right: 1em; text-align: center; vertical-align: top\">B001RIPBS0</td>\n",
       "        <td style=\"padding-left: 1em; padding-right: 1em; text-align: center; vertical-align: top\">5.0</td>\n",
       "        <td style=\"padding-left: 1em; padding-right: 1em; text-align: center; vertical-align: top\">2</td>\n",
       "    </tr>\n",
       "    <tr>\n",
       "        <td style=\"padding-left: 1em; padding-right: 1em; text-align: center; vertical-align: top\">0071753753</td>\n",
       "        <td style=\"padding-left: 1em; padding-right: 1em; text-align: center; vertical-align: top\">3.93</td>\n",
       "        <td style=\"padding-left: 1em; padding-right: 1em; text-align: center; vertical-align: top\">14</td>\n",
       "    </tr>\n",
       "    <tr>\n",
       "        <td style=\"padding-left: 1em; padding-right: 1em; text-align: center; vertical-align: top\">B00IPA0M3C</td>\n",
       "        <td style=\"padding-left: 1em; padding-right: 1em; text-align: center; vertical-align: top\">3.0</td>\n",
       "        <td style=\"padding-left: 1em; padding-right: 1em; text-align: center; vertical-align: top\">1</td>\n",
       "    </tr>\n",
       "    <tr>\n",
       "        <td style=\"padding-left: 1em; padding-right: 1em; text-align: center; vertical-align: top\">B000189PR0</td>\n",
       "        <td style=\"padding-left: 1em; padding-right: 1em; text-align: center; vertical-align: top\">5.0</td>\n",
       "        <td style=\"padding-left: 1em; padding-right: 1em; text-align: center; vertical-align: top\">1</td>\n",
       "    </tr>\n",
       "    <tr>\n",
       "        <td style=\"padding-left: 1em; padding-right: 1em; text-align: center; vertical-align: top\">1604880619</td>\n",
       "        <td style=\"padding-left: 1em; padding-right: 1em; text-align: center; vertical-align: top\">5.0</td>\n",
       "        <td style=\"padding-left: 1em; padding-right: 1em; text-align: center; vertical-align: top\">1</td>\n",
       "    </tr>\n",
       "    <tr>\n",
       "        <td style=\"padding-left: 1em; padding-right: 1em; text-align: center; vertical-align: top\">B00BANPV9G</td>\n",
       "        <td style=\"padding-left: 1em; padding-right: 1em; text-align: center; vertical-align: top\">4.39</td>\n",
       "        <td style=\"padding-left: 1em; padding-right: 1em; text-align: center; vertical-align: top\">18</td>\n",
       "    </tr>\n",
       "    <tr>\n",
       "        <td style=\"padding-left: 1em; padding-right: 1em; text-align: center; vertical-align: top\">1936452073</td>\n",
       "        <td style=\"padding-left: 1em; padding-right: 1em; text-align: center; vertical-align: top\">3.43</td>\n",
       "        <td style=\"padding-left: 1em; padding-right: 1em; text-align: center; vertical-align: top\">7</td>\n",
       "    </tr>\n",
       "    <tr>\n",
       "        <td style=\"padding-left: 1em; padding-right: 1em; text-align: center; vertical-align: top\">0737736356</td>\n",
       "        <td style=\"padding-left: 1em; padding-right: 1em; text-align: center; vertical-align: top\">4.0</td>\n",
       "        <td style=\"padding-left: 1em; padding-right: 1em; text-align: center; vertical-align: top\">1</td>\n",
       "    </tr>\n",
       "    <tr>\n",
       "        <td style=\"padding-left: 1em; padding-right: 1em; text-align: center; vertical-align: top\">B000W5J4L4</td>\n",
       "        <td style=\"padding-left: 1em; padding-right: 1em; text-align: center; vertical-align: top\">3.6</td>\n",
       "        <td style=\"padding-left: 1em; padding-right: 1em; text-align: center; vertical-align: top\">10</td>\n",
       "    </tr>\n",
       "    <tr>\n",
       "        <td style=\"padding-left: 1em; padding-right: 1em; text-align: center; vertical-align: top\">B000MLGCM2</td>\n",
       "        <td style=\"padding-left: 1em; padding-right: 1em; text-align: center; vertical-align: top\">3.65</td>\n",
       "        <td style=\"padding-left: 1em; padding-right: 1em; text-align: center; vertical-align: top\">17</td>\n",
       "    </tr>\n",
       "</table>\n",
       "[10 rows x 3 columns]<br/>\n",
       "</div>"
      ],
      "text/plain": [
       "Columns:\n",
       "\titemId\tstr\n",
       "\tmean_rating\tfloat\n",
       "\trating_count\tint\n",
       "\n",
       "Rows: 10\n",
       "\n",
       "Data:\n",
       "+------------+-------------+--------------+\n",
       "|   itemId   | mean_rating | rating_count |\n",
       "+------------+-------------+--------------+\n",
       "| B001RIPBS0 |     5.0     |      2       |\n",
       "| 0071753753 |     3.93    |      14      |\n",
       "| B00IPA0M3C |     3.0     |      1       |\n",
       "| B000189PR0 |     5.0     |      1       |\n",
       "| 1604880619 |     5.0     |      1       |\n",
       "| B00BANPV9G |     4.39    |      18      |\n",
       "| 1936452073 |     3.43    |      7       |\n",
       "| 0737736356 |     4.0     |      1       |\n",
       "| B000W5J4L4 |     3.6     |      10      |\n",
       "| B000MLGCM2 |     3.65    |      17      |\n",
       "+------------+-------------+--------------+\n",
       "[10 rows x 3 columns]"
      ]
     },
     "execution_count": 38,
     "metadata": {},
     "output_type": "execute_result"
    }
   ],
   "source": [
    "category_itm_rat_count['mean_rating'] = category_itm_rat_count.apply(lambda x: round(x['mean_rating'],2))\n",
    "category_itm_rat_count.head()"
   ]
  },
  {
   "cell_type": "code",
   "execution_count": 40,
   "metadata": {
    "collapsed": false
   },
   "outputs": [
    {
     "name": "stdout",
     "output_type": "stream",
     "text": [
      "286056\n"
     ]
    },
    {
     "data": {
      "text/html": [
       "<div style=\"max-height:1000px;max-width:1500px;overflow:auto;\"><table frame=\"box\" rules=\"cols\">\n",
       "    <tr>\n",
       "        <th style=\"padding-left: 1em; padding-right: 1em; text-align: center\">itemId</th>\n",
       "        <th style=\"padding-left: 1em; padding-right: 1em; text-align: center\">mean_rating</th>\n",
       "        <th style=\"padding-left: 1em; padding-right: 1em; text-align: center\">rating_count</th>\n",
       "    </tr>\n",
       "    <tr>\n",
       "        <td style=\"padding-left: 1em; padding-right: 1em; text-align: center; vertical-align: top\">1859602363</td>\n",
       "        <td style=\"padding-left: 1em; padding-right: 1em; text-align: center; vertical-align: top\">4.6</td>\n",
       "        <td style=\"padding-left: 1em; padding-right: 1em; text-align: center; vertical-align: top\">5</td>\n",
       "    </tr>\n",
       "    <tr>\n",
       "        <td style=\"padding-left: 1em; padding-right: 1em; text-align: center; vertical-align: top\">B00886OKBS</td>\n",
       "        <td style=\"padding-left: 1em; padding-right: 1em; text-align: center; vertical-align: top\">4.4</td>\n",
       "        <td style=\"padding-left: 1em; padding-right: 1em; text-align: center; vertical-align: top\">5</td>\n",
       "    </tr>\n",
       "    <tr>\n",
       "        <td style=\"padding-left: 1em; padding-right: 1em; text-align: center; vertical-align: top\">B001DEJR1U</td>\n",
       "        <td style=\"padding-left: 1em; padding-right: 1em; text-align: center; vertical-align: top\">2.8</td>\n",
       "        <td style=\"padding-left: 1em; padding-right: 1em; text-align: center; vertical-align: top\">5</td>\n",
       "    </tr>\n",
       "    <tr>\n",
       "        <td style=\"padding-left: 1em; padding-right: 1em; text-align: center; vertical-align: top\">B005AQBDOG</td>\n",
       "        <td style=\"padding-left: 1em; padding-right: 1em; text-align: center; vertical-align: top\">4.2</td>\n",
       "        <td style=\"padding-left: 1em; padding-right: 1em; text-align: center; vertical-align: top\">5</td>\n",
       "    </tr>\n",
       "    <tr>\n",
       "        <td style=\"padding-left: 1em; padding-right: 1em; text-align: center; vertical-align: top\">B004WPPAV8</td>\n",
       "        <td style=\"padding-left: 1em; padding-right: 1em; text-align: center; vertical-align: top\">5.0</td>\n",
       "        <td style=\"padding-left: 1em; padding-right: 1em; text-align: center; vertical-align: top\">5</td>\n",
       "    </tr>\n",
       "    <tr>\n",
       "        <td style=\"padding-left: 1em; padding-right: 1em; text-align: center; vertical-align: top\">0812050568</td>\n",
       "        <td style=\"padding-left: 1em; padding-right: 1em; text-align: center; vertical-align: top\">4.4</td>\n",
       "        <td style=\"padding-left: 1em; padding-right: 1em; text-align: center; vertical-align: top\">5</td>\n",
       "    </tr>\n",
       "    <tr>\n",
       "        <td style=\"padding-left: 1em; padding-right: 1em; text-align: center; vertical-align: top\">B000JBWW6A</td>\n",
       "        <td style=\"padding-left: 1em; padding-right: 1em; text-align: center; vertical-align: top\">4.8</td>\n",
       "        <td style=\"padding-left: 1em; padding-right: 1em; text-align: center; vertical-align: top\">5</td>\n",
       "    </tr>\n",
       "    <tr>\n",
       "        <td style=\"padding-left: 1em; padding-right: 1em; text-align: center; vertical-align: top\">B004LYGH3U</td>\n",
       "        <td style=\"padding-left: 1em; padding-right: 1em; text-align: center; vertical-align: top\">4.6</td>\n",
       "        <td style=\"padding-left: 1em; padding-right: 1em; text-align: center; vertical-align: top\">5</td>\n",
       "    </tr>\n",
       "    <tr>\n",
       "        <td style=\"padding-left: 1em; padding-right: 1em; text-align: center; vertical-align: top\">0970592302</td>\n",
       "        <td style=\"padding-left: 1em; padding-right: 1em; text-align: center; vertical-align: top\">5.0</td>\n",
       "        <td style=\"padding-left: 1em; padding-right: 1em; text-align: center; vertical-align: top\">5</td>\n",
       "    </tr>\n",
       "    <tr>\n",
       "        <td style=\"padding-left: 1em; padding-right: 1em; text-align: center; vertical-align: top\">144249784X</td>\n",
       "        <td style=\"padding-left: 1em; padding-right: 1em; text-align: center; vertical-align: top\">5.0</td>\n",
       "        <td style=\"padding-left: 1em; padding-right: 1em; text-align: center; vertical-align: top\">5</td>\n",
       "    </tr>\n",
       "</table>\n",
       "[10 rows x 3 columns]<br/>\n",
       "</div>"
      ],
      "text/plain": [
       "Columns:\n",
       "\titemId\tstr\n",
       "\tmean_rating\tfloat\n",
       "\trating_count\tint\n",
       "\n",
       "Rows: 10\n",
       "\n",
       "Data:\n",
       "+------------+-------------+--------------+\n",
       "|   itemId   | mean_rating | rating_count |\n",
       "+------------+-------------+--------------+\n",
       "| 1859602363 |     4.6     |      5       |\n",
       "| B00886OKBS |     4.4     |      5       |\n",
       "| B001DEJR1U |     2.8     |      5       |\n",
       "| B005AQBDOG |     4.2     |      5       |\n",
       "| B004WPPAV8 |     5.0     |      5       |\n",
       "| 0812050568 |     4.4     |      5       |\n",
       "| B000JBWW6A |     4.8     |      5       |\n",
       "| B004LYGH3U |     4.6     |      5       |\n",
       "| 0970592302 |     5.0     |      5       |\n",
       "| 144249784X |     5.0     |      5       |\n",
       "+------------+-------------+--------------+\n",
       "[10 rows x 3 columns]"
      ]
     },
     "execution_count": 40,
     "metadata": {},
     "output_type": "execute_result"
    }
   ],
   "source": [
    "category_itm_rat_five = category_itm_rat_count[category_itm_rat_count['rating_count'] == 5]\n",
    "print len(category_itm_rat_five)\n",
    "category_itm_rat_five.head()"
   ]
  },
  {
   "cell_type": "code",
   "execution_count": 43,
   "metadata": {
    "collapsed": false
   },
   "outputs": [
    {
     "data": {
      "text/html": [
       "<div style=\"max-height:1000px;max-width:1500px;overflow:auto;\"><table frame=\"box\" rules=\"cols\">\n",
       "    <tr>\n",
       "        <th style=\"padding-left: 1em; padding-right: 1em; text-align: center\">mean_rating</th>\n",
       "        <th style=\"padding-left: 1em; padding-right: 1em; text-align: center\">item_count</th>\n",
       "    </tr>\n",
       "    <tr>\n",
       "        <td style=\"padding-left: 1em; padding-right: 1em; text-align: center; vertical-align: top\">2.4</td>\n",
       "        <td style=\"padding-left: 1em; padding-right: 1em; text-align: center; vertical-align: top\">3249</td>\n",
       "    </tr>\n",
       "    <tr>\n",
       "        <td style=\"padding-left: 1em; padding-right: 1em; text-align: center; vertical-align: top\">2.2</td>\n",
       "        <td style=\"padding-left: 1em; padding-right: 1em; text-align: center; vertical-align: top\">2500</td>\n",
       "    </tr>\n",
       "    <tr>\n",
       "        <td style=\"padding-left: 1em; padding-right: 1em; text-align: center; vertical-align: top\">4.2</td>\n",
       "        <td style=\"padding-left: 1em; padding-right: 1em; text-align: center; vertical-align: top\">30157</td>\n",
       "    </tr>\n",
       "    <tr>\n",
       "        <td style=\"padding-left: 1em; padding-right: 1em; text-align: center; vertical-align: top\">1.4</td>\n",
       "        <td style=\"padding-left: 1em; padding-right: 1em; text-align: center; vertical-align: top\">604</td>\n",
       "    </tr>\n",
       "    <tr>\n",
       "        <td style=\"padding-left: 1em; padding-right: 1em; text-align: center; vertical-align: top\">3.2</td>\n",
       "        <td style=\"padding-left: 1em; padding-right: 1em; text-align: center; vertical-align: top\">9717</td>\n",
       "    </tr>\n",
       "    <tr>\n",
       "        <td style=\"padding-left: 1em; padding-right: 1em; text-align: center; vertical-align: top\">2.0</td>\n",
       "        <td style=\"padding-left: 1em; padding-right: 1em; text-align: center; vertical-align: top\">1838</td>\n",
       "    </tr>\n",
       "    <tr>\n",
       "        <td style=\"padding-left: 1em; padding-right: 1em; text-align: center; vertical-align: top\">3.6</td>\n",
       "        <td style=\"padding-left: 1em; padding-right: 1em; text-align: center; vertical-align: top\">14709</td>\n",
       "    </tr>\n",
       "    <tr>\n",
       "        <td style=\"padding-left: 1em; padding-right: 1em; text-align: center; vertical-align: top\">4.8</td>\n",
       "        <td style=\"padding-left: 1em; padding-right: 1em; text-align: center; vertical-align: top\">38257</td>\n",
       "    </tr>\n",
       "    <tr>\n",
       "        <td style=\"padding-left: 1em; padding-right: 1em; text-align: center; vertical-align: top\">4.0</td>\n",
       "        <td style=\"padding-left: 1em; padding-right: 1em; text-align: center; vertical-align: top\">23616</td>\n",
       "    </tr>\n",
       "    <tr>\n",
       "        <td style=\"padding-left: 1em; padding-right: 1em; text-align: center; vertical-align: top\">1.6</td>\n",
       "        <td style=\"padding-left: 1em; padding-right: 1em; text-align: center; vertical-align: top\">889</td>\n",
       "    </tr>\n",
       "</table>\n",
       "[10 rows x 2 columns]<br/>\n",
       "</div>"
      ],
      "text/plain": [
       "Columns:\n",
       "\tmean_rating\tfloat\n",
       "\titem_count\tint\n",
       "\n",
       "Rows: 10\n",
       "\n",
       "Data:\n",
       "+-------------+------------+\n",
       "| mean_rating | item_count |\n",
       "+-------------+------------+\n",
       "|     2.4     |    3249    |\n",
       "|     2.2     |    2500    |\n",
       "|     4.2     |   30157    |\n",
       "|     1.4     |    604     |\n",
       "|     3.2     |    9717    |\n",
       "|     2.0     |    1838    |\n",
       "|     3.6     |   14709    |\n",
       "|     4.8     |   38257    |\n",
       "|     4.0     |   23616    |\n",
       "|     1.6     |    889     |\n",
       "+-------------+------------+\n",
       "[10 rows x 2 columns]"
      ]
     },
     "execution_count": 43,
     "metadata": {},
     "output_type": "execute_result"
    }
   ],
   "source": [
    "category_itm_rat_five_count = category_itm_rat_five.groupby(key_columns='mean_rating',\n",
    "                               operations={\n",
    "                                       'item_count': agg.COUNT('itemId'),\n",
    "                               })\n",
    "category_itm_rat_five_count.head()"
   ]
  },
  {
   "cell_type": "code",
   "execution_count": 44,
   "metadata": {
    "collapsed": false
   },
   "outputs": [
    {
     "data": {
      "application/vnd.plotly.v1+json": {
       "data": [
        {
         "type": "bar",
         "x": [
          2.4,
          2.2,
          4.2,
          1.4,
          3.2,
          2,
          3.6,
          4.8,
          4,
          1.6,
          3,
          1.8,
          3.8,
          2.8,
          1.2,
          4.4,
          1,
          5,
          3.4,
          2.6,
          4.6
         ],
         "y": [
          3249,
          2500,
          30157,
          604,
          9717,
          1838,
          14709,
          38257,
          23616,
          889,
          7386,
          1820,
          18268,
          5661,
          434,
          28751,
          561,
          46114,
          13046,
          5043,
          33436
         ]
        }
       ],
       "layout": {
        "title": "Average rating distribution of the items, which are having 5 ratings",
        "xaxis": {
         "autotick": false,
         "tickfont": {
          "color": "black",
          "family": "Old Standard TT, serif",
          "size": 10
         },
         "ticks": "outside",
         "title": "Average Rating"
        },
        "yaxis": {
         "title": "Item Count"
        }
       }
      },
      "text/html": [
       "<div id=\"55ad737a-3347-4068-aac3-3227a5bd3bfb\" style=\"height: 525px; width: 100%;\" class=\"plotly-graph-div\"></div><script type=\"text/javascript\">require([\"plotly\"], function(Plotly) { window.PLOTLYENV=window.PLOTLYENV || {};window.PLOTLYENV.BASE_URL=\"https://plot.ly\";Plotly.newPlot(\"55ad737a-3347-4068-aac3-3227a5bd3bfb\", [{\"y\": [3249, 2500, 30157, 604, 9717, 1838, 14709, 38257, 23616, 889, 7386, 1820, 18268, 5661, 434, 28751, 561, 46114, 13046, 5043, 33436], \"x\": [2.4, 2.2, 4.2, 1.4, 3.2, 2.0, 3.6, 4.8, 4.0, 1.6, 3.0, 1.8, 3.8, 2.8, 1.2, 4.4, 1.0, 5.0, 3.4, 2.6, 4.6], \"type\": \"bar\"}], {\"title\": \"Average rating distribution of the items, which are having 5 ratings\", \"xaxis\": {\"tickfont\": {\"color\": \"black\", \"family\": \"Old Standard TT, serif\", \"size\": 10}, \"autotick\": false, \"ticks\": \"outside\", \"title\": \"Average Rating\"}, \"yaxis\": {\"title\": \"Item Count\"}}, {\"linkText\": \"Export to plot.ly\", \"showLink\": true})});</script>"
      ],
      "text/vnd.plotly.v1+html": [
       "<div id=\"55ad737a-3347-4068-aac3-3227a5bd3bfb\" style=\"height: 525px; width: 100%;\" class=\"plotly-graph-div\"></div><script type=\"text/javascript\">require([\"plotly\"], function(Plotly) { window.PLOTLYENV=window.PLOTLYENV || {};window.PLOTLYENV.BASE_URL=\"https://plot.ly\";Plotly.newPlot(\"55ad737a-3347-4068-aac3-3227a5bd3bfb\", [{\"y\": [3249, 2500, 30157, 604, 9717, 1838, 14709, 38257, 23616, 889, 7386, 1820, 18268, 5661, 434, 28751, 561, 46114, 13046, 5043, 33436], \"x\": [2.4, 2.2, 4.2, 1.4, 3.2, 2.0, 3.6, 4.8, 4.0, 1.6, 3.0, 1.8, 3.8, 2.8, 1.2, 4.4, 1.0, 5.0, 3.4, 2.6, 4.6], \"type\": \"bar\"}], {\"title\": \"Average rating distribution of the items, which are having 5 ratings\", \"xaxis\": {\"tickfont\": {\"color\": \"black\", \"family\": \"Old Standard TT, serif\", \"size\": 10}, \"autotick\": false, \"ticks\": \"outside\", \"title\": \"Average Rating\"}, \"yaxis\": {\"title\": \"Item Count\"}}, {\"linkText\": \"Export to plot.ly\", \"showLink\": true})});</script>"
      ]
     },
     "metadata": {},
     "output_type": "display_data"
    }
   ],
   "source": [
    "category_itm_rat_five_count = category_itm_rat_five_count.to_dataframe()\n",
    "data_dist3 = [Bar(x=category_itm_rat_five_count.mean_rating,\n",
    "            y=category_itm_rat_five_count.item_count)]\n",
    "\n",
    "layout3 = Layout(title=\"Average rating distribution of the items, which are having 5 ratings\",\n",
    "                xaxis=dict(title='Average Rating',tickfont=dict(\n",
    "                family='Old Standard TT, serif',\n",
    "                size=10,\n",
    "                color='black'\n",
    "                ),autotick=False,\n",
    "                ticks='outside'),\n",
    "                yaxis=dict(title='Item Count'))\n",
    "fig3 = Figure(data=data_dist3, layout=layout3)\n",
    "plotly.offline.iplot(fig3, filename='jupyter/basic_bar')"
   ]
  },
  {
   "cell_type": "code",
   "execution_count": 45,
   "metadata": {
    "collapsed": false
   },
   "outputs": [
    {
     "data": {
      "text/html": [
       "<div style=\"max-height:1000px;max-width:1500px;overflow:auto;\"><table frame=\"box\" rules=\"cols\">\n",
       "    <tr>\n",
       "        <th style=\"padding-left: 1em; padding-right: 1em; text-align: center\">itemId</th>\n",
       "        <th style=\"padding-left: 1em; padding-right: 1em; text-align: center\">mean_rating</th>\n",
       "        <th style=\"padding-left: 1em; padding-right: 1em; text-align: center\">rating_count</th>\n",
       "    </tr>\n",
       "    <tr>\n",
       "        <td style=\"padding-left: 1em; padding-right: 1em; text-align: center; vertical-align: top\">B000W5J4L4</td>\n",
       "        <td style=\"padding-left: 1em; padding-right: 1em; text-align: center; vertical-align: top\">3.6</td>\n",
       "        <td style=\"padding-left: 1em; padding-right: 1em; text-align: center; vertical-align: top\">10</td>\n",
       "    </tr>\n",
       "    <tr>\n",
       "        <td style=\"padding-left: 1em; padding-right: 1em; text-align: center; vertical-align: top\">B003CRICH6</td>\n",
       "        <td style=\"padding-left: 1em; padding-right: 1em; text-align: center; vertical-align: top\">4.6</td>\n",
       "        <td style=\"padding-left: 1em; padding-right: 1em; text-align: center; vertical-align: top\">10</td>\n",
       "    </tr>\n",
       "    <tr>\n",
       "        <td style=\"padding-left: 1em; padding-right: 1em; text-align: center; vertical-align: top\">B00C7VHTMW</td>\n",
       "        <td style=\"padding-left: 1em; padding-right: 1em; text-align: center; vertical-align: top\">4.8</td>\n",
       "        <td style=\"padding-left: 1em; padding-right: 1em; text-align: center; vertical-align: top\">10</td>\n",
       "    </tr>\n",
       "    <tr>\n",
       "        <td style=\"padding-left: 1em; padding-right: 1em; text-align: center; vertical-align: top\">B008AGL6TK</td>\n",
       "        <td style=\"padding-left: 1em; padding-right: 1em; text-align: center; vertical-align: top\">4.6</td>\n",
       "        <td style=\"padding-left: 1em; padding-right: 1em; text-align: center; vertical-align: top\">10</td>\n",
       "    </tr>\n",
       "    <tr>\n",
       "        <td style=\"padding-left: 1em; padding-right: 1em; text-align: center; vertical-align: top\">B000O16RR0</td>\n",
       "        <td style=\"padding-left: 1em; padding-right: 1em; text-align: center; vertical-align: top\">3.7</td>\n",
       "        <td style=\"padding-left: 1em; padding-right: 1em; text-align: center; vertical-align: top\">10</td>\n",
       "    </tr>\n",
       "    <tr>\n",
       "        <td style=\"padding-left: 1em; padding-right: 1em; text-align: center; vertical-align: top\">B0052FR1CI</td>\n",
       "        <td style=\"padding-left: 1em; padding-right: 1em; text-align: center; vertical-align: top\">4.0</td>\n",
       "        <td style=\"padding-left: 1em; padding-right: 1em; text-align: center; vertical-align: top\">10</td>\n",
       "    </tr>\n",
       "    <tr>\n",
       "        <td style=\"padding-left: 1em; padding-right: 1em; text-align: center; vertical-align: top\">B00005MH9Q</td>\n",
       "        <td style=\"padding-left: 1em; padding-right: 1em; text-align: center; vertical-align: top\">3.6</td>\n",
       "        <td style=\"padding-left: 1em; padding-right: 1em; text-align: center; vertical-align: top\">10</td>\n",
       "    </tr>\n",
       "    <tr>\n",
       "        <td style=\"padding-left: 1em; padding-right: 1em; text-align: center; vertical-align: top\">B008E13O8W</td>\n",
       "        <td style=\"padding-left: 1em; padding-right: 1em; text-align: center; vertical-align: top\">4.5</td>\n",
       "        <td style=\"padding-left: 1em; padding-right: 1em; text-align: center; vertical-align: top\">10</td>\n",
       "    </tr>\n",
       "    <tr>\n",
       "        <td style=\"padding-left: 1em; padding-right: 1em; text-align: center; vertical-align: top\">B0000541UK</td>\n",
       "        <td style=\"padding-left: 1em; padding-right: 1em; text-align: center; vertical-align: top\">2.5</td>\n",
       "        <td style=\"padding-left: 1em; padding-right: 1em; text-align: center; vertical-align: top\">10</td>\n",
       "    </tr>\n",
       "    <tr>\n",
       "        <td style=\"padding-left: 1em; padding-right: 1em; text-align: center; vertical-align: top\">B00ANFO3XM</td>\n",
       "        <td style=\"padding-left: 1em; padding-right: 1em; text-align: center; vertical-align: top\">4.8</td>\n",
       "        <td style=\"padding-left: 1em; padding-right: 1em; text-align: center; vertical-align: top\">10</td>\n",
       "    </tr>\n",
       "</table>\n",
       "[10 rows x 3 columns]<br/>\n",
       "</div>"
      ],
      "text/plain": [
       "Columns:\n",
       "\titemId\tstr\n",
       "\tmean_rating\tfloat\n",
       "\trating_count\tint\n",
       "\n",
       "Rows: 10\n",
       "\n",
       "Data:\n",
       "+------------+-------------+--------------+\n",
       "|   itemId   | mean_rating | rating_count |\n",
       "+------------+-------------+--------------+\n",
       "| B000W5J4L4 |     3.6     |      10      |\n",
       "| B003CRICH6 |     4.6     |      10      |\n",
       "| B00C7VHTMW |     4.8     |      10      |\n",
       "| B008AGL6TK |     4.6     |      10      |\n",
       "| B000O16RR0 |     3.7     |      10      |\n",
       "| B0052FR1CI |     4.0     |      10      |\n",
       "| B00005MH9Q |     3.6     |      10      |\n",
       "| B008E13O8W |     4.5     |      10      |\n",
       "| B0000541UK |     2.5     |      10      |\n",
       "| B00ANFO3XM |     4.8     |      10      |\n",
       "+------------+-------------+--------------+\n",
       "[10 rows x 3 columns]"
      ]
     },
     "execution_count": 45,
     "metadata": {},
     "output_type": "execute_result"
    }
   ],
   "source": [
    "category_itm_rat_ten = category_itm_rat_count[category_itm_rat_count['rating_count'] == 10]\n",
    "len(category_itm_rat_ten)\n",
    "category_itm_rat_ten.head()"
   ]
  },
  {
   "cell_type": "code",
   "execution_count": 46,
   "metadata": {
    "collapsed": false
   },
   "outputs": [
    {
     "data": {
      "text/html": [
       "<div style=\"max-height:1000px;max-width:1500px;overflow:auto;\"><table frame=\"box\" rules=\"cols\">\n",
       "    <tr>\n",
       "        <th style=\"padding-left: 1em; padding-right: 1em; text-align: center\">mean_rating</th>\n",
       "        <th style=\"padding-left: 1em; padding-right: 1em; text-align: center\">item_count</th>\n",
       "    </tr>\n",
       "    <tr>\n",
       "        <td style=\"padding-left: 1em; padding-right: 1em; text-align: center; vertical-align: top\">2.4</td>\n",
       "        <td style=\"padding-left: 1em; padding-right: 1em; text-align: center; vertical-align: top\">519</td>\n",
       "    </tr>\n",
       "    <tr>\n",
       "        <td style=\"padding-left: 1em; padding-right: 1em; text-align: center; vertical-align: top\">2.2</td>\n",
       "        <td style=\"padding-left: 1em; padding-right: 1em; text-align: center; vertical-align: top\">424</td>\n",
       "    </tr>\n",
       "    <tr>\n",
       "        <td style=\"padding-left: 1em; padding-right: 1em; text-align: center; vertical-align: top\">4.2</td>\n",
       "        <td style=\"padding-left: 1em; padding-right: 1em; text-align: center; vertical-align: top\">7745</td>\n",
       "    </tr>\n",
       "    <tr>\n",
       "        <td style=\"padding-left: 1em; padding-right: 1em; text-align: center; vertical-align: top\">1.4</td>\n",
       "        <td style=\"padding-left: 1em; padding-right: 1em; text-align: center; vertical-align: top\">79</td>\n",
       "    </tr>\n",
       "    <tr>\n",
       "        <td style=\"padding-left: 1em; padding-right: 1em; text-align: center; vertical-align: top\">1.9</td>\n",
       "        <td style=\"padding-left: 1em; padding-right: 1em; text-align: center; vertical-align: top\">153</td>\n",
       "    </tr>\n",
       "    <tr>\n",
       "        <td style=\"padding-left: 1em; padding-right: 1em; text-align: center; vertical-align: top\">1.7</td>\n",
       "        <td style=\"padding-left: 1em; padding-right: 1em; text-align: center; vertical-align: top\">130</td>\n",
       "    </tr>\n",
       "    <tr>\n",
       "        <td style=\"padding-left: 1em; padding-right: 1em; text-align: center; vertical-align: top\">3.2</td>\n",
       "        <td style=\"padding-left: 1em; padding-right: 1em; text-align: center; vertical-align: top\">2034</td>\n",
       "    </tr>\n",
       "    <tr>\n",
       "        <td style=\"padding-left: 1em; padding-right: 1em; text-align: center; vertical-align: top\">3.7</td>\n",
       "        <td style=\"padding-left: 1em; padding-right: 1em; text-align: center; vertical-align: top\">2929</td>\n",
       "    </tr>\n",
       "    <tr>\n",
       "        <td style=\"padding-left: 1em; padding-right: 1em; text-align: center; vertical-align: top\">2.0</td>\n",
       "        <td style=\"padding-left: 1em; padding-right: 1em; text-align: center; vertical-align: top\">298</td>\n",
       "    </tr>\n",
       "    <tr>\n",
       "        <td style=\"padding-left: 1em; padding-right: 1em; text-align: center; vertical-align: top\">3.6</td>\n",
       "        <td style=\"padding-left: 1em; padding-right: 1em; text-align: center; vertical-align: top\">3619</td>\n",
       "    </tr>\n",
       "</table>\n",
       "[10 rows x 2 columns]<br/>\n",
       "</div>"
      ],
      "text/plain": [
       "Columns:\n",
       "\tmean_rating\tfloat\n",
       "\titem_count\tint\n",
       "\n",
       "Rows: 10\n",
       "\n",
       "Data:\n",
       "+-------------+------------+\n",
       "| mean_rating | item_count |\n",
       "+-------------+------------+\n",
       "|     2.4     |    519     |\n",
       "|     2.2     |    424     |\n",
       "|     4.2     |    7745    |\n",
       "|     1.4     |     79     |\n",
       "|     1.9     |    153     |\n",
       "|     1.7     |    130     |\n",
       "|     3.2     |    2034    |\n",
       "|     3.7     |    2929    |\n",
       "|     2.0     |    298     |\n",
       "|     3.6     |    3619    |\n",
       "+-------------+------------+\n",
       "[10 rows x 2 columns]"
      ]
     },
     "execution_count": 46,
     "metadata": {},
     "output_type": "execute_result"
    }
   ],
   "source": [
    "category_itm_rat_ten_count = category_itm_rat_ten.groupby(key_columns='mean_rating',\n",
    "                               operations={\n",
    "                                       'item_count': agg.COUNT('itemId'),\n",
    "                               })\n",
    "category_itm_rat_ten_count.head()"
   ]
  },
  {
   "cell_type": "code",
   "execution_count": 47,
   "metadata": {
    "collapsed": false
   },
   "outputs": [
    {
     "data": {
      "application/vnd.plotly.v1+json": {
       "data": [
        {
         "type": "bar",
         "x": [
          2.4,
          2.2,
          4.2,
          1.4,
          1.9,
          1.7,
          3.2,
          3.7,
          2,
          3.6,
          3.9,
          2.1,
          4.8,
          1.3,
          3.1,
          4,
          1.6,
          4.7,
          3,
          1.8,
          2.5,
          3.8,
          4.5,
          2.7,
          4.9,
          2.8,
          4.3,
          1.5,
          4.1,
          3.3,
          1.2,
          2.3,
          4.4,
          1,
          2.9,
          5,
          3.4,
          3.5,
          2.6,
          4.6,
          1.1
         ],
         "y": [
          519,
          424,
          7745,
          79,
          153,
          130,
          2034,
          2929,
          298,
          3619,
          3638,
          258,
          9337,
          36,
          1114,
          6002,
          127,
          6406,
          1485,
          231,
          495,
          4693,
          6569,
          660,
          5708,
          1084,
          5680,
          68,
          4770,
          1618,
          58,
          340,
          8582,
          71,
          890,
          9242,
          2743,
          2176,
          779,
          9709,
          19
         ]
        }
       ],
       "layout": {
        "title": "Average rating distribution of the Users, who gave 10 ratings",
        "xaxis": {
         "autotick": false,
         "tickfont": {
          "color": "black",
          "family": "Old Standard TT, serif",
          "size": 10
         },
         "ticks": "outside",
         "title": "Average Rating"
        },
        "yaxis": {
         "title": "Item Count"
        }
       }
      },
      "text/html": [
       "<div id=\"55623400-e2e3-4bc0-889b-5ad884d58d2d\" style=\"height: 525px; width: 100%;\" class=\"plotly-graph-div\"></div><script type=\"text/javascript\">require([\"plotly\"], function(Plotly) { window.PLOTLYENV=window.PLOTLYENV || {};window.PLOTLYENV.BASE_URL=\"https://plot.ly\";Plotly.newPlot(\"55623400-e2e3-4bc0-889b-5ad884d58d2d\", [{\"y\": [519, 424, 7745, 79, 153, 130, 2034, 2929, 298, 3619, 3638, 258, 9337, 36, 1114, 6002, 127, 6406, 1485, 231, 495, 4693, 6569, 660, 5708, 1084, 5680, 68, 4770, 1618, 58, 340, 8582, 71, 890, 9242, 2743, 2176, 779, 9709, 19], \"x\": [2.4, 2.2, 4.2, 1.4, 1.9, 1.7, 3.2, 3.7, 2.0, 3.6, 3.9, 2.1, 4.8, 1.3, 3.1, 4.0, 1.6, 4.7, 3.0, 1.8, 2.5, 3.8, 4.5, 2.7, 4.9, 2.8, 4.3, 1.5, 4.1, 3.3, 1.2, 2.3, 4.4, 1.0, 2.9, 5.0, 3.4, 3.5, 2.6, 4.6, 1.1], \"type\": \"bar\"}], {\"title\": \"Average rating distribution of the Users, who gave 10 ratings\", \"xaxis\": {\"tickfont\": {\"color\": \"black\", \"family\": \"Old Standard TT, serif\", \"size\": 10}, \"autotick\": false, \"ticks\": \"outside\", \"title\": \"Average Rating\"}, \"yaxis\": {\"title\": \"Item Count\"}}, {\"linkText\": \"Export to plot.ly\", \"showLink\": true})});</script>"
      ],
      "text/vnd.plotly.v1+html": [
       "<div id=\"55623400-e2e3-4bc0-889b-5ad884d58d2d\" style=\"height: 525px; width: 100%;\" class=\"plotly-graph-div\"></div><script type=\"text/javascript\">require([\"plotly\"], function(Plotly) { window.PLOTLYENV=window.PLOTLYENV || {};window.PLOTLYENV.BASE_URL=\"https://plot.ly\";Plotly.newPlot(\"55623400-e2e3-4bc0-889b-5ad884d58d2d\", [{\"y\": [519, 424, 7745, 79, 153, 130, 2034, 2929, 298, 3619, 3638, 258, 9337, 36, 1114, 6002, 127, 6406, 1485, 231, 495, 4693, 6569, 660, 5708, 1084, 5680, 68, 4770, 1618, 58, 340, 8582, 71, 890, 9242, 2743, 2176, 779, 9709, 19], \"x\": [2.4, 2.2, 4.2, 1.4, 1.9, 1.7, 3.2, 3.7, 2.0, 3.6, 3.9, 2.1, 4.8, 1.3, 3.1, 4.0, 1.6, 4.7, 3.0, 1.8, 2.5, 3.8, 4.5, 2.7, 4.9, 2.8, 4.3, 1.5, 4.1, 3.3, 1.2, 2.3, 4.4, 1.0, 2.9, 5.0, 3.4, 3.5, 2.6, 4.6, 1.1], \"type\": \"bar\"}], {\"title\": \"Average rating distribution of the Users, who gave 10 ratings\", \"xaxis\": {\"tickfont\": {\"color\": \"black\", \"family\": \"Old Standard TT, serif\", \"size\": 10}, \"autotick\": false, \"ticks\": \"outside\", \"title\": \"Average Rating\"}, \"yaxis\": {\"title\": \"Item Count\"}}, {\"linkText\": \"Export to plot.ly\", \"showLink\": true})});</script>"
      ]
     },
     "metadata": {},
     "output_type": "display_data"
    }
   ],
   "source": [
    "category_itm_rat_ten_count = category_itm_rat_ten_count.to_dataframe()\n",
    "data_dist4 = [Bar(x=category_itm_rat_ten_count.mean_rating,\n",
    "            y=category_itm_rat_ten_count.item_count)]\n",
    "\n",
    "layout4 = Layout(title=\"Average rating distribution of the Users, who gave 10 ratings\",\n",
    "                xaxis=dict(title='Average Rating',tickfont=dict(\n",
    "                family='Old Standard TT, serif',\n",
    "                size=10,\n",
    "                color='black'\n",
    "                ),autotick=False,\n",
    "                ticks='outside'),\n",
    "                yaxis=dict(title='Item Count'))\n",
    "fig4 = Figure(data=data_dist4, layout=layout4)\n",
    "plotly.offline.iplot(fig4, filename='jupyter/basic_bar')"
   ]
  },
  {
   "cell_type": "code",
   "execution_count": null,
   "metadata": {
    "collapsed": true
   },
   "outputs": [],
   "source": []
  }
 ],
 "metadata": {
  "anaconda-cloud": {},
  "kernelspec": {
   "display_name": "Python [Root]",
   "language": "python",
   "name": "Python [Root]"
  },
  "language_info": {
   "codemirror_mode": {
    "name": "ipython",
    "version": 3
   },
   "file_extension": ".py",
   "mimetype": "text/x-python",
   "name": "python",
   "nbconvert_exporter": "python",
   "pygments_lexer": "ipython3",
   "version": "3.5.2"
  }
 },
 "nbformat": 4,
 "nbformat_minor": 0
}
