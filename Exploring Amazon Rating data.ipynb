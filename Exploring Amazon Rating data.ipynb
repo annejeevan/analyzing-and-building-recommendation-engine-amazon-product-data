{
 "cells": [
  {
   "cell_type": "code",
   "execution_count": null,
   "metadata": {
    "scrolled": true
   },
   "outputs": [],
   "source": [
    "#importing libraries\n",
    "import graphlab as gl\n",
    "import datetime as dt\n",
    "import graphlab.aggregate as agg\n",
    "import sys\n",
    "import plotly.tools as tls\n",
    "import plotly.plotly\n",
    "import plotly\n",
    "plotly.offline.init_notebook_mode()\n",
    "from plotly.graph_objs import *\n",
    "import pandas as pd\n",
    "import numpy as np\n",
    "import os\n",
    "import re"
   ]
  },
  {
   "cell_type": "code",
   "execution_count": null,
   "metadata": {},
   "outputs": [],
   "source": [
    "#changing the path to path where data is residing\n",
    "print os.getcwd()\n",
    "current_path = \"<path of the data need to be updated if used>\"\n",
    "os.chdir(current_path)\n",
    "print os.getcwd()"
   ]
  },
  {
   "cell_type": "code",
   "execution_count": null,
   "metadata": {},
   "outputs": [],
   "source": [
    "#list of file names - in this list of all the amazon electronic data\n",
    "files = os.listdir(current_path)"
   ]
  },
  {
   "cell_type": "code",
   "execution_count": null,
   "metadata": {},
   "outputs": [],
   "source": [
    "#length of the file\n",
    "print len(files)"
   ]
  },
  {
   "cell_type": "code",
   "execution_count": null,
   "metadata": {
    "collapsed": true
   },
   "outputs": [],
   "source": [
    "#concatenating all the files\n",
    "count = 1\n",
    "for file in files:\n",
    "    category = re.search(r'ratings_(.*).csv',file)\n",
    "    if count > 1 and count <= 24 :\n",
    "        temp = gl.SFrame.read_csv(file,header=False,\n",
    "                                                    column_type_hints={ 'X1':str, 'X2':str, 'X3':float, 'X4':long})\n",
    "        temp.rename({'X1': 'userId', 'X2':'itemId','X3': 'rating', 'X4':'timestamp'})\n",
    "        temp['timestamp'] = temp['timestamp'].astype(dt.datetime)\n",
    "        temp['category'] = category.group(1)\n",
    "        data = data.append(temp)\n",
    "    else:\n",
    "        data=gl.SFrame.read_csv(file,header=False,\n",
    "                                     column_type_hints={ 'X1':str, 'X2':str, 'X3':float, 'X4':long})\n",
    "        data.rename({'X1': 'userId', 'X2':'itemId','X3': 'rating', 'X4':'timestamp'})\n",
    "        data['timestamp'] = data['timestamp'].astype(dt.datetime)\n",
    "        data['category'] = category.group(1)\n",
    "        \n",
    "    count += 1\n",
    "    "
   ]
  },
  {
   "cell_type": "code",
   "execution_count": null,
   "metadata": {
    "collapsed": true
   },
   "outputs": [],
   "source": [
    "len(data)"
   ]
  },
  {
   "cell_type": "code",
   "execution_count": null,
   "metadata": {},
   "outputs": [],
   "source": [
    "#first few rows of the data\n",
    "data.head()"
   ]
  },
  {
   "cell_type": "markdown",
   "metadata": {
    "collapsed": true
   },
   "source": [
    "#  Comparison of Average Ratings per Category"
   ]
  },
  {
   "cell_type": "code",
   "execution_count": null,
   "metadata": {
    "collapsed": true
   },
   "outputs": [],
   "source": [
    "category_avg_distribution = data.groupby(key_columns='category',\n",
    "                               operations={\n",
    "                                   'mean_rating': agg.MEAN('rating')\n",
    "                               })"
   ]
  },
  {
   "cell_type": "code",
   "execution_count": null,
   "metadata": {
    "collapsed": true
   },
   "outputs": [],
   "source": [
    "category_avg_distribution['mean_rating'] = category_avg_distribution.apply(lambda x: round(x['mean_rating'],2))\n",
    "#converting SFrame to dataframe\n",
    "category_avg_distribution = category_avg_distribution.to_dataframe()"
   ]
  },
  {
   "cell_type": "code",
   "execution_count": null,
   "metadata": {
    "collapsed": true
   },
   "outputs": [],
   "source": [
    "data_dist = [Bar(x=category_avg_distribution.category,\n",
    "            y=category_avg_distribution.mean_rating)]\n",
    "\n",
    "layout = Layout(title=\"Average rating distribution across all product categories\",\n",
    "                xaxis=dict(title='Product Categories',tickfont=dict(\n",
    "                family='Old Standard TT, serif',\n",
    "                size=8,\n",
    "                color='black'\n",
    "                ),autotick=False,\n",
    "                ticks='outside'),\n",
    "                yaxis=dict(title='Average Rating'))\n",
    "fig = Figure(data=data_dist, layout=layout)"
   ]
  },
  {
   "cell_type": "code",
   "execution_count": null,
   "metadata": {
    "collapsed": true
   },
   "outputs": [],
   "source": [
    "plotly.offline.iplot(fig, filename='jupyter/basic_bar')"
   ]
  },
  {
   "cell_type": "markdown",
   "metadata": {
    "collapsed": true
   },
   "source": [
    "#  Distribution of Average Ratings per User – 5 ratings, 10 ratings"
   ]
  },
  {
   "cell_type": "code",
   "execution_count": null,
   "metadata": {
    "collapsed": true
   },
   "outputs": [],
   "source": [
    "category_usr_rat_count = data.groupby(key_columns='userId',\n",
    "                               operations={\n",
    "                                       'rating_count': agg.COUNT('rating'),\n",
    "                                        'mean_rating': agg.MEAN('rating')\n",
    "                               })"
   ]
  },
  {
   "cell_type": "code",
   "execution_count": null,
   "metadata": {
    "collapsed": true
   },
   "outputs": [],
   "source": [
    "category_usr_rat_five = category_usr_rat_count[category_usr_rat_count['rating_count'] == 5]"
   ]
  },
  {
   "cell_type": "code",
   "execution_count": null,
   "metadata": {
    "collapsed": true
   },
   "outputs": [],
   "source": [
    "len(category_usr_rat_five)"
   ]
  },
  {
   "cell_type": "code",
   "execution_count": null,
   "metadata": {
    "collapsed": true
   },
   "outputs": [],
   "source": [
    "category_usr_rat_five.head()"
   ]
  },
  {
   "cell_type": "code",
   "execution_count": null,
   "metadata": {
    "collapsed": true
   },
   "outputs": [],
   "source": [
    "category_usr_rat_five_count = category_usr_rat_five.groupby(key_columns='mean_rating',\n",
    "                               operations={\n",
    "                                       'user_count': agg.COUNT('userId'),\n",
    "                               })"
   ]
  },
  {
   "cell_type": "code",
   "execution_count": null,
   "metadata": {
    "collapsed": true
   },
   "outputs": [],
   "source": [
    "category_usr_rat_five_count.head()"
   ]
  },
  {
   "cell_type": "code",
   "execution_count": null,
   "metadata": {
    "collapsed": true
   },
   "outputs": [],
   "source": [
    "category_usr_rat_five_count = category_usr_rat_five_count.to_dataframe()"
   ]
  },
  {
   "cell_type": "code",
   "execution_count": null,
   "metadata": {
    "collapsed": true
   },
   "outputs": [],
   "source": [
    "data_dist1 = [Bar(x=category_usr_rat_five_count.mean_rating,\n",
    "            y=category_usr_rat_five_count.user_count)]\n",
    "\n",
    "layout1 = Layout(title=\"Average rating distribution of the Users, who gave 5 ratings\",\n",
    "                xaxis=dict(title='Average Rating',tickfont=dict(\n",
    "                family='Old Standard TT, serif',\n",
    "                size=10,\n",
    "                color='black'\n",
    "                ),autotick=False,\n",
    "                ticks='outside'),\n",
    "                yaxis=dict(title='User Count'))\n",
    "fig1 = Figure(data=data_dist1, layout=layout1)"
   ]
  },
  {
   "cell_type": "code",
   "execution_count": null,
   "metadata": {
    "collapsed": true
   },
   "outputs": [],
   "source": [
    "plotly.offline.iplot(fig1, filename='jupyter/basic_bar')"
   ]
  },
  {
   "cell_type": "code",
   "execution_count": null,
   "metadata": {
    "collapsed": true
   },
   "outputs": [],
   "source": [
    "category_usr_rat_ten = category_usr_rat_count[category_usr_rat_count['rating_count'] == 10]"
   ]
  },
  {
   "cell_type": "code",
   "execution_count": null,
   "metadata": {
    "collapsed": true
   },
   "outputs": [],
   "source": [
    "len(category_usr_rat_ten)"
   ]
  },
  {
   "cell_type": "code",
   "execution_count": null,
   "metadata": {
    "collapsed": true
   },
   "outputs": [],
   "source": [
    "category_usr_rat_ten.head()"
   ]
  },
  {
   "cell_type": "code",
   "execution_count": null,
   "metadata": {
    "collapsed": true
   },
   "outputs": [],
   "source": [
    "category_usr_rat_ten_count = category_usr_rat_ten.groupby(key_columns='mean_rating',\n",
    "                               operations={\n",
    "                                       'user_count': agg.COUNT('userId'),\n",
    "                               })\n",
    "category_usr_rat_ten_count.head()"
   ]
  },
  {
   "cell_type": "code",
   "execution_count": null,
   "metadata": {
    "collapsed": true
   },
   "outputs": [],
   "source": [
    "category_usr_rat_ten_count = category_usr_rat_ten_count.to_dataframe()\n",
    "data_dist2 = [Bar(x=category_usr_rat_ten_count.mean_rating,\n",
    "            y=category_usr_rat_ten_count.user_count)]\n",
    "\n",
    "layout2 = Layout(title=\"Average rating distribution of the Users, who gave 10 ratings\",\n",
    "                xaxis=dict(title='Average Rating',tickfont=dict(\n",
    "                family='Old Standard TT, serif',\n",
    "                size=10,\n",
    "                color='black'\n",
    "                ),autotick=False,\n",
    "                ticks='outside'),\n",
    "                yaxis=dict(title='User Count'))\n",
    "fig2 = Figure(data=data_dist2, layout=layout2)"
   ]
  },
  {
   "cell_type": "code",
   "execution_count": null,
   "metadata": {
    "collapsed": true
   },
   "outputs": [],
   "source": [
    "plotly.offline.iplot(fig2, filename='jupyter/basic_bar')"
   ]
  },
  {
   "cell_type": "markdown",
   "metadata": {},
   "source": [
    "# Distribution of Average Ratings per Item"
   ]
  },
  {
   "cell_type": "code",
   "execution_count": null,
   "metadata": {
    "collapsed": true
   },
   "outputs": [],
   "source": [
    "category_itm_rat_count = data.groupby(key_columns='itemId',\n",
    "                               operations={\n",
    "                                       'rating_count': agg.COUNT('rating'),\n",
    "                                        'mean_rating': agg.MEAN('rating')\n",
    "                               })"
   ]
  },
  {
   "cell_type": "code",
   "execution_count": null,
   "metadata": {
    "collapsed": true
   },
   "outputs": [],
   "source": [
    "category_itm_rat_count['mean_rating'] = category_itm_rat_count.apply(lambda x: round(x['mean_rating'],2))\n",
    "category_itm_rat_count.head()"
   ]
  },
  {
   "cell_type": "code",
   "execution_count": null,
   "metadata": {
    "collapsed": true
   },
   "outputs": [],
   "source": [
    "category_itm_rat_five = category_itm_rat_count[category_itm_rat_count['rating_count'] == 5]\n",
    "print len(category_itm_rat_five)\n",
    "category_itm_rat_five.head()"
   ]
  },
  {
   "cell_type": "code",
   "execution_count": null,
   "metadata": {
    "collapsed": true
   },
   "outputs": [],
   "source": [
    "category_itm_rat_five_count = category_itm_rat_five.groupby(key_columns='mean_rating',\n",
    "                               operations={\n",
    "                                       'item_count': agg.COUNT('itemId'),\n",
    "                               })\n",
    "category_itm_rat_five_count.head()"
   ]
  },
  {
   "cell_type": "code",
   "execution_count": null,
   "metadata": {
    "collapsed": true
   },
   "outputs": [],
   "source": [
    "category_itm_rat_five_count = category_itm_rat_five_count.to_dataframe()\n",
    "data_dist3 = [Bar(x=category_itm_rat_five_count.mean_rating,\n",
    "            y=category_itm_rat_five_count.item_count)]\n",
    "\n",
    "layout3 = Layout(title=\"Average rating distribution of the items, which are having 5 ratings\",\n",
    "                xaxis=dict(title='Average Rating',tickfont=dict(\n",
    "                family='Old Standard TT, serif',\n",
    "                size=10,\n",
    "                color='black'\n",
    "                ),autotick=False,\n",
    "                ticks='outside'),\n",
    "                yaxis=dict(title='Item Count'))\n",
    "fig3 = Figure(data=data_dist3, layout=layout3)\n",
    "plotly.offline.iplot(fig3, filename='jupyter/basic_bar')"
   ]
  },
  {
   "cell_type": "code",
   "execution_count": null,
   "metadata": {
    "collapsed": true
   },
   "outputs": [],
   "source": [
    "category_itm_rat_ten = category_itm_rat_count[category_itm_rat_count['rating_count'] == 10]\n",
    "len(category_itm_rat_ten)\n",
    "category_itm_rat_ten.head()"
   ]
  },
  {
   "cell_type": "code",
   "execution_count": null,
   "metadata": {
    "collapsed": true
   },
   "outputs": [],
   "source": [
    "category_itm_rat_ten_count = category_itm_rat_ten.groupby(key_columns='mean_rating',\n",
    "                               operations={\n",
    "                                       'item_count': agg.COUNT('itemId'),\n",
    "                               })\n",
    "category_itm_rat_ten_count.head()"
   ]
  },
  {
   "cell_type": "code",
   "execution_count": null,
   "metadata": {
    "collapsed": true
   },
   "outputs": [],
   "source": [
    "category_itm_rat_ten_count = category_itm_rat_ten_count.to_dataframe()\n",
    "data_dist4 = [Bar(x=category_itm_rat_ten_count.mean_rating,\n",
    "            y=category_itm_rat_ten_count.item_count)]\n",
    "\n",
    "layout4 = Layout(title=\"Average rating distribution of the Users, who gave 10 ratings\",\n",
    "                xaxis=dict(title='Average Rating',tickfont=dict(\n",
    "                family='Old Standard TT, serif',\n",
    "                size=10,\n",
    "                color='black'\n",
    "                ),autotick=False,\n",
    "                ticks='outside'),\n",
    "                yaxis=dict(title='Item Count'))\n",
    "fig4 = Figure(data=data_dist4, layout=layout4)\n",
    "plotly.offline.iplot(fig4, filename='jupyter/basic_bar')"
   ]
  },
  {
   "cell_type": "code",
   "execution_count": null,
   "metadata": {
    "collapsed": true
   },
   "outputs": [],
   "source": []
  }
 ],
 "metadata": {
  "anaconda-cloud": {},
  "kernelspec": {
   "display_name": "Python 2",
   "language": "python",
   "name": "python2"
  },
  "language_info": {
   "codemirror_mode": {
    "name": "ipython",
    "version": 2
   },
   "file_extension": ".py",
   "mimetype": "text/x-python",
   "name": "python",
   "nbconvert_exporter": "python",
   "pygments_lexer": "ipython2",
   "version": "2.7.13"
  }
 },
 "nbformat": 4,
 "nbformat_minor": 1
}
